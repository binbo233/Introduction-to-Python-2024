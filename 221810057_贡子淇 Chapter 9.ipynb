{
 "cells": [
  {
   "cell_type": "markdown",
   "id": "28aac1f2",
   "metadata": {},
   "source": [
    "# 9.1 创建和使用类"
   ]
  },
  {
   "cell_type": "markdown",
   "id": "c3ac56bc",
   "metadata": {},
   "source": [
    "# 9.1.1 创建Dog类"
   ]
  },
  {
   "cell_type": "code",
   "execution_count": 1,
   "id": "6a96d9e4",
   "metadata": {},
   "outputs": [],
   "source": [
    "class Dog:\n",
    "    \"\"\"一次模拟小狗的简单尝试\"\"\"\n",
    "    \n",
    "    def __init__(self, name, age):\n",
    "        \"\"\"初始化属性name和age\"\"\"\n",
    "        self.name = name\n",
    "        self.age = age\n",
    "        \n",
    "    def sit(self):\n",
    "        \"\"\"模拟小狗收到命令时坐下\"\"\"\n",
    "        print(f\"{self.name} is now setting.\")\n",
    "        \n",
    "    def roll_over(self):\n",
    "        \"\"\"模拟小狗收到命令时打滚\"\"\"\n",
    "        print(f\"{self.name} rolled over.\")"
   ]
  },
  {
   "cell_type": "markdown",
   "id": "0eb68ee7",
   "metadata": {},
   "source": [
    "# 9.1.2 根据类创建实例"
   ]
  },
  {
   "cell_type": "code",
   "execution_count": 2,
   "id": "9956c5a0",
   "metadata": {},
   "outputs": [
    {
     "name": "stdout",
     "output_type": "stream",
     "text": [
      "My dog's name is Willie.\n",
      "My dog is 6 years old.\n"
     ]
    }
   ],
   "source": [
    "class Dog:\n",
    "    \"\"\"一次模拟小狗的简单尝试\"\"\"\n",
    "    \n",
    "    def __init__(self, name, age):\n",
    "        \"\"\"初始化属性name和age\"\"\"\n",
    "        self.name = name\n",
    "        self.age = age\n",
    "        \n",
    "    def sit(self):\n",
    "        \"\"\"模拟小狗收到命令时坐下\"\"\"\n",
    "        print(f\"{self.name} is now setting.\")\n",
    "        \n",
    "    def roll_over(self):\n",
    "        \"\"\"模拟小狗收到命令时打滚\"\"\"\n",
    "        print(f\"{self.name} rolled over.\")\n",
    "        \n",
    "my_dog = Dog('Willie', 6)\n",
    "print(f\"My dog's name is {my_dog.name}.\")\n",
    "print(f\"My dog is {my_dog.age} years old.\")"
   ]
  },
  {
   "cell_type": "code",
   "execution_count": 5,
   "id": "c3951181",
   "metadata": {},
   "outputs": [
    {
     "data": {
      "text/plain": [
       "'Willie'"
      ]
     },
     "execution_count": 5,
     "metadata": {},
     "output_type": "execute_result"
    }
   ],
   "source": [
    "class Dog:\n",
    "    \"\"\"一次模拟小狗的简单尝试\"\"\"\n",
    "    \n",
    "    def __init__(self, name, age):\n",
    "        \"\"\"初始化属性name和age\"\"\"\n",
    "        self.name = name\n",
    "        self.age = age\n",
    "        \n",
    "    def sit(self):\n",
    "        \"\"\"模拟小狗收到命令时坐下\"\"\"\n",
    "        print(f\"{self.name} is now setting.\")\n",
    "        \n",
    "    def roll_over(self):\n",
    "        \"\"\"模拟小狗收到命令时打滚\"\"\"\n",
    "        print(f\"{self.name} rolled over.\")\n",
    "        \n",
    "my_dog = Dog('Willie', 6)\n",
    "my_dog.name"
   ]
  },
  {
   "cell_type": "code",
   "execution_count": 6,
   "id": "f88c9cb9",
   "metadata": {},
   "outputs": [
    {
     "name": "stdout",
     "output_type": "stream",
     "text": [
      "Willie is now setting.\n",
      "Willie rolled over.\n"
     ]
    }
   ],
   "source": [
    "class Dog:\n",
    "    \"\"\"一次模拟小狗的简单尝试\"\"\"\n",
    "    \n",
    "    def __init__(self, name, age):\n",
    "        \"\"\"初始化属性name和age\"\"\"\n",
    "        self.name = name\n",
    "        self.age = age\n",
    "        \n",
    "    def sit(self):\n",
    "        \"\"\"模拟小狗收到命令时坐下\"\"\"\n",
    "        print(f\"{self.name} is now setting.\")\n",
    "        \n",
    "    def roll_over(self):\n",
    "        \"\"\"模拟小狗收到命令时打滚\"\"\"\n",
    "        print(f\"{self.name} rolled over.\")\n",
    "        \n",
    "my_dog = Dog('Willie', 6)\n",
    "my_dog.sit()\n",
    "my_dog.roll_over()"
   ]
  },
  {
   "cell_type": "code",
   "execution_count": 7,
   "id": "c2049366",
   "metadata": {},
   "outputs": [
    {
     "name": "stdout",
     "output_type": "stream",
     "text": [
      "My dog's name is Willie.\n",
      "My dog is 6 years old.\n",
      "Willie is now setting.\n",
      "\n",
      "Your dog's name is Lucy.\n",
      "Your dog is 3 years old.\n",
      "Lucy is now setting.\n"
     ]
    }
   ],
   "source": [
    "class Dog:\n",
    "    \"\"\"一次模拟小狗的简单尝试\"\"\"\n",
    "    \n",
    "    def __init__(self, name, age):\n",
    "        \"\"\"初始化属性name和age\"\"\"\n",
    "        self.name = name\n",
    "        self.age = age\n",
    "        \n",
    "    def sit(self):\n",
    "        \"\"\"模拟小狗收到命令时坐下\"\"\"\n",
    "        print(f\"{self.name} is now setting.\")\n",
    "        \n",
    "    def roll_over(self):\n",
    "        \"\"\"模拟小狗收到命令时打滚\"\"\"\n",
    "        print(f\"{self.name} rolled over.\")\n",
    "        \n",
    "my_dog = Dog('Willie', 6)\n",
    "your_dog = Dog('Lucy', 3)\n",
    "\n",
    "print(f\"My dog's name is {my_dog.name}.\")\n",
    "print(f\"My dog is {my_dog.age} years old.\")\n",
    "my_dog.sit()\n",
    "\n",
    "print(f\"\\nYour dog's name is {your_dog.name}.\")\n",
    "print(f\"Your dog is {your_dog.age} years old.\")\n",
    "your_dog.sit()"
   ]
  },
  {
   "cell_type": "markdown",
   "id": "0bd2e690",
   "metadata": {},
   "source": [
    "# 9.2 使用类和实例"
   ]
  },
  {
   "cell_type": "markdown",
   "id": "717b9aa2",
   "metadata": {},
   "source": [
    "# 9.2.1 Car类"
   ]
  },
  {
   "cell_type": "code",
   "execution_count": 8,
   "id": "c45c1ac3",
   "metadata": {},
   "outputs": [
    {
     "name": "stdout",
     "output_type": "stream",
     "text": [
      "2024 Audi A4\n"
     ]
    }
   ],
   "source": [
    "class Car:\n",
    "    \"\"\"一次模拟汽车的简单尝试\"\"\"\n",
    "    \n",
    "    def __init__(self, make, model, year):\n",
    "        \"\"\"初始化描述汽车的属性\"\"\"\n",
    "        self.make = make\n",
    "        self.model = model\n",
    "        self.year = year\n",
    "        \n",
    "    def get_descriptive_name(self):\n",
    "        \"\"\"返回格式规范的描述性信息\"\"\"\n",
    "        long_name = f\"{self.year} {self.make} {self.model}\"\n",
    "        return long_name.title()\n",
    "    \n",
    "my_new_car = Car('audi', 'a4', '2024')\n",
    "print(my_new_car.get_descriptive_name())"
   ]
  },
  {
   "cell_type": "markdown",
   "id": "801b45d6",
   "metadata": {},
   "source": [
    "# 9.2.2 给属性指定默认值"
   ]
  },
  {
   "cell_type": "code",
   "execution_count": 10,
   "id": "22716eec",
   "metadata": {},
   "outputs": [
    {
     "name": "stdout",
     "output_type": "stream",
     "text": [
      "2024 Audi A4\n",
      "This car has 0 miles on it.\n"
     ]
    }
   ],
   "source": [
    "class Car:\n",
    "    \"\"\"一次模拟汽车的简单尝试\"\"\"\n",
    "    \n",
    "    def __init__(self, make, model, year):\n",
    "        \"\"\"初始化描述汽车的属性\"\"\"\n",
    "        self.make = make\n",
    "        self.model = model\n",
    "        self.year = year\n",
    "        self.odometer_reading = 0\n",
    "        \n",
    "    def get_descriptive_name(self):\n",
    "        \"\"\"返回格式规范的描述性信息\"\"\"\n",
    "        long_name = f\"{self.year} {self.make} {self.model}\"\n",
    "        return long_name.title()\n",
    "    \n",
    "    def read_odometer(self):\n",
    "        \"\"\"打印一条指出汽车行驶里程的消息\"\"\"\n",
    "        print(f\"This car has {self.odometer_reading} miles on it.\")\n",
    "    \n",
    "my_new_car = Car('audi', 'a4', '2024')\n",
    "print(my_new_car.get_descriptive_name())\n",
    "my_new_car.read_odometer()"
   ]
  },
  {
   "cell_type": "markdown",
   "id": "1f72a6aa",
   "metadata": {},
   "source": [
    "# 9.2.3 修改属性的值"
   ]
  },
  {
   "cell_type": "code",
   "execution_count": 11,
   "id": "5db09ea5",
   "metadata": {},
   "outputs": [
    {
     "name": "stdout",
     "output_type": "stream",
     "text": [
      "2024 Audi A4\n",
      "This car has 23 miles on it.\n"
     ]
    }
   ],
   "source": [
    "class Car:\n",
    "    \"\"\"一次模拟汽车的简单尝试\"\"\"\n",
    "    \n",
    "    def __init__(self, make, model, year):\n",
    "        \"\"\"初始化描述汽车的属性\"\"\"\n",
    "        self.make = make\n",
    "        self.model = model\n",
    "        self.year = year\n",
    "        self.odometer_reading = 0\n",
    "        \n",
    "    def get_descriptive_name(self):\n",
    "        \"\"\"返回格式规范的描述性信息\"\"\"\n",
    "        long_name = f\"{self.year} {self.make} {self.model}\"\n",
    "        return long_name.title()\n",
    "    \n",
    "    def read_odometer(self):\n",
    "        \"\"\"打印一条指出汽车行驶里程的消息\"\"\"\n",
    "        print(f\"This car has {self.odometer_reading} miles on it.\")\n",
    "    \n",
    "my_new_car = Car('audi', 'a4', '2024')\n",
    "print(my_new_car.get_descriptive_name())\n",
    "\n",
    "my_new_car.odometer_reading = 23\n",
    "my_new_car.read_odometer()"
   ]
  },
  {
   "cell_type": "code",
   "execution_count": 12,
   "id": "7ab082c5",
   "metadata": {},
   "outputs": [
    {
     "name": "stdout",
     "output_type": "stream",
     "text": [
      "2024 Audi A4\n",
      "This car has 23 miles on it.\n"
     ]
    }
   ],
   "source": [
    "class Car:\n",
    "    \"\"\"一次模拟汽车的简单尝试\"\"\"\n",
    "    \n",
    "    def __init__(self, make, model, year):\n",
    "        \"\"\"初始化描述汽车的属性\"\"\"\n",
    "        self.make = make\n",
    "        self.model = model\n",
    "        self.year = year\n",
    "        self.odometer_reading = 0\n",
    "        \n",
    "    def get_descriptive_name(self):\n",
    "        \"\"\"返回格式规范的描述性信息\"\"\"\n",
    "        long_name = f\"{self.year} {self.make} {self.model}\"\n",
    "        return long_name.title()\n",
    "    \n",
    "    def read_odometer(self):\n",
    "        \"\"\"打印一条指出汽车行驶里程的消息\"\"\"\n",
    "        print(f\"This car has {self.odometer_reading} miles on it.\")\n",
    "        \n",
    "    def update_odometer(self, mileage):\n",
    "        \"\"\"将里程表读数设置为指定的值\"\"\"\n",
    "        self.odometer_reading = mileage\n",
    "    \n",
    "my_new_car = Car('audi', 'a4', '2024')\n",
    "print(my_new_car.get_descriptive_name())\n",
    "\n",
    "my_new_car.update_odometer(23)\n",
    "my_new_car.read_odometer()"
   ]
  },
  {
   "cell_type": "code",
   "execution_count": 13,
   "id": "b0e2db13",
   "metadata": {},
   "outputs": [
    {
     "name": "stdout",
     "output_type": "stream",
     "text": [
      "2024 Audi A4\n",
      "This car has 23 miles on it.\n"
     ]
    }
   ],
   "source": [
    "class Car:\n",
    "    \"\"\"一次模拟汽车的简单尝试\"\"\"\n",
    "    \n",
    "    def __init__(self, make, model, year):\n",
    "        \"\"\"初始化描述汽车的属性\"\"\"\n",
    "        self.make = make\n",
    "        self.model = model\n",
    "        self.year = year\n",
    "        self.odometer_reading = 0\n",
    "        \n",
    "    def get_descriptive_name(self):\n",
    "        \"\"\"返回格式规范的描述性信息\"\"\"\n",
    "        long_name = f\"{self.year} {self.make} {self.model}\"\n",
    "        return long_name.title()\n",
    "    \n",
    "    def read_odometer(self):\n",
    "        \"\"\"打印一条指出汽车行驶里程的消息\"\"\"\n",
    "        print(f\"This car has {self.odometer_reading} miles on it.\")\n",
    "        \n",
    "    def update_odometer(self, mileage):\n",
    "        \"\"\"\n",
    "        将里程表读数设置为指定的值\n",
    "        禁止将里程表读数往回调\n",
    "        \"\"\"\n",
    "        if mileage >= self.odometer_reading:\n",
    "            self.odometer_reading = mileage\n",
    "        else:\n",
    "            print(\"You cannot roll back an odometer!\")\n",
    "    \n",
    "my_new_car = Car('audi', 'a4', '2024')\n",
    "print(my_new_car.get_descriptive_name())\n",
    "\n",
    "my_new_car.update_odometer(23)\n",
    "my_new_car.read_odometer()"
   ]
  },
  {
   "cell_type": "code",
   "execution_count": 14,
   "id": "12b9b069",
   "metadata": {},
   "outputs": [
    {
     "name": "stdout",
     "output_type": "stream",
     "text": [
      "2019 Subaru Outback\n",
      "This car has 23500 miles on it.\n",
      "This car has 23600 miles on it.\n"
     ]
    }
   ],
   "source": [
    "class Car:\n",
    "    \"\"\"一次模拟汽车的简单尝试\"\"\"\n",
    "    \n",
    "    def __init__(self, make, model, year):\n",
    "        \"\"\"初始化描述汽车的属性\"\"\"\n",
    "        self.make = make\n",
    "        self.model = model\n",
    "        self.year = year\n",
    "        self.odometer_reading = 0\n",
    "        \n",
    "    def get_descriptive_name(self):\n",
    "        \"\"\"返回格式规范的描述性信息\"\"\"\n",
    "        long_name = f\"{self.year} {self.make} {self.model}\"\n",
    "        return long_name.title()\n",
    "    \n",
    "    def read_odometer(self):\n",
    "        \"\"\"打印一条指出汽车行驶里程的消息\"\"\"\n",
    "        print(f\"This car has {self.odometer_reading} miles on it.\")\n",
    "        \n",
    "    def update_odometer(self, mileage):\n",
    "        \"\"\"\n",
    "        将里程表读数设置为指定的值\n",
    "        禁止将里程表读数往回调\n",
    "        \"\"\"\n",
    "        if mileage >= self.odometer_reading:\n",
    "            self.odometer_reading = mileage\n",
    "        else:\n",
    "            print(\"You cannot roll back an odometer!\")\n",
    "            \n",
    "    def increment_odometer(self, miles):\n",
    "        \"\"\"让里程表读数增加指定的量\"\"\"\n",
    "        self.odometer_reading += miles\n",
    "        \n",
    "my_used_car = Car('subaru', 'outback', 2019)\n",
    "print(my_used_car.get_descriptive_name())\n",
    "\n",
    "my_used_car.update_odometer(23500)\n",
    "my_used_car.read_odometer()\n",
    "\n",
    "my_used_car.increment_odometer(100)\n",
    "my_used_car.read_odometer()"
   ]
  },
  {
   "cell_type": "markdown",
   "id": "ec76a020",
   "metadata": {},
   "source": [
    "# 9.3  继承"
   ]
  },
  {
   "cell_type": "markdown",
   "id": "5e346e3f",
   "metadata": {},
   "source": [
    "# 9.3.1 子类的__init__()方法"
   ]
  },
  {
   "cell_type": "code",
   "execution_count": 15,
   "id": "68cab80c",
   "metadata": {},
   "outputs": [
    {
     "name": "stdout",
     "output_type": "stream",
     "text": [
      "2024 Nissan Leaf\n"
     ]
    }
   ],
   "source": [
    "class Car:\n",
    "    \"\"\"一次模拟汽车的简单尝试\"\"\"\n",
    "    \n",
    "    def __init__(self, make, model, year):\n",
    "        \"\"\"初始化描述汽车的属性\"\"\"\n",
    "        self.make = make\n",
    "        self.model = model\n",
    "        self.year = year\n",
    "        self.odometer_reading = 0\n",
    "        \n",
    "    def get_descriptive_name(self):\n",
    "        \"\"\"返回格式规范的描述性信息\"\"\"\n",
    "        long_name = f\"{self.year} {self.make} {self.model}\"\n",
    "        return long_name.title()\n",
    "    \n",
    "    def read_odometer(self):\n",
    "        \"\"\"打印一条指出汽车行驶里程的消息\"\"\"\n",
    "        print(f\"This car has {self.odometer_reading} miles on it.\")\n",
    "        \n",
    "    def update_odometer(self, mileage):\n",
    "        \"\"\"\n",
    "        将里程表读数设置为指定的值\n",
    "        禁止将里程表读数往回调\n",
    "        \"\"\"\n",
    "        if mileage >= self.odometer_reading:\n",
    "            self.odometer_reading = mileage\n",
    "        else:\n",
    "            print(\"You cannot roll back an odometer!\")\n",
    "            \n",
    "    def increment_odometer(self, miles):\n",
    "        \"\"\"让里程表读数增加指定的量\"\"\"\n",
    "        self.odometer_reading += miles\n",
    "        \n",
    "class ElectricCar(Car):\n",
    "    \"\"\"电动汽车的独特之处\"\"\"\n",
    "    \n",
    "    def __init__(self, make, model, year):\n",
    "        \"\"\"初始化父类的属性\"\"\"\n",
    "        super().__init__(make, model, year)\n",
    "        \n",
    "my_leaf = ElectricCar('nissan', 'leaf', 2024)\n",
    "print(my_leaf.get_descriptive_name())"
   ]
  },
  {
   "cell_type": "markdown",
   "id": "f1117f8c",
   "metadata": {},
   "source": [
    "# 9.3.2 给子类定义属性和方法"
   ]
  },
  {
   "cell_type": "code",
   "execution_count": 16,
   "id": "46583af4",
   "metadata": {},
   "outputs": [
    {
     "name": "stdout",
     "output_type": "stream",
     "text": [
      "2024 Nissan Leaf\n",
      "This car has a 40-kwh battery.\n"
     ]
    }
   ],
   "source": [
    "class Car:\n",
    "    \"\"\"一次模拟汽车的简单尝试\"\"\"\n",
    "    \n",
    "    def __init__(self, make, model, year):\n",
    "        \"\"\"初始化描述汽车的属性\"\"\"\n",
    "        self.make = make\n",
    "        self.model = model\n",
    "        self.year = year\n",
    "        self.odometer_reading = 0\n",
    "        \n",
    "    def get_descriptive_name(self):\n",
    "        \"\"\"返回格式规范的描述性信息\"\"\"\n",
    "        long_name = f\"{self.year} {self.make} {self.model}\"\n",
    "        return long_name.title()\n",
    "    \n",
    "    def read_odometer(self):\n",
    "        \"\"\"打印一条指出汽车行驶里程的消息\"\"\"\n",
    "        print(f\"This car has {self.odometer_reading} miles on it.\")\n",
    "        \n",
    "    def update_odometer(self, mileage):\n",
    "        \"\"\"\n",
    "        将里程表读数设置为指定的值\n",
    "        禁止将里程表读数往回调\n",
    "        \"\"\"\n",
    "        if mileage >= self.odometer_reading:\n",
    "            self.odometer_reading = mileage\n",
    "        else:\n",
    "            print(\"You cannot roll back an odometer!\")\n",
    "            \n",
    "    def increment_odometer(self, miles):\n",
    "        \"\"\"让里程表读数增加指定的量\"\"\"\n",
    "        self.odometer_reading += miles\n",
    "        \n",
    "class ElectricCar(Car):\n",
    "    \"\"\"电动汽车的独特之处\"\"\"\n",
    "    \n",
    "    def __init__(self, make, model, year):\n",
    "        \"\"\"\n",
    "        先初始化父类的属性，再初始化电动汽车特有的属性\n",
    "        \"\"\"\n",
    "        super().__init__(make, model, year)\n",
    "        self.battery_size = 40\n",
    "        \n",
    "    def describe_battery(self):\n",
    "        \"\"\"打印一条描述电池容量的消息\"\"\"\n",
    "        print(f\"This car has a {self.battery_size}-kwh battery.\")\n",
    "    \n",
    "my_leaf = ElectricCar('nissan', 'leaf', 2024)\n",
    "print(my_leaf.get_descriptive_name())\n",
    "my_leaf.describe_battery()"
   ]
  },
  {
   "cell_type": "markdown",
   "id": "be252207",
   "metadata": {},
   "source": [
    "# 9.3.3 重写父类中的方法"
   ]
  },
  {
   "cell_type": "code",
   "execution_count": 1,
   "id": "49f7586f",
   "metadata": {},
   "outputs": [],
   "source": [
    "class Car:\n",
    "    \"\"\"一次模拟汽车的简单尝试\"\"\"\n",
    "    \n",
    "    def __init__(self, make, model, year):\n",
    "        \"\"\"初始化描述汽车的属性\"\"\"\n",
    "        self.make = make\n",
    "        self.model = model\n",
    "        self.year = year\n",
    "        self.odometer_reading = 0\n",
    "        \n",
    "    def get_descriptive_name(self):\n",
    "        \"\"\"返回格式规范的描述性信息\"\"\"\n",
    "        long_name = f\"{self.year} {self.make} {self.model}\"\n",
    "        return long_name.title()\n",
    "    \n",
    "    def read_odometer(self):\n",
    "        \"\"\"打印一条指出汽车行驶里程的消息\"\"\"\n",
    "        print(f\"This car has {self.odometer_reading} miles on it.\")\n",
    "        \n",
    "    def update_odometer(self, mileage):\n",
    "        \"\"\"\n",
    "        将里程表读数设置为指定的值\n",
    "        禁止将里程表读数往回调\n",
    "        \"\"\"\n",
    "        if mileage >= self.odometer_reading:\n",
    "            self.odometer_reading = mileage\n",
    "        else:\n",
    "            print(\"You cannot roll back an odometer!\")\n",
    "            \n",
    "    def increment_odometer(self, miles):\n",
    "        \"\"\"让里程表读数增加指定的量\"\"\"\n",
    "        self.odometer_reading += miles\n",
    "        \n",
    "class ElectricCar(Car):\n",
    "    \"\"\"电动汽车的独特之处\"\"\"\n",
    "    \n",
    "    def __init__(self, make, model, year):\n",
    "        \"\"\"\n",
    "        先初始化父类的属性，再初始化电动汽车特有的属性\n",
    "        \"\"\"\n",
    "        super().__init__(make, model, year)\n",
    "        self.battery_size = 40\n",
    "        \n",
    "    def describe_battery(self):\n",
    "        \"\"\"打印一条描述电池容量的消息\"\"\"\n",
    "        print(f\"This car has a {self.battery_size}-kwh battery.\")\n",
    "        \n",
    "    def fill_gas_tank(self):\n",
    "        \"\"\"电动车没有油箱\"\"\"\n",
    "        print(\"This car doesn't have a gas tank!\")"
   ]
  },
  {
   "cell_type": "markdown",
   "id": "45431abf",
   "metadata": {},
   "source": [
    "# 9.3.4 将实例用作属性"
   ]
  },
  {
   "cell_type": "code",
   "execution_count": 4,
   "id": "4b929d96",
   "metadata": {},
   "outputs": [
    {
     "name": "stdout",
     "output_type": "stream",
     "text": [
      "2024 Nissan Leaf\n",
      "This car has a 40-kwh battery.\n"
     ]
    }
   ],
   "source": [
    "class Car:\n",
    "    \"\"\"一次模拟汽车的简单尝试\"\"\"\n",
    "    \n",
    "    def __init__(self, make, model, year):\n",
    "        \"\"\"初始化描述汽车的属性\"\"\"\n",
    "        self.make = make\n",
    "        self.model = model\n",
    "        self.year = year\n",
    "        self.odometer_reading = 0\n",
    "        \n",
    "    def get_descriptive_name(self):\n",
    "        \"\"\"返回格式规范的描述性信息\"\"\"\n",
    "        long_name = f\"{self.year} {self.make} {self.model}\"\n",
    "        return long_name.title()\n",
    "    \n",
    "    def read_odometer(self):\n",
    "        \"\"\"打印一条指出汽车行驶里程的消息\"\"\"\n",
    "        print(f\"This car has {self.odometer_reading} miles on it.\")\n",
    "        \n",
    "    def update_odometer(self, mileage):\n",
    "        \"\"\"\n",
    "        将里程表读数设置为指定的值\n",
    "        禁止将里程表读数往回调\n",
    "        \"\"\"\n",
    "        if mileage >= self.odometer_reading:\n",
    "            self.odometer_reading = mileage\n",
    "        else:\n",
    "            print(\"You cannot roll back an odometer!\")\n",
    "            \n",
    "    def increment_odometer(self, miles):\n",
    "        \"\"\"让里程表读数增加指定的量\"\"\"\n",
    "        self.odometer_reading += miles\n",
    "        \n",
    "class Battery:\n",
    "    \"\"\"一次模拟电动汽车电池的简单尝试\"\"\"\n",
    "    \n",
    "    def __init__(self, battery_size=40):\n",
    "        \"\"\"初始化电池的属性\"\"\"\n",
    "        self.battery_size = battery_size\n",
    "        \n",
    "    def describe_battery(self):\n",
    "        \"\"\"打印一条描述电池容量的消息\"\"\"\n",
    "        print(f\"This car has a {self.battery_size}-kwh battery.\")\n",
    "    \n",
    "class ElectricCar(Car):\n",
    "    \"\"\"电动汽车的独特之处\"\"\"\n",
    "    \n",
    "    def __init__(self, make, model, year):\n",
    "        \"\"\"\n",
    "        先初始化父类的属性，再初始化电动汽车特有的属性\n",
    "        \"\"\"\n",
    "        super().__init__(make, model, year)\n",
    "        self.battery = Battery()\n",
    "        \n",
    "my_leaf = ElectricCar('nissan', 'leaf', 2024)\n",
    "print(my_leaf.get_descriptive_name())\n",
    "my_leaf.battery.describe_battery()"
   ]
  },
  {
   "cell_type": "code",
   "execution_count": 5,
   "id": "6083af4b",
   "metadata": {},
   "outputs": [
    {
     "name": "stdout",
     "output_type": "stream",
     "text": [
      "2024 Nissan Leaf\n",
      "This car has a 40-kwh battery.\n",
      "This car can go about 150 miles on a full charge.\n"
     ]
    }
   ],
   "source": [
    "class Car:\n",
    "    \"\"\"一次模拟汽车的简单尝试\"\"\"\n",
    "    \n",
    "    def __init__(self, make, model, year):\n",
    "        \"\"\"初始化描述汽车的属性\"\"\"\n",
    "        self.make = make\n",
    "        self.model = model\n",
    "        self.year = year\n",
    "        self.odometer_reading = 0\n",
    "        \n",
    "    def get_descriptive_name(self):\n",
    "        \"\"\"返回格式规范的描述性信息\"\"\"\n",
    "        long_name = f\"{self.year} {self.make} {self.model}\"\n",
    "        return long_name.title()\n",
    "    \n",
    "    def read_odometer(self):\n",
    "        \"\"\"打印一条指出汽车行驶里程的消息\"\"\"\n",
    "        print(f\"This car has {self.odometer_reading} miles on it.\")\n",
    "        \n",
    "    def update_odometer(self, mileage):\n",
    "        \"\"\"\n",
    "        将里程表读数设置为指定的值\n",
    "        禁止将里程表读数往回调\n",
    "        \"\"\"\n",
    "        if mileage >= self.odometer_reading:\n",
    "            self.odometer_reading = mileage\n",
    "        else:\n",
    "            print(\"You cannot roll back an odometer!\")\n",
    "            \n",
    "    def increment_odometer(self, miles):\n",
    "        \"\"\"让里程表读数增加指定的量\"\"\"\n",
    "        self.odometer_reading += miles\n",
    "        \n",
    "class Battery:\n",
    "    \"\"\"一次模拟电动汽车电池的简单尝试\"\"\"\n",
    "    \n",
    "    def __init__(self, battery_size=40):\n",
    "        \"\"\"初始化电池的属性\"\"\"\n",
    "        self.battery_size = battery_size\n",
    "        \n",
    "    def describe_battery(self):\n",
    "        \"\"\"打印一条描述电池容量的消息\"\"\"\n",
    "        print(f\"This car has a {self.battery_size}-kwh battery.\")\n",
    "        \n",
    "    def get_range(self):\n",
    "        \"\"\"打印一条消息，指出电池的续航里程\"\"\"\n",
    "        if self.battery_size == 40:\n",
    "            range = 150\n",
    "        elif self.battery_size == 65:\n",
    "            range = 225\n",
    "        print(f\"This car can go about {range} miles on a full charge.\")\n",
    "    \n",
    "    \n",
    "class ElectricCar(Car):\n",
    "    \"\"\"电动汽车的独特之处\"\"\"\n",
    "    \n",
    "    def __init__(self, make, model, year):\n",
    "        \"\"\"\n",
    "        先初始化父类的属性，再初始化电动汽车特有的属性\n",
    "        \"\"\"\n",
    "        super().__init__(make, model, year)\n",
    "        self.battery = Battery()\n",
    "        \n",
    "my_leaf = ElectricCar('nissan', 'leaf', 2024)\n",
    "print(my_leaf.get_descriptive_name())\n",
    "my_leaf.battery.describe_battery()\n",
    "my_leaf.battery.get_range()"
   ]
  },
  {
   "cell_type": "markdown",
   "id": "24639fd6",
   "metadata": {},
   "source": [
    "# 9.4 导入类"
   ]
  },
  {
   "cell_type": "markdown",
   "id": "0f63420b",
   "metadata": {},
   "source": [
    "# 9.4.1 导入单个类"
   ]
  },
  {
   "cell_type": "code",
   "execution_count": 6,
   "id": "a8c552d1",
   "metadata": {},
   "outputs": [
    {
     "name": "stdout",
     "output_type": "stream",
     "text": [
      "2024 Audi A4\n",
      "This car has 23 miles on it.\n"
     ]
    }
   ],
   "source": [
    "from car import Car\n",
    "\n",
    "my_new_car = Car('audi', 'a4', 2024)\n",
    "print(my_new_car.get_descriptive_name())\n",
    "\n",
    "my_new_car.odometer_reading = 23\n",
    "my_new_car.read_odometer()"
   ]
  },
  {
   "cell_type": "markdown",
   "id": "fab2a45c",
   "metadata": {},
   "source": [
    "# 9.4.2 在一个模块中存储多个类"
   ]
  },
  {
   "cell_type": "code",
   "execution_count": 1,
   "id": "4ac05e47",
   "metadata": {},
   "outputs": [
    {
     "name": "stdout",
     "output_type": "stream",
     "text": [
      "2024 Nissan Leaf\n",
      "This car has a 40-kwh battery.\n",
      "This car can go about 150 miles on a full charge.\n"
     ]
    }
   ],
   "source": [
    "from car import ElectricCar\n",
    "\n",
    "my_leaf = ElectricCar('nissan', 'leaf', 2024)\n",
    "print(my_leaf.get_descriptive_name())\n",
    "my_leaf.battery.describe_battery()\n",
    "my_leaf.battery.get_range()"
   ]
  },
  {
   "cell_type": "markdown",
   "id": "756ae69f",
   "metadata": {},
   "source": [
    "# 9.4.3 从一个模块导入多个类"
   ]
  },
  {
   "cell_type": "code",
   "execution_count": 2,
   "id": "37e72d3d",
   "metadata": {},
   "outputs": [
    {
     "name": "stdout",
     "output_type": "stream",
     "text": [
      "2024 Ford Mutang\n",
      "2024 Nissan Leaf\n"
     ]
    }
   ],
   "source": [
    "from car import Car, ElectricCar\n",
    "\n",
    "my_mustang = Car('ford', 'mutang', 2024)\n",
    "print(my_mustang.get_descriptive_name())\n",
    "my_leaf = ElectricCar('nissan', 'leaf', 2024)\n",
    "print(my_leaf.get_descriptive_name())"
   ]
  },
  {
   "cell_type": "markdown",
   "id": "12204440",
   "metadata": {},
   "source": [
    "# 9.4.4 导入整个模块"
   ]
  },
  {
   "cell_type": "code",
   "execution_count": 3,
   "id": "c6699948",
   "metadata": {},
   "outputs": [
    {
     "name": "stdout",
     "output_type": "stream",
     "text": [
      "2024 Ford Mutang\n",
      "2024 Nissan Leaf\n"
     ]
    }
   ],
   "source": [
    "import car\n",
    "\n",
    "my_mustang = Car('ford', 'mutang', 2024)\n",
    "print(my_mustang.get_descriptive_name())\n",
    "\n",
    "my_leaf = ElectricCar('nissan', 'leaf', 2024)\n",
    "print(my_leaf.get_descriptive_name())"
   ]
  },
  {
   "cell_type": "markdown",
   "id": "226355c6",
   "metadata": {},
   "source": [
    "# 9.4.5 导入模块中的所有类"
   ]
  },
  {
   "cell_type": "code",
   "execution_count": 5,
   "id": "015b1bd9",
   "metadata": {},
   "outputs": [],
   "source": [
    "#语法\n",
    "#from module_name import *"
   ]
  },
  {
   "cell_type": "markdown",
   "id": "bce91ac6",
   "metadata": {},
   "source": [
    "# 9.4.6  在一个模块中导入另一个模块"
   ]
  },
  {
   "cell_type": "code",
   "execution_count": 6,
   "id": "8b886a96",
   "metadata": {},
   "outputs": [
    {
     "name": "stdout",
     "output_type": "stream",
     "text": [
      "2024 Ford Mutang\n",
      "2024 Nissan Leaf\n"
     ]
    }
   ],
   "source": [
    "from car import Car\n",
    "from electric_car import ElectricCar\n",
    "\n",
    "my_mustang = Car('ford', 'mutang', 2024)\n",
    "print(my_mustang.get_descriptive_name())\n",
    "\n",
    "my_leaf = ElectricCar('nissan', 'leaf', 2024)\n",
    "print(my_leaf.get_descriptive_name())"
   ]
  },
  {
   "cell_type": "markdown",
   "id": "c7ef08fa",
   "metadata": {},
   "source": [
    "# 9.4.7 使用别名"
   ]
  },
  {
   "cell_type": "code",
   "execution_count": 7,
   "id": "9f2f6f11",
   "metadata": {},
   "outputs": [
    {
     "name": "stdout",
     "output_type": "stream",
     "text": [
      "2024 Nissan Leaf\n"
     ]
    }
   ],
   "source": [
    "from electric_car import ElectricCar as EC\n",
    "\n",
    "my_leaf = EC('nissan', 'leaf', 2024)\n",
    "print(my_leaf.get_descriptive_name())"
   ]
  },
  {
   "cell_type": "code",
   "execution_count": 8,
   "id": "1ab8d94f",
   "metadata": {},
   "outputs": [
    {
     "name": "stdout",
     "output_type": "stream",
     "text": [
      "2024 Nissan Leaf\n"
     ]
    }
   ],
   "source": [
    "import electric_car as ec\n",
    "\n",
    "my_leaf = ec.ElectricCar('nissan', 'leaf', 2024)\n",
    "print(my_leaf.get_descriptive_name())"
   ]
  },
  {
   "cell_type": "markdown",
   "id": "4424f684",
   "metadata": {},
   "source": [
    "# 9.5 Python标准库"
   ]
  },
  {
   "cell_type": "code",
   "execution_count": 9,
   "id": "f49e55cd",
   "metadata": {},
   "outputs": [
    {
     "data": {
      "text/plain": [
       "6"
      ]
     },
     "execution_count": 9,
     "metadata": {},
     "output_type": "execute_result"
    }
   ],
   "source": [
    "from random import randint\n",
    "randint(1,6)"
   ]
  },
  {
   "cell_type": "code",
   "execution_count": 10,
   "id": "ba77b757",
   "metadata": {},
   "outputs": [
    {
     "data": {
      "text/plain": [
       "'martina'"
      ]
     },
     "execution_count": 10,
     "metadata": {},
     "output_type": "execute_result"
    }
   ],
   "source": [
    "from random import choice\n",
    "players = ['charles', 'martina', 'florence', 'eli']\n",
    "first_up = choice(players)\n",
    "first_up"
   ]
  }
 ],
 "metadata": {
  "kernelspec": {
   "display_name": "Python 3 (ipykernel)",
   "language": "python",
   "name": "python3"
  },
  "language_info": {
   "codemirror_mode": {
    "name": "ipython",
    "version": 3
   },
   "file_extension": ".py",
   "mimetype": "text/x-python",
   "name": "python",
   "nbconvert_exporter": "python",
   "pygments_lexer": "ipython3",
   "version": "3.11.5"
  }
 },
 "nbformat": 4,
 "nbformat_minor": 5
}
