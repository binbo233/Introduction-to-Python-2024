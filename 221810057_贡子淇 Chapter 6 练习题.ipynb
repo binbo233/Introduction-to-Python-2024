{
 "cells": [
  {
   "cell_type": "markdown",
   "id": "8ee1e60a",
   "metadata": {},
   "source": [
    "# 练习 6.1：人"
   ]
  },
  {
   "cell_type": "code",
   "execution_count": 1,
   "id": "b532edc2",
   "metadata": {},
   "outputs": [
    {
     "name": "stdout",
     "output_type": "stream",
     "text": [
      "Ziqi\n",
      "Gong\n",
      "20\n",
      "Danyang\n"
     ]
    }
   ],
   "source": [
    "#使用字典来存储一个人的信息，包括名、姓、年龄和居住的城市\n",
    "people = {'first_name': 'Ziqi', 'last_name': 'Gong', 'age': 20, 'city': 'Danyang'}\n",
    "#打印个人信息\n",
    "print(people['first_name'])\n",
    "print(people['last_name'])\n",
    "print(people['age'])\n",
    "print(people['city'])"
   ]
  },
  {
   "cell_type": "markdown",
   "id": "93b004e9",
   "metadata": {},
   "source": [
    "# 练习 6.2：喜欢的数 1"
   ]
  },
  {
   "cell_type": "code",
   "execution_count": 1,
   "id": "0bbd3581",
   "metadata": {},
   "outputs": [
    {
     "name": "stdout",
     "output_type": "stream",
     "text": [
      "Tom likes 1.\n",
      "Jack likes 2.\n",
      "Jim likes 3.\n",
      "Eric likes 6.\n",
      "Kitty likes 6.\n"
     ]
    }
   ],
   "source": [
    "favorite_number = {'Tom': 1, 'Jack': 2, 'Jim': 3, 'Eric': 6, 'Kitty': 6}\n",
    "for name, number in favorite_number.items():\n",
    "    print(f\"{name} likes {number}.\")"
   ]
  },
  {
   "cell_type": "markdown",
   "id": "44785ade",
   "metadata": {},
   "source": [
    "# 练习 6.3：词汇表 1"
   ]
  },
  {
   "cell_type": "code",
   "execution_count": 3,
   "id": "d870057c",
   "metadata": {},
   "outputs": [
    {
     "name": "stdout",
     "output_type": "stream",
     "text": [
      ".title(): 首字母大写\n",
      ".upper(): 全部大写\n",
      ".lower(): 全部小写\n",
      ".rstrip(): 移除右端空白\n",
      ".lstrip(): 移除左端空白\n"
     ]
    }
   ],
   "source": [
    "#编程术语用作词汇表中的键，它们的含义作为值存储在词汇表中\n",
    "meaning = {'.title()': '首字母大写', '.upper()': '全部大写', '.lower()': '全部小写', '.rstrip()': '移除右端空白', '.lstrip()': '移除左端空白'}\n",
    "for key, value in meaning.items():\n",
    "    print(f\"{key}: {value}\")"
   ]
  },
  {
   "cell_type": "markdown",
   "id": "9030aaac",
   "metadata": {},
   "source": [
    "# 练习 6.4：词汇表 2"
   ]
  },
  {
   "cell_type": "code",
   "execution_count": 4,
   "id": "da9a4c65",
   "metadata": {},
   "outputs": [
    {
     "name": "stdout",
     "output_type": "stream",
     "text": [
      ".title(): 首字母大写\n",
      ".upper(): 全部大写\n",
      ".lower(): 全部小写\n",
      ".rstrip(): 移除右端空白\n",
      ".lstrip(): 移除左端空白\n",
      "==: 判断两个值是否相等\n",
      "!=: 判断两个值是否不相等\n",
      "and: 布尔运算：和\n",
      "or: 布尔运算：或\n",
      "not: 布尔运算：非\n"
     ]
    }
   ],
   "source": [
    "#编程术语用作词汇表中的键，它们的含义作为值存储在词汇表中\n",
    "meaning = {'.title()': '首字母大写', '.upper()': '全部大写', '.lower()': '全部小写', '.rstrip()': '移除右端空白', '.lstrip()': '移除左端空白'}\n",
    "meaning['=='] = '判断两个值是否相等'\n",
    "meaning['!='] = '判断两个值是否不相等'\n",
    "meaning['and'] = '布尔运算：和'\n",
    "meaning['or'] = '布尔运算：或'\n",
    "meaning['not'] = '布尔运算：非'\n",
    "\n",
    "for key, value in meaning.items():\n",
    "    print(f\"{key}: {value}\")"
   ]
  },
  {
   "cell_type": "markdown",
   "id": "71a369b1",
   "metadata": {},
   "source": [
    "# 练习 6.5：河流"
   ]
  },
  {
   "cell_type": "code",
   "execution_count": 6,
   "id": "c6cf0b41",
   "metadata": {},
   "outputs": [
    {
     "name": "stdout",
     "output_type": "stream",
     "text": [
      "The Nile runs through Egypt.\n",
      "The Amazon runs through Brazil.\n",
      "The Yangtze River runs through China.\n",
      "\n",
      "Rivers:\n",
      "Nile\n",
      "Amazon\n",
      "Yangtze River\n",
      "\n",
      "Countries:\n",
      "Egypt\n",
      "Brazil\n",
      "China\n"
     ]
    }
   ],
   "source": [
    "#创建一个字典，在其中存储三条河流及其流经的国家\n",
    "rivers = {'nile': 'egypt', 'amazon': 'brazil', 'yangtze river': 'china'}\n",
    "#使用循环为每条河流打印一条消息\n",
    "for key, value in rivers.items():\n",
    "    print(f\"The {key.title()} runs through {value.title()}.\")\n",
    "\n",
    "#使用循环将该字典中每条河流的名字打印出来\n",
    "print(f\"\\nRivers:\")\n",
    "for key in rivers.keys():\n",
    "    print(key.title())\n",
    "    \n",
    " #使用循环将该字典包含的每个国家的名字打印出来\n",
    "print(f\"\\nCountries:\")\n",
    "for value in rivers.values():\n",
    "    print(value.title())"
   ]
  },
  {
   "cell_type": "markdown",
   "id": "17c2c214",
   "metadata": {},
   "source": [
    "# 练习 6.6：调查"
   ]
  },
  {
   "cell_type": "code",
   "execution_count": 8,
   "id": "15bb0796",
   "metadata": {},
   "outputs": [
    {
     "name": "stdout",
     "output_type": "stream",
     "text": [
      "Thank you, Jen!\n",
      "Thank you, Sarah!\n",
      "Welcome to take part in our survey, Tom!\n",
      "Welcome to take part in our survey, Jack!\n"
     ]
    }
   ],
   "source": [
    "favorite_languages = {\n",
    "    'jen': 'python',\n",
    "    'sarah': 'c',\n",
    "    'edward': 'rust',\n",
    "    'phil': 'python',\n",
    "    }\n",
    "\n",
    "persons = ['jen', 'sarah','tom','jack']\n",
    "#对于已参与调查的人，打印一条消息表示感谢；对于还未参与调查的人，打印一条邀请参加调查的消息\n",
    "for person in persons:\n",
    "    if person in favorite_languages.keys():\n",
    "        print(f\"Thank you, {person.title()}!\")\n",
    "    else:\n",
    "        print(f\"Welcome to take part in our survey, {person.title()}!\")"
   ]
  },
  {
   "cell_type": "markdown",
   "id": "b555a4e8",
   "metadata": {},
   "source": [
    "# 练习 6.7：人们"
   ]
  },
  {
   "cell_type": "code",
   "execution_count": 9,
   "id": "9e48cd81",
   "metadata": {},
   "outputs": [
    {
     "name": "stdout",
     "output_type": "stream",
     "text": [
      "{'first_name': 'Ziqi', 'last_name': 'Gong', 'age': 20, 'city': 'Danyang'}\n",
      "{'first_name': 'Youlong', 'last_name': 'Huang', 'age': 20, 'city': 'Dinxi'}\n",
      "{'first_name': 'Wei', 'last_name': 'Si', 'age': 20, 'city': 'Lingbi'}\n"
     ]
    }
   ],
   "source": [
    "people_0 = {'first_name': 'Ziqi', 'last_name': 'Gong', 'age': 20, 'city': 'Danyang'}\n",
    "people_1 = {'first_name': 'Youlong', 'last_name': 'Huang', 'age': 20, 'city': 'Dinxi'}\n",
    "people_2 = {'first_name': 'Wei', 'last_name': 'Si', 'age': 20, 'city': 'Lingbi'}\n",
    "#将这三个字典都存储在一个名为 people 的列表中\n",
    "people = [people_0, people_1, people_2]\n",
    "\n",
    "#将其中每个人的所有信息都打印出来\n",
    "for person in people:\n",
    "    print(person)"
   ]
  },
  {
   "cell_type": "markdown",
   "id": "bd0d48e1",
   "metadata": {},
   "source": [
    "# 练习 6.8：宠物"
   ]
  },
  {
   "cell_type": "code",
   "execution_count": 10,
   "id": "bb4c2faa",
   "metadata": {},
   "outputs": [
    {
     "name": "stdout",
     "output_type": "stream",
     "text": [
      "{'kind': 'dog', 'master': 'Tom'}\n",
      "{'kind': 'cat', 'master': 'Jack'}\n",
      "{'kind': 'bird', 'master': 'Helen'}\n"
     ]
    }
   ],
   "source": [
    "#每个字典都包含宠物的类型及其主人的名字\n",
    "pet_0 = {'kind': 'dog', 'master': 'Tom'}\n",
    "pet_1 = {'kind': 'cat', 'master': 'Jack'}\n",
    "pet_2 = {'kind': 'bird', 'master': 'Helen'}\n",
    "\n",
    "#将这些字典存储在一个名为 pets 的列表中\n",
    "pets = [pet_0, pet_1, pet_2]\n",
    "#将有关每个宠物的所有信息打印出来\n",
    "for pet in pets:\n",
    "    print(pet)"
   ]
  },
  {
   "cell_type": "markdown",
   "id": "187f7ca6",
   "metadata": {},
   "source": [
    "# 练习 6.9：喜欢的地方"
   ]
  },
  {
   "cell_type": "code",
   "execution_count": 12,
   "id": "45d54e2a",
   "metadata": {},
   "outputs": [
    {
     "name": "stdout",
     "output_type": "stream",
     "text": [
      "\n",
      "Tom's favorite place(s) :\n",
      "\tShanghai\n",
      "\tBeijing\n",
      "\n",
      "Jack's favorite place(s) :\n",
      "\tNanjing\n",
      "\n",
      "John's favorite place(s) :\n",
      "\tSuzhou\n",
      "\tNanjing\n",
      "\tGansu\n"
     ]
    }
   ],
   "source": [
    "#将三个人的名字用作键，并存储每个人喜欢的 1～3 个地方\n",
    "favorite_places = {'Tom': ['Shanghai','Beijing'],\n",
    "                   'Jack': ['Nanjing'],\n",
    "                   'John': ['Suzhou','Nanjing','Gansu'],             \n",
    "    }\n",
    "\n",
    "#将其中每个人的名字及其喜欢的地方打印出来\n",
    "for name, places in favorite_places.items():\n",
    "    print(f\"\\n{name}'s favorite place(s) :\")\n",
    "    \n",
    "    for place in places:\n",
    "        print(f\"\\t{place}\")"
   ]
  },
  {
   "cell_type": "markdown",
   "id": "0637521a",
   "metadata": {},
   "source": [
    "# 练习 6.10：喜欢的数 2"
   ]
  },
  {
   "cell_type": "code",
   "execution_count": 16,
   "id": "3b8ac098",
   "metadata": {},
   "outputs": [
    {
     "name": "stdout",
     "output_type": "stream",
     "text": [
      "\n",
      "Tom :\n",
      "1\n",
      "2\n",
      "3\n",
      "\n",
      "Jack :\n",
      "2\n",
      "5\n",
      "\n",
      "Jim :\n",
      "3\n",
      "9\n",
      "10\n",
      "\n",
      "Eric :\n",
      "6\n",
      "7\n",
      "\n",
      "Kitty :\n",
      "6\n",
      "8\n",
      "9\n"
     ]
    }
   ],
   "source": [
    "favorite_numbers = {'Tom': [1,2,3],\n",
    "                   'Jack': [2,5] ,\n",
    "                   'Jim': [3,9,10] ,\n",
    "                   'Eric': [6,7] ,\n",
    "                   'Kitty': [6,8,9],\n",
    "    }\n",
    "\n",
    "#每个人的名字及其喜欢的数打印出来\n",
    "for name, numbers in favorite_numbers.items():\n",
    "    print(f\"\\n{name} :\")\n",
    "    \n",
    "    for number in numbers:\n",
    "        print(f\"{number}\")"
   ]
  },
  {
   "cell_type": "markdown",
   "id": "0a2833e8",
   "metadata": {},
   "source": [
    "# 练习 6.11：城市"
   ]
  },
  {
   "cell_type": "code",
   "execution_count": 1,
   "id": "057e77df",
   "metadata": {},
   "outputs": [
    {
     "name": "stdout",
     "output_type": "stream",
     "text": [
      "\n",
      "Beijing\n",
      "Country: China\n",
      "Population: 2185.8w\n",
      "Fact: the capital of China\n",
      "\n",
      "Shanghai\n",
      "Country: China\n",
      "Population: 2487.45w\n",
      "Fact: the economic center of China\n",
      "\n",
      "New York\n",
      "Country: America\n",
      "Population: 882.35w\n",
      "Fact: the economic center of America\n"
     ]
    }
   ],
   "source": [
    "#对于每座城市，都创建一个字典，并在其中包含该城市所属的国家、人口约数以及一个有关该城市的事实\n",
    "cities = {\n",
    "    'Beijing': {\n",
    "        'country': 'China',\n",
    "        'population': '2185.8w',\n",
    "        'fact': 'the capital of China',\n",
    "    },\n",
    "    'Shanghai': {\n",
    "        'country': 'China',\n",
    "        'population': '2487.45w',\n",
    "        'fact': 'the economic center of China',\n",
    "    },\n",
    "    'New York': {\n",
    "        'country': 'America',\n",
    "        'population': '882.35w',\n",
    "        'fact': 'the economic center of America',\n",
    "    },\n",
    "}\n",
    "\n",
    "#将每座城市的名字以及相关信息都打印出来\n",
    "for city, info in cities.items():\n",
    "    print(f\"\\n{city}\")\n",
    "    print(f\"Country: {info['country']}\")\n",
    "    print(f\"Population: {info['population']}\")\n",
    "    print(f\"Fact: {info['fact']}\")"
   ]
  },
  {
   "cell_type": "markdown",
   "id": "18328195",
   "metadata": {},
   "source": [
    "# 练习 6.12：扩展"
   ]
  },
  {
   "cell_type": "code",
   "execution_count": 2,
   "id": "53389882",
   "metadata": {},
   "outputs": [
    {
     "name": "stdout",
     "output_type": "stream",
     "text": [
      "\n",
      "Username: aeinstein\n",
      "\tFull name: Albert Einstein\n",
      "\tLocation: Princeton\n",
      "\n",
      "Username: mcurie\n",
      "\tFull name: Marie Curie\n",
      "\tLocation: Paris\n",
      "\n",
      "Username: Gong Ziqi\n",
      "\tFull name: Ziqi Gong\n",
      "\tLocation: Danyang\n"
     ]
    }
   ],
   "source": [
    "#拓展 改进\n",
    "users = {\n",
    "    'aeinstein': {\n",
    "        'first': 'albert',\n",
    "        'last': 'einstein',\n",
    "        'location': 'princeton'\n",
    "        },\n",
    "    'mcurie': {\n",
    "        'first': 'marie',\n",
    "        'last': 'curie',\n",
    "        'location': 'paris',\n",
    "        },\n",
    "    'Gong Ziqi': {\n",
    "        'first': 'Ziqi',\n",
    "        'last': 'Gong',\n",
    "        'location': 'Danyang',\n",
    "        },\n",
    "    }\n",
    "\n",
    "for username, user_info in users.items():\n",
    "    print(f\"\\nUsername: {username}\")\n",
    "    full_name = f\"{user_info['first']} {user_info['last']}\"\n",
    "    \n",
    "    print(f\"\\tFull name: {full_name.title()}\")\n",
    "    print(f\"\\tLocation: {user_info['location'].title()}\")"
   ]
  }
 ],
 "metadata": {
  "kernelspec": {
   "display_name": "Python 3 (ipykernel)",
   "language": "python",
   "name": "python3"
  },
  "language_info": {
   "codemirror_mode": {
    "name": "ipython",
    "version": 3
   },
   "file_extension": ".py",
   "mimetype": "text/x-python",
   "name": "python",
   "nbconvert_exporter": "python",
   "pygments_lexer": "ipython3",
   "version": "3.11.5"
  },
  "toc": {
   "base_numbering": 1,
   "nav_menu": {},
   "number_sections": true,
   "sideBar": true,
   "skip_h1_title": false,
   "title_cell": "Table of Contents",
   "title_sidebar": "Contents",
   "toc_cell": false,
   "toc_position": {},
   "toc_section_display": true,
   "toc_window_display": false
  }
 },
 "nbformat": 4,
 "nbformat_minor": 5
}
