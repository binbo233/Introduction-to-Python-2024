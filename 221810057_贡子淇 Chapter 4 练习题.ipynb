{
 "cells": [
  {
   "cell_type": "markdown",
   "id": "c4739aa6",
   "metadata": {},
   "source": [
    "# 练习4.1：比萨"
   ]
  },
  {
   "cell_type": "code",
   "execution_count": 2,
   "id": "cf7c6f15",
   "metadata": {},
   "outputs": [
    {
     "name": "stdout",
     "output_type": "stream",
     "text": [
      "bacon\n",
      "I like bacon pizza.\n",
      "pineapple\n",
      "I like pineapple pizza.\n",
      "squid\n",
      "I like squid pizza.\n",
      "I really love pizza!\n"
     ]
    }
   ],
   "source": [
    "kinds = ['bacon','pineapple','squid']\n",
    "for kind in kinds:\n",
    "    print(kind)\n",
    "    #为每一种比萨都打印一句话\n",
    "    print(f\"I like {kind} pizza.\")\n",
    "print(\"I really love pizza!\")"
   ]
  },
  {
   "cell_type": "markdown",
   "id": "92fc03bc",
   "metadata": {},
   "source": [
    "# 练习4.2：动物"
   ]
  },
  {
   "cell_type": "code",
   "execution_count": 3,
   "id": "3dda1092",
   "metadata": {},
   "outputs": [
    {
     "name": "stdout",
     "output_type": "stream",
     "text": [
      "dog\n",
      "A dog would make a great pet.\n",
      "cat\n",
      "A cat would make a great pet.\n",
      "bird\n",
      "A bird would make a great pet.\n",
      "Any of these animals would make a great pet!\n"
     ]
    }
   ],
   "source": [
    "animals = ['dog','cat','bird']\n",
    "for animal in animals:\n",
    "    print(animal)\n",
    "    #其针对每种动物都打印一个句子\n",
    "    print(f\"A {animal} would make a great pet.\")\n",
    "print(\"Any of these animals would make a great pet!\")"
   ]
  },
  {
   "cell_type": "markdown",
   "id": "d76f33a6",
   "metadata": {},
   "source": [
    "# 练习4.3：数到 20"
   ]
  },
  {
   "cell_type": "code",
   "execution_count": 4,
   "id": "15706309",
   "metadata": {},
   "outputs": [
    {
     "name": "stdout",
     "output_type": "stream",
     "text": [
      "1\n",
      "2\n",
      "3\n",
      "4\n",
      "5\n",
      "6\n",
      "7\n",
      "8\n",
      "9\n",
      "10\n",
      "11\n",
      "12\n",
      "13\n",
      "14\n",
      "15\n",
      "16\n",
      "17\n",
      "18\n",
      "19\n",
      "20\n"
     ]
    }
   ],
   "source": [
    "for value in range (1,21):\n",
    "    print(value)"
   ]
  },
  {
   "cell_type": "markdown",
   "id": "59d31475",
   "metadata": {},
   "source": [
    "# 练习4.4：100 万"
   ]
  },
  {
   "cell_type": "code",
   "execution_count": null,
   "id": "2c5d2a46",
   "metadata": {},
   "outputs": [],
   "source": [
    "numbers = list(range(1,1000001))\n",
    "for number in numbers:\n",
    "    print(number)\n",
    "#输出时间太长就先不运行了"
   ]
  },
  {
   "cell_type": "markdown",
   "id": "8dd29df6",
   "metadata": {},
   "source": [
    "# 练习4.5：100 万求和"
   ]
  },
  {
   "cell_type": "code",
   "execution_count": 5,
   "id": "159b8bde",
   "metadata": {},
   "outputs": [
    {
     "name": "stdout",
     "output_type": "stream",
     "text": [
      "1\n",
      "1000000\n",
      "500000500000\n"
     ]
    }
   ],
   "source": [
    "numbers = list(range(1,1000001))\n",
    "#使用 min() 和 max() 核实该列表确实是从 1 开始、到 1 000 000 结束\n",
    "print(min(numbers))\n",
    "print(max(numbers))\n",
    "\n",
    "#使用sum()来求和\n",
    "print(sum(numbers))"
   ]
  },
  {
   "cell_type": "markdown",
   "id": "6799aba8",
   "metadata": {},
   "source": [
    "# 练习4.6：奇数"
   ]
  },
  {
   "cell_type": "code",
   "execution_count": 6,
   "id": "0247f9ad",
   "metadata": {},
   "outputs": [
    {
     "name": "stdout",
     "output_type": "stream",
     "text": [
      "1\n",
      "3\n",
      "5\n",
      "7\n",
      "9\n",
      "11\n",
      "13\n",
      "15\n",
      "17\n",
      "19\n"
     ]
    }
   ],
   "source": [
    "numbers = list(range(1,21,2))\n",
    "for number in numbers:\n",
    "    print(number)"
   ]
  },
  {
   "cell_type": "markdown",
   "id": "e049cf5d",
   "metadata": {},
   "source": [
    "# 练习4.7：3 的倍数"
   ]
  },
  {
   "cell_type": "code",
   "execution_count": 7,
   "id": "1130b477",
   "metadata": {},
   "outputs": [
    {
     "name": "stdout",
     "output_type": "stream",
     "text": [
      "3\n",
      "6\n",
      "9\n",
      "12\n",
      "15\n",
      "18\n",
      "21\n",
      "24\n",
      "27\n",
      "30\n"
     ]
    }
   ],
   "source": [
    "numbers = list(range(3,31,3))\n",
    "for number in numbers:\n",
    "    print(number)"
   ]
  },
  {
   "cell_type": "markdown",
   "id": "a95c224e",
   "metadata": {},
   "source": [
    "# 练习4.8：立方"
   ]
  },
  {
   "cell_type": "code",
   "execution_count": 8,
   "id": "88045fa1",
   "metadata": {},
   "outputs": [
    {
     "name": "stdout",
     "output_type": "stream",
     "text": [
      "1\n",
      "8\n",
      "27\n",
      "64\n",
      "125\n",
      "216\n",
      "343\n",
      "512\n",
      "729\n",
      "1000\n"
     ]
    }
   ],
   "source": [
    "numbers = list(range(1,11))\n",
    "for number in numbers:\n",
    "    #2的立方用 2**3 表示\n",
    "    print(number**3)"
   ]
  },
  {
   "cell_type": "markdown",
   "id": "0626d11c",
   "metadata": {},
   "source": [
    "# 练习4.9：立方推导式"
   ]
  },
  {
   "cell_type": "code",
   "execution_count": 9,
   "id": "38c870da",
   "metadata": {},
   "outputs": [
    {
     "name": "stdout",
     "output_type": "stream",
     "text": [
      "[1, 8, 27, 64, 125, 216, 343, 512, 729, 1000]\n"
     ]
    }
   ],
   "source": [
    "numbers = [value**3 for value in range(1,11)]\n",
    "print(numbers)"
   ]
  },
  {
   "cell_type": "markdown",
   "id": "556f7dbb",
   "metadata": {},
   "source": [
    "# 练习4.10：切片"
   ]
  },
  {
   "cell_type": "code",
   "execution_count": 10,
   "id": "44d6de76",
   "metadata": {},
   "outputs": [
    {
     "name": "stdout",
     "output_type": "stream",
     "text": [
      "The first three items in this list are: [1, 2, 3].\n",
      "Three items from the middle of the lists are: [5, 6, 7].\n",
      "The first three items in this list are:[8, 9, 10].\n"
     ]
    }
   ],
   "source": [
    "numbers = list(range(1,11))\n",
    "#打印列表的前三个元素\n",
    "print(f\"The first three items in this list are: {numbers[0:3]}.\")\n",
    "#打印列表中间的三个元素\n",
    "print(f\"Three items from the middle of the lists are: {numbers[4:7]}.\")\n",
    "#打印列表末尾的三个元素\n",
    "print(f\"The first three items in this list are:{numbers[-3:]}.\")"
   ]
  },
  {
   "cell_type": "markdown",
   "id": "4359dc99",
   "metadata": {},
   "source": [
    "# 练习4.11：你的比萨，我的比萨"
   ]
  },
  {
   "cell_type": "code",
   "execution_count": 14,
   "id": "bd6881ce",
   "metadata": {},
   "outputs": [
    {
     "name": "stdout",
     "output_type": "stream",
     "text": [
      "My favorite pizzas are:\n",
      "bacon\n",
      "pineapple\n",
      "squid\n",
      "chiken\n",
      "My friend's favorite pizzas are:\n",
      "bacon\n",
      "pineapple\n",
      "squid\n",
      "apple\n"
     ]
    }
   ],
   "source": [
    "my_pizzas = ['bacon','pineapple','squid']\n",
    "#创建比萨列表的副本\n",
    "friend_pizzas = my_pizzas[:]\n",
    "\n",
    "my_pizzas.append('chiken')\n",
    "friend_pizzas.append('apple')\n",
    "\n",
    "print(\"My favorite pizzas are:\")\n",
    "for my_pizza in my_pizzas:\n",
    "    print(my_pizza)\n",
    "    \n",
    "print(\"My friend's favorite pizzas are:\")\n",
    "for friend_pizza in friend_pizzas:\n",
    "    print(friend_pizza) "
   ]
  },
  {
   "cell_type": "markdown",
   "id": "bab6caf0",
   "metadata": {},
   "source": [
    "# 练习4.12：使用多个循环"
   ]
  },
  {
   "cell_type": "code",
   "execution_count": 17,
   "id": "d83c2e25",
   "metadata": {},
   "outputs": [
    {
     "name": "stdout",
     "output_type": "stream",
     "text": [
      "My foods:\n",
      "pizza\n",
      "falafel\n",
      "carrot cake\n",
      "caccoli\n",
      "\n",
      "Friend's foods:\n",
      "pizza\n",
      "falafel\n",
      "carrort cake\n",
      "ice cream\n"
     ]
    }
   ],
   "source": [
    "my_foods = ['pizza', 'falafel','carrot cake','caccoli']\n",
    "print(\"My foods:\")\n",
    "for my_food in my_foods:\n",
    "    print(my_food)\n",
    "\n",
    "friend_foods = ['pizza','falafel','carrort cake','ice cream']\n",
    "print(\"\\nFriend's foods:\")\n",
    "for friend_food in friend_foods:\n",
    "    print(friend_food)"
   ]
  },
  {
   "cell_type": "markdown",
   "id": "64371989",
   "metadata": {},
   "source": [
    "# 练习4.13：自助餐"
   ]
  },
  {
   "cell_type": "code",
   "execution_count": 20,
   "id": "9ea60961",
   "metadata": {},
   "outputs": [
    {
     "name": "stdout",
     "output_type": "stream",
     "text": [
      "steak\n",
      "fish\n",
      "juice\n",
      "bacon\n",
      "vegetable\n"
     ]
    }
   ],
   "source": [
    "foods = ('steak', 'fish', 'juice', 'bacon', 'vegetable')\n",
    "#使用一个 for 循环将该餐馆提供的 5 种食品都打印出来\n",
    "for food in foods:\n",
    "    print(food)"
   ]
  },
  {
   "cell_type": "code",
   "execution_count": 21,
   "id": "84e2bd74",
   "metadata": {},
   "outputs": [
    {
     "ename": "TypeError",
     "evalue": "'tuple' object does not support item assignment",
     "output_type": "error",
     "traceback": [
      "\u001b[1;31m---------------------------------------------------------------------------\u001b[0m",
      "\u001b[1;31mTypeError\u001b[0m                                 Traceback (most recent call last)",
      "Cell \u001b[1;32mIn[21], line 2\u001b[0m\n\u001b[0;32m      1\u001b[0m foods \u001b[38;5;241m=\u001b[39m (\u001b[38;5;124m'\u001b[39m\u001b[38;5;124msteak\u001b[39m\u001b[38;5;124m'\u001b[39m, \u001b[38;5;124m'\u001b[39m\u001b[38;5;124mfish\u001b[39m\u001b[38;5;124m'\u001b[39m, \u001b[38;5;124m'\u001b[39m\u001b[38;5;124mjuice\u001b[39m\u001b[38;5;124m'\u001b[39m, \u001b[38;5;124m'\u001b[39m\u001b[38;5;124mbacon\u001b[39m\u001b[38;5;124m'\u001b[39m, \u001b[38;5;124m'\u001b[39m\u001b[38;5;124mvegetable\u001b[39m\u001b[38;5;124m'\u001b[39m)\n\u001b[1;32m----> 2\u001b[0m foods[\u001b[38;5;241m0\u001b[39m] \u001b[38;5;241m=\u001b[39m \u001b[38;5;124m'\u001b[39m\u001b[38;5;124mbeef\u001b[39m\u001b[38;5;124m'\u001b[39m\n",
      "\u001b[1;31mTypeError\u001b[0m: 'tuple' object does not support item assignment"
     ]
    }
   ],
   "source": [
    "foods = ('steak', 'fish', 'juice', 'bacon', 'vegetable')\n",
    "foods[0] = 'beef'   #核实python会拒绝这样做"
   ]
  },
  {
   "cell_type": "code",
   "execution_count": 22,
   "id": "5cb5ccd5",
   "metadata": {},
   "outputs": [
    {
     "name": "stdout",
     "output_type": "stream",
     "text": [
      "Original foods:\n",
      "steak\n",
      "fish\n",
      "juice\n",
      "bacon\n",
      "vegetable\n",
      "\n",
      "Modified foods:\n",
      "steak\n",
      "fish\n",
      "apple\n",
      "bacon\n",
      "orange\n"
     ]
    }
   ],
   "source": [
    "foods = ('steak', 'fish', 'juice', 'bacon', 'vegetable')\n",
    "print(\"Original foods:\")\n",
    "for food in foods:\n",
    "    print(food)\n",
    "    \n",
    "#餐馆调整菜单，替换了两种食品\n",
    "foods = ('steak', 'fish', 'apple', 'bacon', 'orange')\n",
    "print(\"\\nModified foods:\")\n",
    "for food in foods:\n",
    "    print(food)"
   ]
  }
 ],
 "metadata": {
  "kernelspec": {
   "display_name": "Python 3 (ipykernel)",
   "language": "python",
   "name": "python3"
  },
  "language_info": {
   "codemirror_mode": {
    "name": "ipython",
    "version": 3
   },
   "file_extension": ".py",
   "mimetype": "text/x-python",
   "name": "python",
   "nbconvert_exporter": "python",
   "pygments_lexer": "ipython3",
   "version": "3.11.5"
  },
  "toc": {
   "base_numbering": 1,
   "nav_menu": {},
   "number_sections": true,
   "sideBar": true,
   "skip_h1_title": false,
   "title_cell": "Table of Contents",
   "title_sidebar": "Contents",
   "toc_cell": false,
   "toc_position": {},
   "toc_section_display": true,
   "toc_window_display": false
  }
 },
 "nbformat": 4,
 "nbformat_minor": 5
}
