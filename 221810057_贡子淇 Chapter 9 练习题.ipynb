{
 "cells": [
  {
   "cell_type": "markdown",
   "id": "760adee3",
   "metadata": {},
   "source": [
    "# 练习 9.1：餐馆"
   ]
  },
  {
   "cell_type": "code",
   "execution_count": 1,
   "id": "31aa9651",
   "metadata": {
    "scrolled": true
   },
   "outputs": [
    {
     "name": "stdout",
     "output_type": "stream",
     "text": [
      "The restaurant's name is Pizza Hut.\n",
      "The type of the cuisine in the restaurant is western food.\n",
      "The restaurant is open.\n"
     ]
    }
   ],
   "source": [
    "class Restaurant:\n",
    "    \"\"\"一次模拟餐馆的尝试\"\"\"\n",
    "    \n",
    "    def __init__(self, restaurant_name, cuisine_type):\n",
    "        self.restaurant_name = restaurant_name\n",
    "        self.cuisine_type = cuisine_type\n",
    "        \n",
    "    def describe_restaurant(self):\n",
    "        \"\"\"描述餐馆相关信息\"\"\"\n",
    "        print(f\"The restaurant's name is {self.restaurant_name}.\")\n",
    "        print(f\"The type of the cuisine in the restaurant is {self.cuisine_type}.\")\n",
    "        \n",
    "    def open_restaurant(self):\n",
    "        \"\"\"指出餐馆正在营业\"\"\"\n",
    "        print(\"The restaurant is open.\")\n",
    "    \n",
    "restaurant = Restaurant('Pizza Hut', 'western food')\n",
    "restaurant.describe_restaurant()\n",
    "restaurant.open_restaurant()"
   ]
  },
  {
   "cell_type": "markdown",
   "id": "844c239f",
   "metadata": {},
   "source": [
    "# 练习 9.2：三家餐馆"
   ]
  },
  {
   "cell_type": "code",
   "execution_count": 2,
   "id": "1fe425eb",
   "metadata": {},
   "outputs": [
    {
     "name": "stdout",
     "output_type": "stream",
     "text": [
      "First:\n",
      "The restaurant's name is Pizza Hut.\n",
      "The type of the cuisine in the restaurant is western food.\n",
      "\n",
      "Second:\n",
      "The restaurant's name is Hey Tea.\n",
      "The type of the cuisine in the restaurant is milk and tea.\n",
      "\n",
      "Third:\n",
      "The restaurant's name is KFC.\n",
      "The type of the cuisine in the restaurant is western fast food.\n"
     ]
    }
   ],
   "source": [
    "class Restaurant:\n",
    "    \"\"\"一次模拟餐馆的尝试\"\"\"\n",
    "    \n",
    "    def __init__(self, restaurant_name, cuisine_type):\n",
    "        \"\"\"初始化属性\"\"\"\n",
    "        self.restaurant_name = restaurant_name\n",
    "        self.cuisine_type = cuisine_type\n",
    "        \n",
    "    def describe_restaurant(self):\n",
    "        \"\"\"描述餐馆相关信息\"\"\"\n",
    "        print(f\"The restaurant's name is {self.restaurant_name}.\")\n",
    "        print(f\"The type of the cuisine in the restaurant is {self.cuisine_type}.\")\n",
    "        \n",
    "    def open_restaurant(self):\n",
    "        \"\"\"指出餐馆正在营业\"\"\"\n",
    "        print(\"The restaurant is open.\")\n",
    "    \n",
    "restaurant_0 = Restaurant('Pizza Hut', 'western food')\n",
    "restaurant_1 = Restaurant('Hey Tea', 'milk and tea')\n",
    "restaurant_2 = Restaurant('KFC', 'western fast food')\n",
    "\n",
    "print(\"First:\")\n",
    "restaurant_0.describe_restaurant()\n",
    "print(\"\\nSecond:\")\n",
    "restaurant_1.describe_restaurant()\n",
    "print(\"\\nThird:\")\n",
    "restaurant_2.describe_restaurant()"
   ]
  },
  {
   "cell_type": "markdown",
   "id": "fae45eef",
   "metadata": {},
   "source": [
    "# 练习 9.3：用户"
   ]
  },
  {
   "cell_type": "code",
   "execution_count": 5,
   "id": "1a1a1456",
   "metadata": {},
   "outputs": [
    {
     "name": "stdout",
     "output_type": "stream",
     "text": [
      "First:\n",
      "Name: Ziqi Gong \n",
      "Location: Danyang \n",
      "Gender: male\n",
      "Hello, Ziqi Gong!\n",
      "\n",
      "Second:\n",
      "Name: Youlong Huang \n",
      "Location: Dinxi \n",
      "Gender: male\n",
      "Hello, Youlong Huang!\n",
      "\n",
      "Third:\n",
      "Name: Wei Si \n",
      "Location: linbi \n",
      "Gender: male\n",
      "Hello, Wei Si!\n"
     ]
    }
   ],
   "source": [
    "class User:\n",
    "    \"\"\"一个关于用户的系统\"\"\"\n",
    "    \n",
    "    def __init__(self, first_name, last_name, location, gender):\n",
    "        \"\"\"初始化属性\"\"\"\n",
    "        self.first_name = first_name\n",
    "        self.last_name = last_name\n",
    "        self.location = location\n",
    "        self.gender = gender\n",
    "        \n",
    "    def describe_user(self):\n",
    "        \"\"\"描述用户信息\"\"\"\n",
    "        print(f\"Name: {self.first_name} {self.last_name} \\nLocation: {self.location} \\nGender: {self.gender}\")\n",
    "        \n",
    "    def greet_user(self):\n",
    "        \"\"\"向用户发出问候\"\"\"\n",
    "        print(f\"Hello, {self.first_name} {self.last_name}!\")\n",
    "        \n",
    "User_0 = User('Ziqi', 'Gong', 'Danyang', 'male')\n",
    "User_1 = User('Youlong', 'Huang', 'Dinxi', 'male')\n",
    "User_2 = User('Wei', 'Si', 'linbi', 'male')\n",
    "\n",
    "print(\"First:\")\n",
    "User_0.describe_user()\n",
    "User_0.greet_user()\n",
    "\n",
    "print(\"\\nSecond:\")\n",
    "User_1.describe_user()\n",
    "User_1.greet_user()\n",
    "\n",
    "print(\"\\nThird:\")\n",
    "User_2.describe_user()\n",
    "User_2.greet_user()"
   ]
  },
  {
   "cell_type": "markdown",
   "id": "c9d4c880",
   "metadata": {},
   "source": [
    "# 练习 9.4：就餐人数"
   ]
  },
  {
   "cell_type": "code",
   "execution_count": 1,
   "id": "154f0779",
   "metadata": {},
   "outputs": [
    {
     "name": "stdout",
     "output_type": "stream",
     "text": [
      "0 people have had meals.\n"
     ]
    }
   ],
   "source": [
    "class Restaurant:\n",
    "    \"\"\"一次模拟餐馆的尝试\"\"\"\n",
    "    \n",
    "    def __init__(self, restaurant_name, cuisine_type):\n",
    "        self.restaurant_name = restaurant_name\n",
    "        self.cuisine_type = cuisine_type\n",
    "        self.number_served = 0\n",
    "        \n",
    "    def describe_restaurant(self):\n",
    "        \"\"\"描述餐馆相关信息\"\"\"\n",
    "        print(f\"The restaurant's name is {self.restaurant_name}.\")\n",
    "        print(f\"The type of the cuisine in the restaurant is {self.cuisine_type}.\")\n",
    "        \n",
    "    def open_restaurant(self):\n",
    "        \"\"\"指出餐馆正在营业\"\"\"\n",
    "        print(\"The restaurant is open.\")\n",
    "        \n",
    "    def read_number_served(self):\n",
    "        \"\"\"描述多少人就餐过\"\"\"\n",
    "        print(f\"{self.number_served} people have had meals.\")\n",
    "        \n",
    "restaurant = Restaurant('Pizza Hut', 'western food')\n",
    "restaurant.read_number_served()"
   ]
  },
  {
   "cell_type": "code",
   "execution_count": 2,
   "id": "6261d820",
   "metadata": {},
   "outputs": [
    {
     "name": "stdout",
     "output_type": "stream",
     "text": [
      "20 people have had meals.\n"
     ]
    }
   ],
   "source": [
    "class Restaurant:\n",
    "    \"\"\"一次模拟餐馆的尝试\"\"\"\n",
    "    \n",
    "    def __init__(self, restaurant_name, cuisine_type):\n",
    "        self.restaurant_name = restaurant_name\n",
    "        self.cuisine_type = cuisine_type\n",
    "        self.number_served = 20\n",
    "        \n",
    "    def describe_restaurant(self):\n",
    "        \"\"\"描述餐馆相关信息\"\"\"\n",
    "        print(f\"The restaurant's name is {self.restaurant_name}.\")\n",
    "        print(f\"The type of the cuisine in the restaurant is {self.cuisine_type}.\")\n",
    "        \n",
    "    def open_restaurant(self):\n",
    "        \"\"\"指出餐馆正在营业\"\"\"\n",
    "        print(\"The restaurant is open.\")\n",
    "        \n",
    "    def read_number_served(self):\n",
    "        \"\"\"描述多少人就餐过\"\"\"\n",
    "        print(f\"{self.number_served} people have had meals.\")\n",
    "        \n",
    "restaurant = Restaurant('Pizza Hut', 'western food')\n",
    "restaurant.read_number_served()"
   ]
  },
  {
   "cell_type": "code",
   "execution_count": 3,
   "id": "74af9d74",
   "metadata": {},
   "outputs": [
    {
     "name": "stdout",
     "output_type": "stream",
     "text": [
      "40 people have had meals.\n"
     ]
    }
   ],
   "source": [
    "class Restaurant:\n",
    "    \"\"\"一次模拟餐馆的尝试\"\"\"\n",
    "    \n",
    "    def __init__(self, restaurant_name, cuisine_type):\n",
    "        self.restaurant_name = restaurant_name\n",
    "        self.cuisine_type = cuisine_type\n",
    "        self.number_served = 20\n",
    "        \n",
    "    def describe_restaurant(self):\n",
    "        \"\"\"描述餐馆相关信息\"\"\"\n",
    "        print(f\"The restaurant's name is {self.restaurant_name}.\")\n",
    "        print(f\"The type of the cuisine in the restaurant is {self.cuisine_type}.\")\n",
    "        \n",
    "    def open_restaurant(self):\n",
    "        \"\"\"指出餐馆正在营业\"\"\"\n",
    "        print(\"The restaurant is open.\")\n",
    "        \n",
    "    def read_number_served(self):\n",
    "        \"\"\"描述多少人就餐过\"\"\"\n",
    "        print(f\"{self.number_served} people have had meals.\")\n",
    "        \n",
    "    def set_number_served(self, value):\n",
    "        \"\"\"设置就餐人数\"\"\"\n",
    "        self.number_served = value\n",
    "              \n",
    "restaurant = Restaurant('Pizza Hut', 'western food')\n",
    "restaurant.set_number_served(40)\n",
    "restaurant.read_number_served()"
   ]
  },
  {
   "cell_type": "code",
   "execution_count": 4,
   "id": "3f28c1a9",
   "metadata": {},
   "outputs": [
    {
     "name": "stdout",
     "output_type": "stream",
     "text": [
      "60 people have had meals.\n"
     ]
    }
   ],
   "source": [
    "class Restaurant:\n",
    "    \"\"\"一次模拟餐馆的尝试\"\"\"\n",
    "    \n",
    "    def __init__(self, restaurant_name, cuisine_type):\n",
    "        self.restaurant_name = restaurant_name\n",
    "        self.cuisine_type = cuisine_type\n",
    "        self.number_served = 20\n",
    "        \n",
    "    def describe_restaurant(self):\n",
    "        \"\"\"描述餐馆相关信息\"\"\"\n",
    "        print(f\"The restaurant's name is {self.restaurant_name}.\")\n",
    "        print(f\"The type of the cuisine in the restaurant is {self.cuisine_type}.\")\n",
    "        \n",
    "    def open_restaurant(self):\n",
    "        \"\"\"指出餐馆正在营业\"\"\"\n",
    "        print(\"The restaurant is open.\")\n",
    "        \n",
    "    def read_number_served(self):\n",
    "        \"\"\"描述多少人就餐过\"\"\"\n",
    "        print(f\"{self.number_served} people have had meals.\")\n",
    "        \n",
    "    def set_number_served(self, value):\n",
    "        \"\"\"设置就餐人数\"\"\"\n",
    "        self.number_served = value\n",
    "        \n",
    "    def increment_number_served(self,number):\n",
    "        \"\"\"让用餐人数递增\"\"\"\n",
    "        self.number_served += number\n",
    "              \n",
    "restaurant = Restaurant('Pizza Hut', 'western food')\n",
    "restaurant.set_number_served(40)\n",
    "restaurant.increment_number_served(20)\n",
    "restaurant.read_number_served()"
   ]
  },
  {
   "cell_type": "markdown",
   "id": "80fca1ba",
   "metadata": {},
   "source": [
    "# 练习 9.5：尝试登录次数"
   ]
  },
  {
   "cell_type": "code",
   "execution_count": 5,
   "id": "c96ca8ad",
   "metadata": {},
   "outputs": [
    {
     "name": "stdout",
     "output_type": "stream",
     "text": [
      "Login_attempts: 2\n"
     ]
    }
   ],
   "source": [
    "class User:\n",
    "    \"\"\"一个关于用户的系统\"\"\"\n",
    "    \n",
    "    def __init__(self, first_name, last_name, location, gender):\n",
    "        \"\"\"初始化属性\"\"\"\n",
    "        self.first_name = first_name\n",
    "        self.last_name = last_name\n",
    "        self.location = location\n",
    "        self.gender = gender\n",
    "        self.login_attempts = 0\n",
    "        \n",
    "    def describe_user(self):\n",
    "        \"\"\"描述用户信息\"\"\"\n",
    "        print(f\"Name: {self.first_name} {self.last_name} \\nLocation: {self.location} \\nGender: {self.gender}\")\n",
    "        \n",
    "    def greet_user(self):\n",
    "        \"\"\"向用户发出问候\"\"\"\n",
    "        print(f\"Hello, {self.first_name} {self.last_name}!\")\n",
    "        \n",
    "    def increment_login_attempts(self):\n",
    "        \"\"\"将属性login_attempts的值加1\"\"\"\n",
    "        self.login_attempts += 1\n",
    "        \n",
    "    def reset_login_attempts(self):\n",
    "        \"\"\"将属性login_attempts的值重置为0\"\"\"\n",
    "        self.login_attempts = 0\n",
    "        \n",
    "    def read_login_attempts(self):\n",
    "        \"\"\"打印尝试登陆的次数\"\"\"\n",
    "        print(f\"Login_attempts: {self.login_attempts}\")\n",
    "        \n",
    "user = User('Ziqi', 'Gong', 'Danyang', 'male') \n",
    "user.increment_login_attempts()\n",
    "user.increment_login_attempts()\n",
    "user.read_login_attempts()"
   ]
  },
  {
   "cell_type": "code",
   "execution_count": 6,
   "id": "96b9f9a6",
   "metadata": {},
   "outputs": [
    {
     "name": "stdout",
     "output_type": "stream",
     "text": [
      "Login_attempts: 0\n"
     ]
    }
   ],
   "source": [
    "class User:\n",
    "    \"\"\"一个关于用户的系统\"\"\"\n",
    "    \n",
    "    def __init__(self, first_name, last_name, location, gender):\n",
    "        \"\"\"初始化属性\"\"\"\n",
    "        self.first_name = first_name\n",
    "        self.last_name = last_name\n",
    "        self.location = location\n",
    "        self.gender = gender\n",
    "        self.login_attempts = 0\n",
    "        \n",
    "    def describe_user(self):\n",
    "        \"\"\"描述用户信息\"\"\"\n",
    "        print(f\"Name: {self.first_name} {self.last_name} \\nLocation: {self.location} \\nGender: {self.gender}\")\n",
    "        \n",
    "    def greet_user(self):\n",
    "        \"\"\"向用户发出问候\"\"\"\n",
    "        print(f\"Hello, {self.first_name} {self.last_name}!\")\n",
    "        \n",
    "    def increment_login_attempts(self):\n",
    "        \"\"\"将属性login_attempts的值加1\"\"\"\n",
    "        self.login_attempts += 1\n",
    "        \n",
    "    def reset_login_attempts(self):\n",
    "        \"\"\"将属性login_attempts的值重置为0\"\"\"\n",
    "        self.login_attempts = 0\n",
    "        \n",
    "    def read_login_attempts(self):\n",
    "        \"\"\"打印尝试登陆的次数\"\"\"\n",
    "        print(f\"Login_attempts: {self.login_attempts}\")\n",
    "        \n",
    "user = User('Ziqi', 'Gong', 'Danyang', 'male') \n",
    "user.increment_login_attempts()\n",
    "user.increment_login_attempts()\n",
    "user.reset_login_attempts()\n",
    "user.read_login_attempts()"
   ]
  },
  {
   "cell_type": "markdown",
   "id": "8c112244",
   "metadata": {},
   "source": [
    "# 练习 9.6：冰激凌小店"
   ]
  },
  {
   "cell_type": "code",
   "execution_count": 5,
   "id": "402376d8",
   "metadata": {},
   "outputs": [
    {
     "name": "stdout",
     "output_type": "stream",
     "text": [
      "Flavors:\n",
      "['milk', 'chocolate', 'fruit']\n"
     ]
    }
   ],
   "source": [
    "class Restaurant:\n",
    "    \"\"\"一次模拟餐馆的尝试\"\"\"\n",
    "    \n",
    "    def __init__(self, restaurant_name, cuisine_type):\n",
    "        self.restaurant_name = restaurant_name\n",
    "        self.cuisine_type = cuisine_type\n",
    "        \n",
    "    def describe_restaurant(self):\n",
    "        \"\"\"描述餐馆相关信息\"\"\"\n",
    "        print(f\"The restaurant's name is {self.restaurant_name}.\")\n",
    "        print(f\"The type of the cuisine in the restaurant is {self.cuisine_type}.\")\n",
    "        \n",
    "    def open_restaurant(self):\n",
    "        \"\"\"指出餐馆正在营业\"\"\"\n",
    "        print(\"The restaurant is open.\")\n",
    "        \n",
    "class IceCreamStand(Restaurant):\n",
    "    \"\"\"模拟冰激凌小店\"\"\"\n",
    "    \n",
    "    def __init__(self, restaurant_name, cuisine_type):\n",
    "        \"\"\"先初始化父类的属性，再初始化冰激凌店的独特属性\"\"\"\n",
    "        \n",
    "        super().__init__(restaurant_name, cuisine_type)\n",
    "        self.flavors = ['milk', 'chocolate', 'fruit']\n",
    "        \n",
    "    def read_flavors(self):\n",
    "        \"\"\"显示口味\"\"\"\n",
    "        print(\"Flavors:\")\n",
    "        print(self.flavors)\n",
    "        \n",
    "IceCreamStand_1 = IceCreamStand('DQ', 'sweet food')\n",
    "IceCreamStand_1.read_flavors()"
   ]
  },
  {
   "cell_type": "markdown",
   "id": "5bb6d322",
   "metadata": {},
   "source": [
    "# 练习 9.7：管理员"
   ]
  },
  {
   "cell_type": "code",
   "execution_count": 6,
   "id": "0c63830d",
   "metadata": {},
   "outputs": [
    {
     "name": "stdout",
     "output_type": "stream",
     "text": [
      "Privileges:\n",
      "['can add post', 'can delete post', 'can ban user']\n"
     ]
    }
   ],
   "source": [
    "class User:\n",
    "    \"\"\"一个关于用户的系统\"\"\"\n",
    "    \n",
    "    def __init__(self, first_name, last_name, location, gender):\n",
    "        \"\"\"初始化属性\"\"\"\n",
    "        self.first_name = first_name\n",
    "        self.last_name = last_name\n",
    "        self.location = location\n",
    "        self.gender = gender\n",
    "        self.login_attempts = 0\n",
    "        \n",
    "    def describe_user(self):\n",
    "        \"\"\"描述用户信息\"\"\"\n",
    "        print(f\"Name: {self.first_name} {self.last_name} \\nLocation: {self.location} \\nGender: {self.gender}\")\n",
    "        \n",
    "    def greet_user(self):\n",
    "        \"\"\"向用户发出问候\"\"\"\n",
    "        print(f\"Hello, {self.first_name} {self.last_name}!\")\n",
    "        \n",
    "    def increment_login_attempts(self):\n",
    "        \"\"\"将属性login_attempts的值加1\"\"\"\n",
    "        self.login_attempts += 1\n",
    "        \n",
    "    def reset_login_attempts(self):\n",
    "        \"\"\"将属性login_attempts的值重置为0\"\"\"\n",
    "        self.login_attempts = 0\n",
    "        \n",
    "    def read_login_attempts(self):\n",
    "        \"\"\"打印尝试登陆的次数\"\"\"\n",
    "        print(f\"Login_attempts: {self.login_attempts}\")\n",
    "        \n",
    "class Admin(User):\n",
    "    \"\"\"模拟管理员\"\"\"\n",
    "    \n",
    "    def __init__(self, first_name, last_name, location, gender):\n",
    "        \"\"\"先初始化父类的属性，再初始化管理员的特殊属性\"\"\"\n",
    "        super().__init__(first_name, last_name, location, gender)\n",
    "        self.privileges = ['can add post', 'can delete post', 'can ban user']\n",
    "        \n",
    "    def show_privileges(self):\n",
    "        \"\"\"显示管理员的权限\"\"\"\n",
    "        print(\"Privileges:\")\n",
    "        print(self.privileges)\n",
    "        \n",
    "user = Admin('Ziqi', 'Gong', 'Danyang', 'male')\n",
    "user.show_privileges()"
   ]
  },
  {
   "cell_type": "markdown",
   "id": "04a4dd63",
   "metadata": {},
   "source": [
    "# 练习 9.8：权限"
   ]
  },
  {
   "cell_type": "code",
   "execution_count": 8,
   "id": "b2fe50f4",
   "metadata": {},
   "outputs": [
    {
     "name": "stdout",
     "output_type": "stream",
     "text": [
      "Privileges:\n",
      "['can add post', 'can delete post', 'can ban user']\n"
     ]
    }
   ],
   "source": [
    "class User:\n",
    "    \"\"\"一个关于用户的系统\"\"\"\n",
    "    \n",
    "    def __init__(self, first_name, last_name, location, gender):\n",
    "        \"\"\"初始化属性\"\"\"\n",
    "        self.first_name = first_name\n",
    "        self.last_name = last_name\n",
    "        self.location = location\n",
    "        self.gender = gender\n",
    "        self.login_attempts = 0\n",
    "        \n",
    "    def describe_user(self):\n",
    "        \"\"\"描述用户信息\"\"\"\n",
    "        print(f\"Name: {self.first_name} {self.last_name} \\nLocation: {self.location} \\nGender: {self.gender}\")\n",
    "        \n",
    "    def greet_user(self):\n",
    "        \"\"\"向用户发出问候\"\"\"\n",
    "        print(f\"Hello, {self.first_name} {self.last_name}!\")\n",
    "        \n",
    "    def increment_login_attempts(self):\n",
    "        \"\"\"将属性login_attempts的值加1\"\"\"\n",
    "        self.login_attempts += 1\n",
    "        \n",
    "    def reset_login_attempts(self):\n",
    "        \"\"\"将属性login_attempts的值重置为0\"\"\"\n",
    "        self.login_attempts = 0\n",
    "        \n",
    "    def read_login_attempts(self):\n",
    "        \"\"\"打印尝试登陆的次数\"\"\"\n",
    "        print(f\"Login_attempts: {self.login_attempts}\")\n",
    "        \n",
    "class Privileges:\n",
    "    \"\"\"管理员权限的模拟\"\"\"\n",
    "    \n",
    "    def __init__(self, privileges = ['can add post', 'can delete post', 'can ban user']):\n",
    "        \"\"\"初始化属性\"\"\"\n",
    "        self.privileges = privileges\n",
    "        \n",
    "    def show_privileges(self):\n",
    "        \"\"\"显示管理员的权限\"\"\"\n",
    "        print(\"Privileges:\")\n",
    "        print(self.privileges)\n",
    "        \n",
    "class Admin(User):\n",
    "    \"\"\"模拟管理员\"\"\"\n",
    "    \n",
    "    def __init__(self, first_name, last_name, location, gender):\n",
    "        \"\"\"先初始化父类的属性，再初始化管理员的特殊属性\"\"\"\n",
    "        super().__init__(first_name, last_name, location, gender)\n",
    "        self.privileges = Privileges()\n",
    "        \n",
    "user = Admin('Ziqi', 'Gong', 'Danyang', 'male')\n",
    "user.privileges.show_privileges()"
   ]
  },
  {
   "cell_type": "markdown",
   "id": "6a1480fa",
   "metadata": {},
   "source": [
    "# 练习 9.9：电池升级"
   ]
  },
  {
   "cell_type": "code",
   "execution_count": 11,
   "id": "22758af1",
   "metadata": {},
   "outputs": [
    {
     "name": "stdout",
     "output_type": "stream",
     "text": [
      "2024 Nissan Leaf\n",
      "This car has a 40-kwh battery.\n",
      "This car can go about 225 miles on a full charge.\n"
     ]
    }
   ],
   "source": [
    "class Car:\n",
    "    \"\"\"一次模拟汽车的简单尝试\"\"\"\n",
    "    \n",
    "    def __init__(self, make, model, year):\n",
    "        \"\"\"初始化描述汽车的属性\"\"\"\n",
    "        self.make = make\n",
    "        self.model = model\n",
    "        self.year = year\n",
    "        self.odometer_reading = 0\n",
    "        \n",
    "    def get_descriptive_name(self):\n",
    "        \"\"\"返回格式规范的描述性信息\"\"\"\n",
    "        long_name = f\"{self.year} {self.make} {self.model}\"\n",
    "        return long_name.title()\n",
    "    \n",
    "    def read_odometer(self):\n",
    "        \"\"\"打印一条指出汽车行驶里程的消息\"\"\"\n",
    "        print(f\"This car has {self.odometer_reading} miles on it.\")\n",
    "        \n",
    "    def update_odometer(self, mileage):\n",
    "        \"\"\"\n",
    "        将里程表读数设置为指定的值\n",
    "        禁止将里程表读数往回调\n",
    "        \"\"\"\n",
    "        if mileage >= self.odometer_reading:\n",
    "            self.odometer_reading = mileage\n",
    "        else:\n",
    "            print(\"You cannot roll back an odometer!\")\n",
    "            \n",
    "    def increment_odometer(self, miles):\n",
    "        \"\"\"让里程表读数增加指定的量\"\"\"\n",
    "        self.odometer_reading += miles\n",
    "        \n",
    "class Battery:\n",
    "    \"\"\"一次模拟电动汽车电池的简单尝试\"\"\"\n",
    "    \n",
    "    def __init__(self, battery_size=40):\n",
    "        \"\"\"初始化电池的属性\"\"\"\n",
    "        self.battery_size = battery_size\n",
    "        \n",
    "    def describe_battery(self):\n",
    "        \"\"\"打印一条描述电池容量的消息\"\"\"\n",
    "        print(f\"This car has a {self.battery_size}-kwh battery.\")\n",
    "     \n",
    "    def update_battery(self):\n",
    "        \"\"\"检查电池容量\"\"\"\n",
    "        if self.battery_size < 65:\n",
    "            self.battery_size = 65\n",
    "            \n",
    "    def get_range(self):\n",
    "        \"\"\"打印一条消息，指出电池的续航里程\"\"\"\n",
    "        if self.battery_size == 40:\n",
    "            range = 150\n",
    "        elif self.battery_size == 65:\n",
    "            range = 225\n",
    "        print(f\"This car can go about {range} miles on a full charge.\")\n",
    "        \n",
    "    \n",
    "class ElectricCar(Car):\n",
    "    \"\"\"电动汽车的独特之处\"\"\"\n",
    "    \n",
    "    def __init__(self, make, model, year):\n",
    "        \"\"\"\n",
    "        先初始化父类的属性，再初始化电动汽车特有的属性\n",
    "        \"\"\"\n",
    "        super().__init__(make, model, year)\n",
    "        self.battery = Battery()\n",
    "        \n",
    "my_leaf = ElectricCar('nissan', 'leaf', 2024)\n",
    "print(my_leaf.get_descriptive_name())\n",
    "my_leaf.battery.describe_battery()\n",
    "my_leaf.battery.update_battery()\n",
    "my_leaf.battery.get_range()"
   ]
  },
  {
   "cell_type": "markdown",
   "id": "7c776dd2",
   "metadata": {},
   "source": [
    "# 练习 9.10：导入 Restaurant 类"
   ]
  },
  {
   "cell_type": "code",
   "execution_count": 12,
   "id": "183e0385",
   "metadata": {},
   "outputs": [
    {
     "name": "stdout",
     "output_type": "stream",
     "text": [
      "The restaurant's name is McDonald.\n",
      "The type of the cuisine in the restaurant is weatern fast food.\n"
     ]
    }
   ],
   "source": [
    "from restaurant import Restaurant\n",
    "\n",
    "restaurant = Restaurant('McDonald', 'weatern fast food')\n",
    "restaurant.describe_restaurant()"
   ]
  },
  {
   "cell_type": "markdown",
   "id": "1061a9f6",
   "metadata": {},
   "source": [
    "# 练习 9.11：导入 Admin 类"
   ]
  },
  {
   "cell_type": "code",
   "execution_count": 13,
   "id": "32b2f2d1",
   "metadata": {},
   "outputs": [
    {
     "name": "stdout",
     "output_type": "stream",
     "text": [
      "Privileges:\n",
      "['can add post', 'can delete post', 'can ban user']\n"
     ]
    }
   ],
   "source": [
    "from user import *\n",
    "\n",
    "user_1 = Admin('Ming', 'Li', 'Nanjing', 'male')\n",
    "user_1.privileges.show_privileges()"
   ]
  },
  {
   "cell_type": "markdown",
   "id": "da34d31b",
   "metadata": {},
   "source": [
    "# 练习 9.12：多个模块"
   ]
  },
  {
   "cell_type": "code",
   "execution_count": 16,
   "id": "4c8ccd77",
   "metadata": {},
   "outputs": [
    {
     "name": "stdout",
     "output_type": "stream",
     "text": [
      "Privileges:\n",
      "['can add post', 'can delete post', 'can ban user']\n"
     ]
    }
   ],
   "source": [
    "from user_only import User\n",
    "from privileges_admin import *\n",
    "\n",
    "user_1 = Admin('Ming', 'Li', 'Nanjing', 'male')\n",
    "user_1.privileges.show_privileges()"
   ]
  },
  {
   "cell_type": "markdown",
   "id": "a4fb0690",
   "metadata": {},
   "source": [
    "# 练习 9.13：骰子"
   ]
  },
  {
   "cell_type": "code",
   "execution_count": 19,
   "id": "db0b051a",
   "metadata": {},
   "outputs": [
    {
     "name": "stdout",
     "output_type": "stream",
     "text": [
      "2\n",
      "2\n",
      "6\n",
      "1\n",
      "1\n",
      "3\n",
      "5\n",
      "2\n",
      "4\n",
      "5\n"
     ]
    }
   ],
   "source": [
    "from random import randint\n",
    "class Die:\n",
    "    \"\"\"模拟投骰子\"\"\"\n",
    "    \n",
    "    def __init__(self, sides = 6):\n",
    "        \"\"\"初始化属性\"\"\"\n",
    "        self.sides = sides\n",
    "        \n",
    "    def roll_die(self):\n",
    "        \"\"\"打印位于1和骰子面数之间的随机数\"\"\"\n",
    "        value = 0\n",
    "        while value < 10:\n",
    "            message = randint(1, self.sides)\n",
    "            print(message)\n",
    "            value += 1\n",
    "\n",
    "die_1 = Die(6)\n",
    "die_1.roll_die()"
   ]
  },
  {
   "cell_type": "code",
   "execution_count": 20,
   "id": "b2e6353e",
   "metadata": {},
   "outputs": [
    {
     "name": "stdout",
     "output_type": "stream",
     "text": [
      "2\n",
      "8\n",
      "4\n",
      "7\n",
      "8\n",
      "5\n",
      "9\n",
      "1\n",
      "8\n",
      "10\n"
     ]
    }
   ],
   "source": [
    "from random import randint\n",
    "class Die:\n",
    "    \"\"\"模拟投骰子\"\"\"\n",
    "    \n",
    "    def __init__(self, sides = 6):\n",
    "        \"\"\"初始化属性\"\"\"\n",
    "        self.sides = sides\n",
    "        \n",
    "    def roll_die(self):\n",
    "        \"\"\"打印位于1和骰子面数之间的随机数\"\"\"\n",
    "        value = 0\n",
    "        while value < 10:\n",
    "            message = randint(1, self.sides)\n",
    "            print(message)\n",
    "            value += 1\n",
    "\n",
    "die_1 = Die(10)\n",
    "die_1.roll_die()"
   ]
  },
  {
   "cell_type": "code",
   "execution_count": 21,
   "id": "4e18c236",
   "metadata": {},
   "outputs": [
    {
     "name": "stdout",
     "output_type": "stream",
     "text": [
      "2\n",
      "16\n",
      "11\n",
      "6\n",
      "10\n",
      "17\n",
      "15\n",
      "4\n",
      "11\n",
      "15\n"
     ]
    }
   ],
   "source": [
    "from random import randint\n",
    "class Die:\n",
    "    \"\"\"模拟投骰子\"\"\"\n",
    "    \n",
    "    def __init__(self, sides = 6):\n",
    "        \"\"\"初始化属性\"\"\"\n",
    "        self.sides = sides\n",
    "        \n",
    "    def roll_die(self):\n",
    "        \"\"\"打印位于1和骰子面数之间的随机数\"\"\"\n",
    "        value = 0\n",
    "        while value < 10:\n",
    "            message = randint(1, self.sides)\n",
    "            print(message)\n",
    "            value += 1\n",
    "\n",
    "die_1 = Die(20)\n",
    "die_1.roll_die()"
   ]
  },
  {
   "cell_type": "markdown",
   "id": "76359384",
   "metadata": {},
   "source": [
    "# 练习 9.14：彩票"
   ]
  },
  {
   "cell_type": "code",
   "execution_count": 22,
   "id": "69cd7261",
   "metadata": {},
   "outputs": [
    {
     "name": "stdout",
     "output_type": "stream",
     "text": [
      "You will win a prize if you ticket is [5, 2, 2, 'c'].\n"
     ]
    }
   ],
   "source": [
    "from random import choice\n",
    "numbers_letters = [1, 2, 3, 4, 5, 6, 7, 8, 9, 10, 'a', 'b', 'c', 'd', 'e']\n",
    "\n",
    "first = choice(numbers_letters)\n",
    "second = choice(numbers_letters)\n",
    "third = choice(numbers_letters)\n",
    "forth = choice(numbers_letters)\n",
    "ticket = [first, second , third, forth]\n",
    "print(f\"You will win a prize if you ticket is {ticket}.\")"
   ]
  },
  {
   "cell_type": "markdown",
   "id": "e9ae721c",
   "metadata": {},
   "source": [
    "# 练习 9.15：彩票分析"
   ]
  },
  {
   "cell_type": "code",
   "execution_count": 23,
   "id": "13fce1c1",
   "metadata": {},
   "outputs": [
    {
     "name": "stdout",
     "output_type": "stream",
     "text": [
      "52399\n"
     ]
    }
   ],
   "source": [
    "from random import choice\n",
    "numbers_letters = [1, 2, 3, 4, 5, 6, 7, 8, 9, 10, 'a', 'b', 'c', 'd', 'e']\n",
    "\n",
    "frequency = 0\n",
    "\n",
    "while True:\n",
    "    first = choice(numbers_letters)\n",
    "    second = choice(numbers_letters)\n",
    "    third = choice(numbers_letters)\n",
    "    forth = choice(numbers_letters)\n",
    "    ticket = [first, second , third, forth]\n",
    "    \n",
    "    if ticket != [5, 2, 2, 'c']:\n",
    "        frequency += 1\n",
    "    else:\n",
    "        break\n",
    "\n",
    "print(frequency)"
   ]
  }
 ],
 "metadata": {
  "kernelspec": {
   "display_name": "Python 3 (ipykernel)",
   "language": "python",
   "name": "python3"
  },
  "language_info": {
   "codemirror_mode": {
    "name": "ipython",
    "version": 3
   },
   "file_extension": ".py",
   "mimetype": "text/x-python",
   "name": "python",
   "nbconvert_exporter": "python",
   "pygments_lexer": "ipython3",
   "version": "3.11.5"
  },
  "toc": {
   "base_numbering": 1,
   "nav_menu": {},
   "number_sections": true,
   "sideBar": true,
   "skip_h1_title": false,
   "title_cell": "Table of Contents",
   "title_sidebar": "Contents",
   "toc_cell": false,
   "toc_position": {},
   "toc_section_display": true,
   "toc_window_display": false
  }
 },
 "nbformat": 4,
 "nbformat_minor": 5
}
