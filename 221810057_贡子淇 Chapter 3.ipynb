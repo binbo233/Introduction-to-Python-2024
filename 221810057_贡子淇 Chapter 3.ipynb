{
 "cells": [
  {
   "cell_type": "markdown",
   "id": "da06bf5f",
   "metadata": {},
   "source": [
    "# 3.1 列表是什么"
   ]
  },
  {
   "cell_type": "code",
   "execution_count": 1,
   "id": "ca53170f",
   "metadata": {
    "scrolled": false
   },
   "outputs": [
    {
     "name": "stdout",
     "output_type": "stream",
     "text": [
      "['trek', 'cannondale', 'redline', 'specialized']\n"
     ]
    }
   ],
   "source": [
    "bicycles = ['trek', 'cannondale', 'redline', 'specialized']#设置列表\n",
    "print(bicycles)"
   ]
  },
  {
   "cell_type": "markdown",
   "id": "b77436f1",
   "metadata": {},
   "source": [
    "# 3.1.1 访问列表元素"
   ]
  },
  {
   "cell_type": "code",
   "execution_count": 2,
   "id": "d0d42467",
   "metadata": {
    "scrolled": true
   },
   "outputs": [
    {
     "name": "stdout",
     "output_type": "stream",
     "text": [
      "trek\n"
     ]
    }
   ],
   "source": [
    "bicycles = ['trek', 'cannondale', 'redline', 'specialized']\n",
    "print(bicycles[0]) #bicycle[0]表示列表bicycle中的第一个元素"
   ]
  },
  {
   "cell_type": "code",
   "execution_count": 3,
   "id": "9106a865",
   "metadata": {
    "scrolled": false
   },
   "outputs": [
    {
     "name": "stdout",
     "output_type": "stream",
     "text": [
      "Trek\n"
     ]
    }
   ],
   "source": [
    "bicycles = ['trek', 'cannondale', 'redline', 'specialized']\n",
    "print(bicycles[0].title())"
   ]
  },
  {
   "cell_type": "markdown",
   "id": "f5e4bc0f",
   "metadata": {},
   "source": [
    "# 3.1.2  索引从0而不是1开始"
   ]
  },
  {
   "cell_type": "code",
   "execution_count": 4,
   "id": "0f4f248e",
   "metadata": {},
   "outputs": [
    {
     "name": "stdout",
     "output_type": "stream",
     "text": [
      "cannondale\n",
      "specialized\n"
     ]
    }
   ],
   "source": [
    "bicycles = ['trek', 'cannondale', 'redline', 'specialized']\n",
    "print(bicycles[1]) #bicycle[1]表示列表bicycle中的第二个元素\n",
    "print(bicycles[3]) #bicycle[3]表示列表bicycle中的第四个元素"
   ]
  },
  {
   "cell_type": "code",
   "execution_count": 5,
   "id": "c4f1d30d",
   "metadata": {
    "scrolled": false
   },
   "outputs": [
    {
     "name": "stdout",
     "output_type": "stream",
     "text": [
      "specialized\n"
     ]
    }
   ],
   "source": [
    "bicycles = ['trek', 'cannondale', 'redline', 'specialized']\n",
    "print(bicycles[-1]) #bicycle[-1]表示列表bicycle中的最后一个元素"
   ]
  },
  {
   "cell_type": "markdown",
   "id": "74c000e6",
   "metadata": {},
   "source": [
    "# 3.1.3 使用列表中的各个值"
   ]
  },
  {
   "cell_type": "code",
   "execution_count": 7,
   "id": "d5dd3d0e",
   "metadata": {
    "scrolled": false
   },
   "outputs": [
    {
     "name": "stdout",
     "output_type": "stream",
     "text": [
      "My first bicycle was a Trek.\n"
     ]
    }
   ],
   "source": [
    "bicycles = ['trek', 'cannondale', 'redline', 'specialized']\n",
    "message = f\"My first bicycle was a {bicycles[0].title()}.\"\n",
    "print(message)"
   ]
  },
  {
   "cell_type": "markdown",
   "id": "5fbb9c4c",
   "metadata": {},
   "source": [
    "# 3.2.1 修改列表元素"
   ]
  },
  {
   "cell_type": "code",
   "execution_count": 1,
   "id": "882bb2f8",
   "metadata": {
    "scrolled": true
   },
   "outputs": [
    {
     "name": "stdout",
     "output_type": "stream",
     "text": [
      "['honda', 'yamaha', 'suzuki']\n",
      "['ducati', 'yamaha', 'suzuki']\n"
     ]
    }
   ],
   "source": [
    "motrocycles = ['honda', 'yamaha', 'suzuki']\n",
    "print(motrocycles)\n",
    "motrocycles[0] = 'ducati' #修改列表中的第一个元素\n",
    "print(motrocycles)"
   ]
  },
  {
   "cell_type": "markdown",
   "id": "b83728a0",
   "metadata": {},
   "source": [
    "# 3.2.2 在列表中添加元素"
   ]
  },
  {
   "cell_type": "code",
   "execution_count": 2,
   "id": "ed3aa385",
   "metadata": {},
   "outputs": [
    {
     "name": "stdout",
     "output_type": "stream",
     "text": [
      "['honda', 'yamaha', 'suzuki']\n",
      "['honda', 'yamaha', 'suzuki', 'ducati']\n"
     ]
    }
   ],
   "source": [
    "motrocycles = ['honda', 'yamaha', 'suzuki']\n",
    "print(motrocycles)\n",
    "motrocycles.append('ducati') #在列表的最后添加元素\n",
    "print(motrocycles)"
   ]
  },
  {
   "cell_type": "code",
   "execution_count": 3,
   "id": "51d464b6",
   "metadata": {},
   "outputs": [
    {
     "name": "stdout",
     "output_type": "stream",
     "text": [
      "['honda', 'yamaha', 'suzuki']\n"
     ]
    }
   ],
   "source": [
    "motrocycles = [ ]\n",
    "motrocycles.append('honda')\n",
    "motrocycles.append('yamaha')\n",
    "motrocycles.append('suzuki')\n",
    "print(motrocycles)"
   ]
  },
  {
   "cell_type": "code",
   "execution_count": 4,
   "id": "35315de5",
   "metadata": {
    "scrolled": true
   },
   "outputs": [
    {
     "name": "stdout",
     "output_type": "stream",
     "text": [
      "['ducati', 'honda', 'yamaha', 'suzuki']\n"
     ]
    }
   ],
   "source": [
    "motrocycles = ['honda', 'yamaha', 'suzuki']\n",
    "motrocycles.insert(0, 'ducati') #在列表第一个元素前加入一个新元素\n",
    "print(motrocycles)"
   ]
  },
  {
   "cell_type": "markdown",
   "id": "b253cd50",
   "metadata": {},
   "source": [
    "# 3.2.3 从列表中删除元素"
   ]
  },
  {
   "cell_type": "code",
   "execution_count": 6,
   "id": "89d887a2",
   "metadata": {},
   "outputs": [
    {
     "name": "stdout",
     "output_type": "stream",
     "text": [
      "['honda', 'yamaha', 'suzuki']\n",
      "['yamaha', 'suzuki']\n"
     ]
    }
   ],
   "source": [
    "motrocycles = ['honda', 'yamaha', 'suzuki']\n",
    "print(motrocycles)\n",
    "del motrocycles[0] #使用del来删除列表中的第一个元素\n",
    "print(motrocycles)"
   ]
  },
  {
   "cell_type": "code",
   "execution_count": 7,
   "id": "ac8eceb5",
   "metadata": {},
   "outputs": [
    {
     "name": "stdout",
     "output_type": "stream",
     "text": [
      "['honda', 'yamaha', 'suzuki']\n",
      "['honda', 'suzuki']\n"
     ]
    }
   ],
   "source": [
    "motrocycles = ['honda', 'yamaha', 'suzuki']\n",
    "print(motrocycles)\n",
    "del motrocycles[1] #使用del来删除列表中的第二个元素\n",
    "print(motrocycles)"
   ]
  },
  {
   "cell_type": "code",
   "execution_count": 9,
   "id": "a65991a7",
   "metadata": {},
   "outputs": [
    {
     "name": "stdout",
     "output_type": "stream",
     "text": [
      "['honda', 'yamaha', 'suzuki']\n",
      "['honda', 'yamaha']\n",
      "suzuki\n"
     ]
    }
   ],
   "source": [
    "motrocycles = ['honda', 'yamaha', 'suzuki']\n",
    "print(motrocycles)\n",
    "popped_motrocycle = motrocycles.pop() #使用.pop()来弹出列表中的最后一个元素，并将其赋给popped_motrocycle\n",
    "print(motrocycles)\n",
    "print(popped_motrocycle)"
   ]
  },
  {
   "cell_type": "code",
   "execution_count": 11,
   "id": "a848a40d",
   "metadata": {},
   "outputs": [
    {
     "name": "stdout",
     "output_type": "stream",
     "text": [
      "The last motrocycle I owned was a Suzuki.\n"
     ]
    }
   ],
   "source": [
    "motrocycles = ['honda', 'yamaha', 'suzuki']\n",
    "last_owned = motrocycles.pop() #使用.pop()来弹出列表中的最后一个元素，并将其赋给last_owned\n",
    "print(f\"The last motrocycle I owned was a {last_owned.title()}.\")"
   ]
  },
  {
   "cell_type": "code",
   "execution_count": 12,
   "id": "6582b837",
   "metadata": {},
   "outputs": [
    {
     "name": "stdout",
     "output_type": "stream",
     "text": [
      "The first motrocycle I owned was a Honda.\n"
     ]
    }
   ],
   "source": [
    "motrocycles = ['honda', 'yamaha', 'suzuki']\n",
    "first_owned = motrocycles.pop(0) #使用.pop(0)来弹出列表中的第一个元素，并将其赋给first_owned\n",
    "print(f\"The first motrocycle I owned was a {first_owned.title()}.\")"
   ]
  },
  {
   "cell_type": "code",
   "execution_count": 13,
   "id": "7634a917",
   "metadata": {},
   "outputs": [
    {
     "name": "stdout",
     "output_type": "stream",
     "text": [
      "['honda', 'yamaha', 'suzuki', 'ducati']\n",
      "['honda', 'yamaha', 'suzuki']\n"
     ]
    }
   ],
   "source": [
    "motrocycles = ['honda', 'yamaha', 'suzuki', 'ducati']\n",
    "print(motrocycles)\n",
    "motrocycles.remove('ducati') #使用.remove()来直接移除列表中的元素\n",
    "print(motrocycles)"
   ]
  },
  {
   "cell_type": "code",
   "execution_count": 14,
   "id": "fe4a3cfd",
   "metadata": {
    "scrolled": true
   },
   "outputs": [
    {
     "name": "stdout",
     "output_type": "stream",
     "text": [
      "['honda', 'yamaha', 'suzuki', 'ducati']\n",
      "['honda', 'yamaha', 'suzuki']\n",
      "\n",
      "A Ducati is too expensive for me.\n"
     ]
    }
   ],
   "source": [
    "motrocycles = ['honda', 'yamaha', 'suzuki', 'ducati']\n",
    "print(motrocycles)\n",
    "too_expensive = 'ducati'\n",
    "motrocycles.remove(too_expensive) #使用.remove()来直接移除列表中的元素\n",
    "print(motrocycles)\n",
    "print(f\"\\nA {too_expensive.title()} is too expensive for me.\")"
   ]
  },
  {
   "cell_type": "markdown",
   "id": "08390aa4",
   "metadata": {},
   "source": [
    "# 3.3.1 使用sort（）方法对列表进行永久排序"
   ]
  },
  {
   "cell_type": "code",
   "execution_count": 15,
   "id": "425f165d",
   "metadata": {},
   "outputs": [
    {
     "name": "stdout",
     "output_type": "stream",
     "text": [
      "['audi', 'bmw', 'subaru', 'toyota']\n"
     ]
    }
   ],
   "source": [
    "cars = ['bmw', 'audi', 'toyota', 'subaru']\n",
    "cars.sort() #使用sort（）方法对列表以首字母顺序进行永久排序\n",
    "print(cars)"
   ]
  },
  {
   "cell_type": "code",
   "execution_count": 16,
   "id": "6ee04c11",
   "metadata": {
    "scrolled": true
   },
   "outputs": [
    {
     "name": "stdout",
     "output_type": "stream",
     "text": [
      "['toyota', 'subaru', 'bmw', 'audi']\n"
     ]
    }
   ],
   "source": [
    "cars = ['bmw', 'audi', 'toyota', 'subaru']\n",
    "cars.sort(reverse=True) #使用sort（reverse=True）方法对列表以首字母顺序的相反顺序进行永久排序\n",
    "print(cars)"
   ]
  },
  {
   "cell_type": "markdown",
   "id": "ad27203b",
   "metadata": {},
   "source": [
    "# 3.3.2 使用sorted（）函数对列表进行临时排序"
   ]
  },
  {
   "cell_type": "code",
   "execution_count": 17,
   "id": "0071f41d",
   "metadata": {
    "scrolled": true
   },
   "outputs": [
    {
     "name": "stdout",
     "output_type": "stream",
     "text": [
      "Here is the original list:\n",
      "['bmw', 'audi', 'toyota', 'subaru']\n",
      "\n",
      "Here is the sorted list:\n",
      "['audi', 'bmw', 'subaru', 'toyota']\n",
      "\n",
      "Here is the original list again:\n",
      "['bmw', 'audi', 'toyota', 'subaru']\n"
     ]
    }
   ],
   "source": [
    "cars = ['bmw', 'audi', 'toyota', 'subaru']\n",
    "print(\"Here is the original list:\")\n",
    "print(cars)\n",
    "print(\"\\nHere is the sorted list:\")\n",
    "print(sorted(cars)) #使用sorted（）函数对列表进行临时排序，以首字母顺序\n",
    "print(\"\\nHere is the original list again:\")\n",
    "print(cars) #证明列表的顺序没有被永久改变"
   ]
  },
  {
   "cell_type": "markdown",
   "id": "2144c62d",
   "metadata": {},
   "source": [
    "# 3.3.3 反向打印列表"
   ]
  },
  {
   "cell_type": "code",
   "execution_count": 19,
   "id": "941e316c",
   "metadata": {
    "scrolled": true
   },
   "outputs": [
    {
     "name": "stdout",
     "output_type": "stream",
     "text": [
      "['bmw', 'audi', 'toyota', 'subaru']\n",
      "['subaru', 'toyota', 'audi', 'bmw']\n"
     ]
    }
   ],
   "source": [
    "cars = ['bmw', 'audi', 'toyota', 'subaru']\n",
    "print(cars)\n",
    "cars.reverse() #使用.reverse()的方法，根据列表原来的顺序，反向打印列表\n",
    "print(cars)"
   ]
  },
  {
   "cell_type": "markdown",
   "id": "46ae62c5",
   "metadata": {},
   "source": [
    "# 3.3.4 确定列表长度"
   ]
  },
  {
   "cell_type": "code",
   "execution_count": 20,
   "id": "a796f3d3",
   "metadata": {
    "scrolled": true
   },
   "outputs": [
    {
     "data": {
      "text/plain": [
       "4"
      ]
     },
     "execution_count": 20,
     "metadata": {},
     "output_type": "execute_result"
    }
   ],
   "source": [
    "cars = ['bmw', 'audi', 'toyota', 'subaru']\n",
    "len(cars) #使用len()来确定列表的长度，用数字表达元素的数目"
   ]
  },
  {
   "cell_type": "markdown",
   "id": "abc49e46",
   "metadata": {},
   "source": [
    "# 3.4 使用列表时避免索引错误"
   ]
  },
  {
   "cell_type": "code",
   "execution_count": 21,
   "id": "26dbc146",
   "metadata": {},
   "outputs": [
    {
     "ename": "IndexError",
     "evalue": "list index out of range",
     "output_type": "error",
     "traceback": [
      "\u001b[1;31m---------------------------------------------------------------------------\u001b[0m",
      "\u001b[1;31mIndexError\u001b[0m                                Traceback (most recent call last)",
      "Cell \u001b[1;32mIn[21], line 2\u001b[0m\n\u001b[0;32m      1\u001b[0m motrocycles \u001b[38;5;241m=\u001b[39m [\u001b[38;5;124m'\u001b[39m\u001b[38;5;124mhonda\u001b[39m\u001b[38;5;124m'\u001b[39m, \u001b[38;5;124m'\u001b[39m\u001b[38;5;124myamaha\u001b[39m\u001b[38;5;124m'\u001b[39m, \u001b[38;5;124m'\u001b[39m\u001b[38;5;124msuzuki\u001b[39m\u001b[38;5;124m'\u001b[39m]\n\u001b[1;32m----> 2\u001b[0m \u001b[38;5;28mprint\u001b[39m(motrocycles[\u001b[38;5;241m3\u001b[39m])\n",
      "\u001b[1;31mIndexError\u001b[0m: list index out of range"
     ]
    }
   ],
   "source": [
    "motrocycles = ['honda', 'yamaha', 'suzuki']\n",
    "print(motrocycles[3]) #这里要求打印列表的第四个元素，但已超出了列表的范围"
   ]
  },
  {
   "cell_type": "code",
   "execution_count": 22,
   "id": "cc64645a",
   "metadata": {},
   "outputs": [
    {
     "name": "stdout",
     "output_type": "stream",
     "text": [
      "suzuki\n"
     ]
    }
   ],
   "source": [
    "motrocycles = ['honda', 'yamaha', 'suzuki']\n",
    "print(motrocycles[-1])"
   ]
  },
  {
   "cell_type": "code",
   "execution_count": 23,
   "id": "fb1eddb6",
   "metadata": {},
   "outputs": [
    {
     "ename": "IndexError",
     "evalue": "list index out of range",
     "output_type": "error",
     "traceback": [
      "\u001b[1;31m---------------------------------------------------------------------------\u001b[0m",
      "\u001b[1;31mIndexError\u001b[0m                                Traceback (most recent call last)",
      "Cell \u001b[1;32mIn[23], line 2\u001b[0m\n\u001b[0;32m      1\u001b[0m motrocycles \u001b[38;5;241m=\u001b[39m []\n\u001b[1;32m----> 2\u001b[0m \u001b[38;5;28mprint\u001b[39m(motrocycles[\u001b[38;5;241m-\u001b[39m\u001b[38;5;241m1\u001b[39m])\n",
      "\u001b[1;31mIndexError\u001b[0m: list index out of range"
     ]
    }
   ],
   "source": [
    "motrocycles = []\n",
    "print(motrocycles[-1]) #这里要求打印列表的最后一个元素，但列表中没有元素"
   ]
  }
 ],
 "metadata": {
  "kernelspec": {
   "display_name": "Python 3 (ipykernel)",
   "language": "python",
   "name": "python3"
  },
  "language_info": {
   "codemirror_mode": {
    "name": "ipython",
    "version": 3
   },
   "file_extension": ".py",
   "mimetype": "text/x-python",
   "name": "python",
   "nbconvert_exporter": "python",
   "pygments_lexer": "ipython3",
   "version": "3.11.5"
  }
 },
 "nbformat": 4,
 "nbformat_minor": 5
}
