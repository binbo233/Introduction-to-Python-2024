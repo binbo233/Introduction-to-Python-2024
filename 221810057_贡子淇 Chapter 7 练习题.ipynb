{
 "cells": [
  {
   "cell_type": "markdown",
   "id": "9b79d918",
   "metadata": {},
   "source": [
    "# 练习 7.1"
   ]
  },
  {
   "cell_type": "code",
   "execution_count": 1,
   "id": "cfe76f8c",
   "metadata": {},
   "outputs": [
    {
     "name": "stdout",
     "output_type": "stream",
     "text": [
      "What kind of car would you like to borrow ? Subaru\n",
      "Let me see if I can find you a Subaru.\n"
     ]
    }
   ],
   "source": [
    "message = input(\"What kind of car would you like to borrow ? \")\n",
    "print(f\"Let me see if I can find you a {message}.\")"
   ]
  },
  {
   "cell_type": "markdown",
   "id": "09196490",
   "metadata": {},
   "source": [
    "# 练习 7.2"
   ]
  },
  {
   "cell_type": "code",
   "execution_count": 2,
   "id": "8ce3d7d7",
   "metadata": {},
   "outputs": [
    {
     "name": "stdout",
     "output_type": "stream",
     "text": [
      "How many people will come? 9\n",
      "No empty table.\n"
     ]
    }
   ],
   "source": [
    "message = input(\"How many people will come? \")\n",
    "if int(message) > 8:\n",
    "    print(\"No empty table.\")\n",
    "else:\n",
    "    print(\"There is empty table.\")"
   ]
  },
  {
   "cell_type": "markdown",
   "id": "f3fcfc67",
   "metadata": {},
   "source": [
    "# 练习 7.3"
   ]
  },
  {
   "cell_type": "code",
   "execution_count": 4,
   "id": "39297796",
   "metadata": {},
   "outputs": [
    {
     "name": "stdout",
     "output_type": "stream",
     "text": [
      "Enter a number. 100\n",
      "是10的整数倍\n"
     ]
    }
   ],
   "source": [
    "number = input(\"Enter a number. \")\n",
    "if int(number) % 10 == 0:\n",
    "    print(\"是10的整数倍\")\n",
    "else:\n",
    "    print(\"不是10的整数倍\")"
   ]
  },
  {
   "cell_type": "markdown",
   "id": "6b061538",
   "metadata": {},
   "source": [
    "# 练习 7.4"
   ]
  },
  {
   "cell_type": "code",
   "execution_count": 6,
   "id": "b3d41c71",
   "metadata": {},
   "outputs": [
    {
     "name": "stdout",
     "output_type": "stream",
     "text": [
      "Enter the pizza addings you want. Enter 'quit' when you feel enough. bacon\n",
      "Add bacon in the pizza.\n",
      "Enter the pizza addings you want. Enter 'quit' when you feel enough. cheese\n",
      "Add cheese in the pizza.\n",
      "Enter the pizza addings you want. Enter 'quit' when you feel enough. quit\n"
     ]
    }
   ],
   "source": [
    "prompt = \"Enter the pizza addings you want. \"\n",
    "prompt += \"Enter 'quit' when you feel enough. \"\n",
    "\n",
    "active = True \n",
    "while active:\n",
    "    addings = input(prompt)\n",
    "    if addings == 'quit':\n",
    "        break\n",
    "    \n",
    "    print(f\"Add {addings} in the pizza.\")"
   ]
  },
  {
   "cell_type": "markdown",
   "id": "556988d8",
   "metadata": {},
   "source": [
    "# 练习7.5"
   ]
  },
  {
   "cell_type": "code",
   "execution_count": 1,
   "id": "7fe71b25",
   "metadata": {},
   "outputs": [
    {
     "name": "stdout",
     "output_type": "stream",
     "text": [
      "How old are you? Enter 'quit' if no one wants to buy the ticket. 2\n",
      "Free.\n",
      "How old are you? Enter 'quit' if no one wants to buy the ticket. 4\n",
      "10 dollars.\n",
      "How old are you? Enter 'quit' if no one wants to buy the ticket. 18\n",
      "15 dollars\n",
      "How old are you? Enter 'quit' if no one wants to buy the ticket. quit\n"
     ]
    }
   ],
   "source": [
    "message = \"How old are you? \" \n",
    "message += \"Enter 'quit' if no one wants to buy the ticket. \"\n",
    "\n",
    "active = True \n",
    "\n",
    "while active:\n",
    "    number = input(message)\n",
    "    if number == 'quit':\n",
    "        break\n",
    "    \n",
    "    else:    \n",
    "        age = int(number)\n",
    "        if age < 3:\n",
    "            print(\"Free.\")\n",
    "        elif age < 12:\n",
    "            print(\"10 dollars.\")\n",
    "        elif age >= 12 :\n",
    "            print(\"15 dollars\")"
   ]
  },
  {
   "cell_type": "markdown",
   "id": "079e3788",
   "metadata": {},
   "source": [
    "# 练习 7.6"
   ]
  },
  {
   "cell_type": "code",
   "execution_count": 2,
   "id": "6e1e22a7",
   "metadata": {},
   "outputs": [
    {
     "name": "stdout",
     "output_type": "stream",
     "text": [
      "How old are you? Enter 'quit' if no one wants to buy the ticket. 2\n",
      "Free.\n",
      "How old are you? Enter 'quit' if no one wants to buy the ticket. 4\n",
      "10 dollars.\n",
      "How old are you? Enter 'quit' if no one wants to buy the ticket. 18\n",
      "15 dollars.\n",
      "How old are you? Enter 'quit' if no one wants to buy the ticket. quit\n"
     ]
    }
   ],
   "source": [
    "message = \"How old are you? \" \n",
    "message += \"Enter 'quit' if no one wants to buy the ticket. \"\n",
    "\n",
    "number = \"\"\n",
    "while number != 'quit':\n",
    "    number = input(message)\n",
    "    \n",
    "    if number != 'quit':\n",
    "        age = int(number)\n",
    "        if age < 3:\n",
    "            price = 'Free.'\n",
    "        elif age < 12:\n",
    "            price = '10 dollars.'\n",
    "        elif age >= 12:\n",
    "            price = '15 dollars.'\n",
    "        \n",
    "        print(price)"
   ]
  },
  {
   "cell_type": "code",
   "execution_count": 3,
   "id": "37c0bc95",
   "metadata": {},
   "outputs": [
    {
     "name": "stdout",
     "output_type": "stream",
     "text": [
      "How old are you? Enter 'quit' if no one wants to buy the ticket. 2\n",
      "Free.\n",
      "How old are you? Enter 'quit' if no one wants to buy the ticket. 4\n",
      "10 dollars.\n",
      "How old are you? Enter 'quit' if no one wants to buy the ticket. 18\n",
      "15 dollars\n",
      "How old are you? Enter 'quit' if no one wants to buy the ticket. quit\n"
     ]
    }
   ],
   "source": [
    "message = \"How old are you? \" \n",
    "message += \"Enter 'quit' if no one wants to buy the ticket. \"\n",
    "\n",
    "active = True \n",
    "\n",
    "while active:\n",
    "    number = input(message)\n",
    "    if number == 'quit':\n",
    "        active = False\n",
    "    \n",
    "    else:    \n",
    "        age = int(number)\n",
    "        if age < 3:\n",
    "            print(\"Free.\")\n",
    "        elif age < 12:\n",
    "            print(\"10 dollars.\")\n",
    "        elif age >= 12 :\n",
    "            print(\"15 dollars\")"
   ]
  },
  {
   "cell_type": "code",
   "execution_count": 4,
   "id": "624cdebc",
   "metadata": {},
   "outputs": [
    {
     "name": "stdout",
     "output_type": "stream",
     "text": [
      "How old are you? Enter 'quit' if no one wants to buy the ticket. 2\n",
      "Free.\n",
      "How old are you? Enter 'quit' if no one wants to buy the ticket. 4\n",
      "10 dollars.\n",
      "How old are you? Enter 'quit' if no one wants to buy the ticket. 18\n",
      "15 dollars\n",
      "How old are you? Enter 'quit' if no one wants to buy the ticket. quit\n"
     ]
    }
   ],
   "source": [
    "message = \"How old are you? \" \n",
    "message += \"Enter 'quit' if no one wants to buy the ticket. \"\n",
    "\n",
    "while True:\n",
    "    number = input(message)\n",
    "    if number == 'quit':\n",
    "        break\n",
    "    \n",
    "    else:    \n",
    "        age = int(number)\n",
    "        if age < 3:\n",
    "            print(\"Free.\")\n",
    "        elif age < 12:\n",
    "            print(\"10 dollars.\")\n",
    "        elif age >= 12 :\n",
    "            print(\"15 dollars\")"
   ]
  },
  {
   "cell_type": "markdown",
   "id": "86977240",
   "metadata": {},
   "source": [
    "# 练习 7.7"
   ]
  },
  {
   "cell_type": "code",
   "execution_count": null,
   "id": "a06df50d",
   "metadata": {},
   "outputs": [],
   "source": [
    "number = input(\"Enter a number and it is bigger than 1. \")\n",
    "while int(number) > 1:\n",
    "    print(number)\n",
    "    #无限循环"
   ]
  },
  {
   "cell_type": "markdown",
   "id": "a74f6beb",
   "metadata": {},
   "source": [
    "# 练习 7.8"
   ]
  },
  {
   "cell_type": "code",
   "execution_count": 7,
   "id": "193a7be0",
   "metadata": {},
   "outputs": [
    {
     "name": "stdout",
     "output_type": "stream",
     "text": [
      "I made your salad sandwich.\n",
      "I made your meat sandwich.\n",
      "I made your cheese sandwich.\n",
      "['salad sandwich', 'meat sandwich', 'cheese sandwich']\n"
     ]
    }
   ],
   "source": [
    "sandwich_orders = ['cheese sandwich', 'meat sandwich', 'salad sandwich']\n",
    "finished_sandwich = []\n",
    "\n",
    "while sandwich_orders:\n",
    "    sandwich = sandwich_orders.pop()\n",
    "    print(f\"I made your {sandwich}.\")\n",
    "    finished_sandwich.append(sandwich)\n",
    "    \n",
    "print(finished_sandwich)"
   ]
  },
  {
   "cell_type": "markdown",
   "id": "0175c9f2",
   "metadata": {},
   "source": [
    "# 练习7.9"
   ]
  },
  {
   "cell_type": "code",
   "execution_count": 8,
   "id": "3e67e0cb",
   "metadata": {},
   "outputs": [
    {
     "name": "stdout",
     "output_type": "stream",
     "text": [
      "Pastrami is sold out.\n",
      "I made your salad sandwich.\n",
      "I made your meat sandwich.\n",
      "I made your cheese sandwich.\n",
      "['salad sandwich', 'meat sandwich', 'cheese sandwich']\n"
     ]
    }
   ],
   "source": [
    "sandwich_orders = ['cheese sandwich', 'pastrami','meat sandwich', 'pastrami','salad sandwich', 'pastrami']\n",
    "finished_sandwich = []\n",
    "\n",
    "print(\"Pastrami is sold out.\")\n",
    "while 'pastrami' in sandwich_orders:\n",
    "    sandwich_orders.remove('pastrami')\n",
    "    \n",
    "while sandwich_orders:\n",
    "    sandwich = sandwich_orders.pop()\n",
    "    print(f\"I made your {sandwich}.\")\n",
    "    finished_sandwich.append(sandwich)\n",
    "    \n",
    "print(finished_sandwich)"
   ]
  },
  {
   "cell_type": "markdown",
   "id": "e06f26ef",
   "metadata": {},
   "source": [
    "# 练习 7.10"
   ]
  },
  {
   "cell_type": "code",
   "execution_count": 1,
   "id": "bd1b1045",
   "metadata": {},
   "outputs": [
    {
     "name": "stdout",
     "output_type": "stream",
     "text": [
      "If you could visit one place in the world, where would you go? Enter 'quit' if no one want to take part in the survey. Shanghai\n",
      "What is your name? Tom\n",
      "If you could visit one place in the world, where would you go? Enter 'quit' if no one want to take part in the survey. Beijing\n",
      "What is your name? Sam\n",
      "If you could visit one place in the world, where would you go? Enter 'quit' if no one want to take part in the survey. Nanjing\n",
      "What is your name? John\n",
      "If you could visit one place in the world, where would you go? Enter 'quit' if no one want to take part in the survey. quit\n",
      "\n",
      "Results:\n",
      "Tom would like to go Shanghai.\n",
      "Sam would like to go Beijing.\n",
      "John would like to go Nanjing.\n"
     ]
    }
   ],
   "source": [
    "prompt = \"If you could visit one place in the world, where would you go? \"\n",
    "prompt += \"Enter 'quit' if no one want to take part in the survey. \"\n",
    "infomation = {}\n",
    "\n",
    "active = True \n",
    "while active:\n",
    "    message = input(prompt)\n",
    "    \n",
    "    if message == 'quit':\n",
    "        break\n",
    "    \n",
    "    else:\n",
    "        name = input(\"What is your name? \")\n",
    "        infomation[name] = message\n",
    "        \n",
    "print(\"\\nResults:\")\n",
    "for name, message in infomation.items():\n",
    "    print(f\"{name} would like to go {message}.\")"
   ]
  }
 ],
 "metadata": {
  "kernelspec": {
   "display_name": "Python 3 (ipykernel)",
   "language": "python",
   "name": "python3"
  },
  "language_info": {
   "codemirror_mode": {
    "name": "ipython",
    "version": 3
   },
   "file_extension": ".py",
   "mimetype": "text/x-python",
   "name": "python",
   "nbconvert_exporter": "python",
   "pygments_lexer": "ipython3",
   "version": "3.11.5"
  }
 },
 "nbformat": 4,
 "nbformat_minor": 5
}
