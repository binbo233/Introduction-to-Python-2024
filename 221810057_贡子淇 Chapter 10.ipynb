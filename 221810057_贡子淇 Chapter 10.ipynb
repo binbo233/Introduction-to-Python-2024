{
 "cells": [
  {
   "cell_type": "markdown",
   "id": "7fd61390",
   "metadata": {},
   "source": [
    "# 10.1 读取文件"
   ]
  },
  {
   "cell_type": "markdown",
   "id": "42e2e79c",
   "metadata": {},
   "source": [
    "# 10.1.1 读取文件的全部内容"
   ]
  },
  {
   "cell_type": "code",
   "execution_count": 1,
   "id": "a63b553a",
   "metadata": {},
   "outputs": [
    {
     "name": "stdout",
     "output_type": "stream",
     "text": [
      "3.1415926535\n",
      "  8979323846\n",
      "  2643383279\n"
     ]
    }
   ],
   "source": [
    "#从pathlib模块中引入Path类\n",
    "from pathlib import Path  \n",
    "\n",
    "#用Path来访问文件\n",
    "path = Path('pi_digits.txt')  \n",
    "#使用 read_text() 方法来读取这个文件的全部内容\n",
    "contents = path.read_text()\n",
    "print(contents)"
   ]
  },
  {
   "cell_type": "code",
   "execution_count": 2,
   "id": "8bb53a2b",
   "metadata": {},
   "outputs": [
    {
     "name": "stdout",
     "output_type": "stream",
     "text": [
      "3.1415926535\n",
      "  8979323846\n",
      "  2643383279\n"
     ]
    }
   ],
   "source": [
    "#从pathlib模块中引入Path类\n",
    "from pathlib import Path\n",
    "\n",
    "#用Path来访问文件\n",
    "path = Path('pi_digits.txt')\n",
    "#使用 read_text() 方法来读取这个文件的全部内容\n",
    "contents = path.read_text()\n",
    "#用rstrip（）来删除多返回的一个空字符串，以删除多出来的空行\n",
    "contents = contents.rstrip() \n",
    "print(contents)"
   ]
  },
  {
   "cell_type": "markdown",
   "id": "297db76d",
   "metadata": {},
   "source": [
    "# 10.1.2 相对文件路径和绝对文件路径"
   ]
  },
  {
   "cell_type": "code",
   "execution_count": 8,
   "id": "a4f31abf",
   "metadata": {},
   "outputs": [
    {
     "name": "stdout",
     "output_type": "stream",
     "text": [
      "['3.1415926535\\n', '  8979323846\\n', '  2643383279']\n"
     ]
    }
   ],
   "source": [
    "#相对文件路径让 Python 到相对于当前运行的程序所在目录的指定位置去查找\n",
    "with open(\"./../gzq/pi_digits.txt\", \"r\") as file:\n",
    "    data = file.readlines()\n",
    "    \n",
    "print(data)"
   ]
  },
  {
   "cell_type": "code",
   "execution_count": 9,
   "id": "a6ec6c05",
   "metadata": {},
   "outputs": [
    {
     "name": "stdout",
     "output_type": "stream",
     "text": [
      "['3.1415926535\\n', '  8979323846\\n', '  2643383279']\n"
     ]
    }
   ],
   "source": [
    "#绝对文件路径可以将文件在计算机中的准确位置告诉 Python\n",
    "with open(\"C:/Users/gzq/pi_digits.txt\", \"r\") as file:\n",
    "    data = file.readlines()\n",
    "    \n",
    "print(data)"
   ]
  },
  {
   "cell_type": "markdown",
   "id": "c08791ee",
   "metadata": {},
   "source": [
    "# 10.1.3 访问文件中的各行"
   ]
  },
  {
   "cell_type": "code",
   "execution_count": 10,
   "id": "8171518f",
   "metadata": {},
   "outputs": [
    {
     "name": "stdout",
     "output_type": "stream",
     "text": [
      "3.1415926535\n",
      "  8979323846\n",
      "  2643383279\n"
     ]
    }
   ],
   "source": [
    "from pathlib import Path\n",
    "\n",
    "path = Path('pi_digits.txt')\n",
    "contents = path.read_text()\n",
    "\n",
    "#用splitlines（）创建一个列表，并将其赋给lines\n",
    "lines = contents.splitlines() \n",
    "for line in lines:\n",
    "    print(line)"
   ]
  },
  {
   "cell_type": "markdown",
   "id": "fe28e566",
   "metadata": {},
   "source": [
    "# 10.1.4 使用文件的内容"
   ]
  },
  {
   "cell_type": "code",
   "execution_count": 11,
   "id": "015c235e",
   "metadata": {},
   "outputs": [
    {
     "name": "stdout",
     "output_type": "stream",
     "text": [
      "3.1415926535  8979323846  2643383279\n",
      "36\n"
     ]
    }
   ],
   "source": [
    "from pathlib import Path\n",
    "\n",
    "path = Path('pi_digits.txt')\n",
    "contents = path.read_text()\n",
    "\n",
    "#用splitlines（）创建一个列表，并将其赋给lines\n",
    "lines = contents.splitlines() \n",
    "pi_string = ''\n",
    "for line in lines:\n",
    "    pi_string += line\n",
    "  \n",
    " #打印这个字符串及其长度\n",
    "print(pi_string)\n",
    "print(len(pi_string))"
   ]
  },
  {
   "cell_type": "code",
   "execution_count": 12,
   "id": "5930b40b",
   "metadata": {},
   "outputs": [
    {
     "name": "stdout",
     "output_type": "stream",
     "text": [
      "3.141592653589793238462643383279\n",
      "32\n"
     ]
    }
   ],
   "source": [
    "from pathlib import Path\n",
    "\n",
    "path = Path('pi_digits.txt')\n",
    "contents = path.read_text()\n",
    "\n",
    "#用splitlines（）创建一个列表，并将其赋给lines\n",
    "lines = contents.splitlines() \n",
    "pi_string = ''\n",
    "for line in lines:\n",
    "    pi_string += line.lstrip() #删除每个字符串左边的空格\n",
    "\n",
    "#打印这个字符串及其长度\n",
    "print(pi_string)\n",
    "print(len(pi_string))"
   ]
  },
  {
   "cell_type": "markdown",
   "id": "9c4a6fea",
   "metadata": {},
   "source": [
    "# 10.1.5 包含100万位的大型文件"
   ]
  },
  {
   "cell_type": "code",
   "execution_count": 2,
   "id": "b03ca10a",
   "metadata": {},
   "outputs": [
    {
     "name": "stdout",
     "output_type": "stream",
     "text": [
      "3.14159265358979323846264338327950288419716939937510...\n",
      "1000002\n"
     ]
    }
   ],
   "source": [
    "from pathlib import Path\n",
    "\n",
    "path = Path('pi_million_digits.txt')\n",
    "contents = path.read_text()\n",
    "\n",
    "#用splitlines（）创建一个列表，并将其赋给lines\n",
    "lines = contents.splitlines()\n",
    "pi_string = ''\n",
    "for line in lines:\n",
    "    pi_string += line.lstrip() #删除每个字符串左边的空格\n",
    "\n",
    "#只打印到小数点后 50 位\n",
    "print(f\"{pi_string[:52]}...\")\n",
    "print(len(pi_string))"
   ]
  },
  {
   "cell_type": "markdown",
   "id": "8472b6e3",
   "metadata": {},
   "source": [
    "# 10.1.6 圆周率值中包含你的生日吗"
   ]
  },
  {
   "cell_type": "code",
   "execution_count": 3,
   "id": "e3f0842d",
   "metadata": {},
   "outputs": [
    {
     "name": "stdout",
     "output_type": "stream",
     "text": [
      "Enter your birthday, in the from mmddyy: 040228\n",
      "Your birthday appears in the first million digits of pi!\n"
     ]
    }
   ],
   "source": [
    "from pathlib import Path\n",
    "\n",
    "path = Path('pi_million_digits.txt')\n",
    "contents = path.read_text()\n",
    "\n",
    "#用splitlines（）创建一个列表，并将其赋给lines\n",
    "lines = contents.splitlines()\n",
    "pi_string = ''\n",
    "for line in lines:\n",
    "    pi_string += line.strip() #删除每个字符串两边的空格\n",
    "    \n",
    "birthday = input(\"Enter your birthday, in the from mmddyy: \")\n",
    "if birthday in pi_string:\n",
    "    print(\"Your birthday appears in the first million digits of pi!\")\n",
    "else:\n",
    "    print(\"Your birthday does not appear in the first million digits of pi.\")"
   ]
  },
  {
   "cell_type": "markdown",
   "id": "7269e896",
   "metadata": {},
   "source": [
    "# 10.2 写入文件"
   ]
  },
  {
   "cell_type": "markdown",
   "id": "b7cfa9d7",
   "metadata": {},
   "source": [
    "# 10.2.1 写入一行"
   ]
  },
  {
   "cell_type": "code",
   "execution_count": 4,
   "id": "99f232f2",
   "metadata": {},
   "outputs": [
    {
     "data": {
      "text/plain": [
       "19"
      ]
     },
     "execution_count": 4,
     "metadata": {},
     "output_type": "execute_result"
    }
   ],
   "source": [
    "from pathlib import Path \n",
    "\n",
    "path = Path('programming.txt')\n",
    "#write_text() 方法接受单个实参，即要写入文件的字符串\n",
    "path.write_text(\"I love programmimg.\")"
   ]
  },
  {
   "cell_type": "markdown",
   "id": "c03963e6",
   "metadata": {},
   "source": [
    "# 10.2.2 写入多行"
   ]
  },
  {
   "cell_type": "code",
   "execution_count": 5,
   "id": "f80ebb52",
   "metadata": {},
   "outputs": [
    {
     "data": {
      "text/plain": [
       "78"
      ]
     },
     "execution_count": 5,
     "metadata": {},
     "output_type": "execute_result"
    }
   ],
   "source": [
    "from pathlib import Path \n",
    "\n",
    "#使用运算符 += 在该变量中追加这个字符串\n",
    "contents = \"I love programming.\\n\"\n",
    "contents += \"I love creating new games.\\n\"\n",
    "contents += \"I also love working with data.\\n\"\n",
    "\n",
    "path = Path('programming.txt')\n",
    "#write_text() 方法接受单个实参，即要写入文件的字符串\n",
    "path.write_text(contents)"
   ]
  },
  {
   "cell_type": "markdown",
   "id": "2115b244",
   "metadata": {},
   "source": [
    "# 10.3 异常"
   ]
  },
  {
   "cell_type": "markdown",
   "id": "02f23cd1",
   "metadata": {},
   "source": [
    "# 10.3.1 处理ZeroDivisionError异常"
   ]
  },
  {
   "cell_type": "code",
   "execution_count": 6,
   "id": "232c4a57",
   "metadata": {},
   "outputs": [
    {
     "ename": "ZeroDivisionError",
     "evalue": "division by zero",
     "output_type": "error",
     "traceback": [
      "\u001b[1;31m---------------------------------------------------------------------------\u001b[0m",
      "\u001b[1;31mZeroDivisionError\u001b[0m                         Traceback (most recent call last)",
      "Cell \u001b[1;32mIn[6], line 1\u001b[0m\n\u001b[1;32m----> 1\u001b[0m \u001b[38;5;28mprint\u001b[39m(\u001b[38;5;241m5\u001b[39m\u001b[38;5;241m/\u001b[39m\u001b[38;5;241m0\u001b[39m)\n",
      "\u001b[1;31mZeroDivisionError\u001b[0m: division by zero"
     ]
    }
   ],
   "source": [
    "print(5/0)\n",
    "#不能将数除以0，会报错"
   ]
  },
  {
   "cell_type": "markdown",
   "id": "a84006ee",
   "metadata": {},
   "source": [
    "# 10.3.2 使用try-except代码块"
   ]
  },
  {
   "cell_type": "code",
   "execution_count": 7,
   "id": "9c4efe8c",
   "metadata": {},
   "outputs": [
    {
     "name": "stdout",
     "output_type": "stream",
     "text": [
      "You can't divide by zero!\n"
     ]
    }
   ],
   "source": [
    "#如果 try 代码块中的代码运行起来没有问题，Python 将跳过 except 代码块；\n",
    "#如果 try 代码块中的代码导致错误，Python 将查找与之匹配的 except 代码块并运行其中的代码\n",
    "\n",
    "try:\n",
    "    print(5/0)\n",
    "except ZeroDivisionError:\n",
    "    print(\"You can't divide by zero!\")\n",
    "#让python尝试运行特定代码，并告诉它如果这些代码引发异常该怎么办"
   ]
  },
  {
   "cell_type": "markdown",
   "id": "32248671",
   "metadata": {},
   "source": [
    "# 10.3.3 使用异常避免崩溃"
   ]
  },
  {
   "cell_type": "code",
   "execution_count": 8,
   "id": "616bd691",
   "metadata": {},
   "outputs": [
    {
     "name": "stdout",
     "output_type": "stream",
     "text": [
      "Give me two numbers, and I will divide them.\n",
      "Enter 'q' to quit.\n",
      "\n",
      "First number:5\n",
      "Second number:0\n"
     ]
    },
    {
     "ename": "ZeroDivisionError",
     "evalue": "division by zero",
     "output_type": "error",
     "traceback": [
      "\u001b[1;31m---------------------------------------------------------------------------\u001b[0m",
      "\u001b[1;31mZeroDivisionError\u001b[0m                         Traceback (most recent call last)",
      "Cell \u001b[1;32mIn[8], line 13\u001b[0m\n\u001b[0;32m     10\u001b[0m \u001b[38;5;28;01mif\u001b[39;00m second_number \u001b[38;5;241m==\u001b[39m \u001b[38;5;124m'\u001b[39m\u001b[38;5;124mq\u001b[39m\u001b[38;5;124m'\u001b[39m:\n\u001b[0;32m     11\u001b[0m     \u001b[38;5;28;01mbreak\u001b[39;00m\n\u001b[1;32m---> 13\u001b[0m answer \u001b[38;5;241m=\u001b[39m \u001b[38;5;28mint\u001b[39m(first_number) \u001b[38;5;241m/\u001b[39m \u001b[38;5;28mint\u001b[39m(second_number)\n\u001b[0;32m     14\u001b[0m \u001b[38;5;28mprint\u001b[39m(answer)\n",
      "\u001b[1;31mZeroDivisionError\u001b[0m: division by zero"
     ]
    }
   ],
   "source": [
    "print(\"Give me two numbers, and I will divide them.\")\n",
    "print(\"Enter 'q' to quit.\")\n",
    "\n",
    "while True:\n",
    "    first_number = input(\"\\nFirst number:\")\n",
    "    if first_number == 'q':\n",
    "        break\n",
    "        \n",
    "    second_number = input(\"Second number:\")\n",
    "    if second_number == 'q':\n",
    "        break\n",
    "        \n",
    "    answer = int(first_number) / int(second_number)\n",
    "    print(answer)\n",
    "    #错误案例"
   ]
  },
  {
   "cell_type": "markdown",
   "id": "dd2c6371",
   "metadata": {},
   "source": [
    "# 10.3.4 else代码块"
   ]
  },
  {
   "cell_type": "code",
   "execution_count": 9,
   "id": "57afb0c2",
   "metadata": {},
   "outputs": [
    {
     "name": "stdout",
     "output_type": "stream",
     "text": [
      "Give me two numbers, and I will divide them.\n",
      "Enter 'q' to quit.\n",
      "\n",
      "First number:5\n",
      "Second number:0\n",
      "You can't divide by 0!\n",
      "\n",
      "First number:5\n",
      "Second number:2\n",
      "2.5\n",
      "\n",
      "First number:q\n"
     ]
    }
   ],
   "source": [
    "print(\"Give me two numbers, and I will divide them.\")\n",
    "print(\"Enter 'q' to quit.\")\n",
    "\n",
    "while True:\n",
    "    first_number = input(\"\\nFirst number:\")\n",
    "    if first_number == 'q':\n",
    "        break\n",
    "        \n",
    "    second_number = input(\"Second number:\")\n",
    "    if second_number == 'q':\n",
    "        break\n",
    "        \n",
    "    try:\n",
    "        answer = int(first_number) / int(second_number)\n",
    "    except ZeroDivisionError:\n",
    "        print(\"You can't divide by 0!\")\n",
    "    else:\n",
    "        print(answer)\n",
    "    #else放在try-except代码块中，如果try运行成功，将运行else代码块"
   ]
  },
  {
   "cell_type": "markdown",
   "id": "62e8f5b9",
   "metadata": {},
   "source": [
    "# 10.3.5 处理FileNotFoundError异常"
   ]
  },
  {
   "cell_type": "code",
   "execution_count": 10,
   "id": "6c610089",
   "metadata": {},
   "outputs": [
    {
     "ename": "FileNotFoundError",
     "evalue": "[Errno 2] No such file or directory: 'alice.txt'",
     "output_type": "error",
     "traceback": [
      "\u001b[1;31m---------------------------------------------------------------------------\u001b[0m",
      "\u001b[1;31mFileNotFoundError\u001b[0m                         Traceback (most recent call last)",
      "Cell \u001b[1;32mIn[10], line 4\u001b[0m\n\u001b[0;32m      1\u001b[0m \u001b[38;5;28;01mfrom\u001b[39;00m \u001b[38;5;21;01mpathlib\u001b[39;00m \u001b[38;5;28;01mimport\u001b[39;00m Path\n\u001b[0;32m      3\u001b[0m path \u001b[38;5;241m=\u001b[39m Path(\u001b[38;5;124m'\u001b[39m\u001b[38;5;124malice.txt\u001b[39m\u001b[38;5;124m'\u001b[39m)\n\u001b[1;32m----> 4\u001b[0m contents \u001b[38;5;241m=\u001b[39m path\u001b[38;5;241m.\u001b[39mread_text(encoding\u001b[38;5;241m=\u001b[39m\u001b[38;5;124m'\u001b[39m\u001b[38;5;124mutf-8\u001b[39m\u001b[38;5;124m'\u001b[39m)\n",
      "File \u001b[1;32mD:\\Anaconda\\Lib\\pathlib.py:1058\u001b[0m, in \u001b[0;36mPath.read_text\u001b[1;34m(self, encoding, errors)\u001b[0m\n\u001b[0;32m   1054\u001b[0m \u001b[38;5;250m\u001b[39m\u001b[38;5;124;03m\"\"\"\u001b[39;00m\n\u001b[0;32m   1055\u001b[0m \u001b[38;5;124;03mOpen the file in text mode, read it, and close the file.\u001b[39;00m\n\u001b[0;32m   1056\u001b[0m \u001b[38;5;124;03m\"\"\"\u001b[39;00m\n\u001b[0;32m   1057\u001b[0m encoding \u001b[38;5;241m=\u001b[39m io\u001b[38;5;241m.\u001b[39mtext_encoding(encoding)\n\u001b[1;32m-> 1058\u001b[0m \u001b[38;5;28;01mwith\u001b[39;00m \u001b[38;5;28mself\u001b[39m\u001b[38;5;241m.\u001b[39mopen(mode\u001b[38;5;241m=\u001b[39m\u001b[38;5;124m'\u001b[39m\u001b[38;5;124mr\u001b[39m\u001b[38;5;124m'\u001b[39m, encoding\u001b[38;5;241m=\u001b[39mencoding, errors\u001b[38;5;241m=\u001b[39merrors) \u001b[38;5;28;01mas\u001b[39;00m f:\n\u001b[0;32m   1059\u001b[0m     \u001b[38;5;28;01mreturn\u001b[39;00m f\u001b[38;5;241m.\u001b[39mread()\n",
      "File \u001b[1;32mD:\\Anaconda\\Lib\\pathlib.py:1044\u001b[0m, in \u001b[0;36mPath.open\u001b[1;34m(self, mode, buffering, encoding, errors, newline)\u001b[0m\n\u001b[0;32m   1042\u001b[0m \u001b[38;5;28;01mif\u001b[39;00m \u001b[38;5;124m\"\u001b[39m\u001b[38;5;124mb\u001b[39m\u001b[38;5;124m\"\u001b[39m \u001b[38;5;129;01mnot\u001b[39;00m \u001b[38;5;129;01min\u001b[39;00m mode:\n\u001b[0;32m   1043\u001b[0m     encoding \u001b[38;5;241m=\u001b[39m io\u001b[38;5;241m.\u001b[39mtext_encoding(encoding)\n\u001b[1;32m-> 1044\u001b[0m \u001b[38;5;28;01mreturn\u001b[39;00m io\u001b[38;5;241m.\u001b[39mopen(\u001b[38;5;28mself\u001b[39m, mode, buffering, encoding, errors, newline)\n",
      "\u001b[1;31mFileNotFoundError\u001b[0m: [Errno 2] No such file or directory: 'alice.txt'"
     ]
    }
   ],
   "source": [
    "from pathlib import Path\n",
    "\n",
    "path = Path('alice.txt')\n",
    "contents = path.read_text(encoding='utf-8')\n",
    "#尝试读取一个不存在的文件，会报错"
   ]
  },
  {
   "cell_type": "code",
   "execution_count": 11,
   "id": "833674db",
   "metadata": {},
   "outputs": [
    {
     "name": "stdout",
     "output_type": "stream",
     "text": [
      "Sorry, the file alice.txt does not exist.\n"
     ]
    }
   ],
   "source": [
    "from pathlib import Path\n",
    "\n",
    "path = Path('alice.txt')\n",
    "try:\n",
    "    contents = path.read_text(encoding='utf-8')\n",
    "except FileNotFoundError:\n",
    "    print(f\"Sorry, the file {path} does not exist.\")\n",
    "#用try-except代码块来处理错误"
   ]
  },
  {
   "cell_type": "markdown",
   "id": "bce42dbc",
   "metadata": {},
   "source": [
    "# 10.3.6 分析文本"
   ]
  },
  {
   "cell_type": "code",
   "execution_count": 16,
   "id": "360f2870",
   "metadata": {},
   "outputs": [
    {
     "name": "stdout",
     "output_type": "stream",
     "text": [
      "The file alice.txt has about 29564 words.\n"
     ]
    }
   ],
   "source": [
    "from pathlib import Path\n",
    "\n",
    "path = Path('alice.txt')\n",
    "try:\n",
    "    contents = path.read_text(encoding='utf-8')\n",
    "except FileNotFoundError:\n",
    "    print(f\"Sorry, the file {path} does not exist.\")\n",
    "else:\n",
    "    #计算文件中大致包含多少个单词\n",
    "    words = contents.split()\n",
    "    num_words = len(words)\n",
    "    print(f\"The file {path} has about {num_words} words.\")"
   ]
  },
  {
   "cell_type": "markdown",
   "id": "82df9ee9",
   "metadata": {},
   "source": [
    "# 10.3.7 使用多个文件"
   ]
  },
  {
   "cell_type": "code",
   "execution_count": 2,
   "id": "565fe290",
   "metadata": {},
   "outputs": [
    {
     "name": "stdout",
     "output_type": "stream",
     "text": [
      "The file alice.txt has about 29564 words.\n",
      "Sorry, the file siddhartha.txt does not exist.\n",
      "The file moby_dick.txt has about 215838 words.\n",
      "The file little_women.txt has about 189138 words.\n"
     ]
    }
   ],
   "source": [
    "from pathlib import Path\n",
    "\n",
    "def count_words(path):\n",
    "    \"\"\"计算一个文件大致包含多少单词\"\"\"\n",
    "    try:\n",
    "        contents = path.read_text(encoding='utf-8')\n",
    "    except FileNotFoundError:\n",
    "        print(f\"Sorry, the file {path} does not exist.\")\n",
    "    else:\n",
    "        #计算文件中大致包含多少个单词\n",
    "        words = contents.split()\n",
    "        num_words = len(words)\n",
    "        print(f\"The file {path} has about {num_words} words.\")\n",
    "        \n",
    "filenames = ['alice.txt','siddhartha.txt','moby_dick.txt','little_women.txt']\n",
    "for filename in filenames:\n",
    "    path = Path(filename)\n",
    "    count_words(path)"
   ]
  },
  {
   "cell_type": "markdown",
   "id": "054a1dc8",
   "metadata": {},
   "source": [
    "# 10.3.8 静默失败"
   ]
  },
  {
   "cell_type": "code",
   "execution_count": 3,
   "id": "52e48ba0",
   "metadata": {},
   "outputs": [
    {
     "name": "stdout",
     "output_type": "stream",
     "text": [
      "The file alice.txt has about 29564 words.\n",
      "The file moby_dick.txt has about 215838 words.\n",
      "The file little_women.txt has about 189138 words.\n"
     ]
    }
   ],
   "source": [
    "from pathlib import Path\n",
    "\n",
    "def count_words(path):\n",
    "    \"\"\"计算一个文件大致包含多少单词\"\"\"\n",
    "    try:\n",
    "        contents = path.read_text(encoding='utf-8')\n",
    "    except FileNotFoundError:\n",
    "        pass  #用pass来告诉python什么都不用做\n",
    "    else:\n",
    "        #计算文件中大致包含多少个单词\n",
    "        words = contents.split()\n",
    "        num_words = len(words)\n",
    "        print(f\"The file {path} has about {num_words} words.\")\n",
    "        \n",
    "filenames = ['alice.txt','siddhartha.txt','moby_dick.txt','little_women.txt']\n",
    "for filename in filenames:\n",
    "    path = Path(filename)\n",
    "    count_words(path)"
   ]
  },
  {
   "cell_type": "markdown",
   "id": "944bbf16",
   "metadata": {},
   "source": [
    "# 10.4 存储数据"
   ]
  },
  {
   "cell_type": "markdown",
   "id": "f4e436b1",
   "metadata": {},
   "source": [
    "# 10.4.1 使用json.dumps()和json.loads()"
   ]
  },
  {
   "cell_type": "code",
   "execution_count": 5,
   "id": "c410ea62",
   "metadata": {},
   "outputs": [
    {
     "data": {
      "text/plain": [
       "20"
      ]
     },
     "execution_count": 5,
     "metadata": {},
     "output_type": "execute_result"
    }
   ],
   "source": [
    "from pathlib import Path\n",
    "import json\n",
    "\n",
    "numbers = [2,3,5,7,11,13]\n",
    "\n",
    "path = Path('numbers.json')\n",
    "#使用json.dumps()来存储\n",
    "#json.dumps() 函数接受一个实参，生成一个字符串，它包含我们要存储的数据的 JSON 表示形式\n",
    "contents = json.dumps(numbers) \n",
    "path.write_text(contents)"
   ]
  },
  {
   "cell_type": "code",
   "execution_count": 6,
   "id": "6251f984",
   "metadata": {},
   "outputs": [
    {
     "name": "stdout",
     "output_type": "stream",
     "text": [
      "[2, 3, 5, 7, 11, 13]\n"
     ]
    }
   ],
   "source": [
    "from pathlib import Path\n",
    "import json\n",
    "\n",
    "path = Path('numbers.json')\n",
    "contents = path.read_text()\n",
    "#使用 json.loads() 来读取\n",
    "numbers = json.loads(contents)\n",
    "\n",
    "print(numbers)"
   ]
  },
  {
   "cell_type": "markdown",
   "id": "148db167",
   "metadata": {},
   "source": [
    "# 10.4.2 保存和读取用户生成的数据"
   ]
  },
  {
   "cell_type": "code",
   "execution_count": 8,
   "id": "38319289",
   "metadata": {},
   "outputs": [
    {
     "name": "stdout",
     "output_type": "stream",
     "text": [
      "What is your name? Eric\n",
      "We'll remember you when you come back, Eric!\n"
     ]
    }
   ],
   "source": [
    "from pathlib import Path\n",
    "import json\n",
    "\n",
    "username = input(\"What is your name? \")\n",
    "\n",
    "path = Path('username.json')\n",
    "#使用json.dumps()来存储\n",
    "contents = json.dumps(username)\n",
    "path.write_text(contents)\n",
    "\n",
    "print(f\"We'll remember you when you come back, {username}!\")"
   ]
  },
  {
   "cell_type": "code",
   "execution_count": 9,
   "id": "69d29a97",
   "metadata": {},
   "outputs": [
    {
     "name": "stdout",
     "output_type": "stream",
     "text": [
      "Welcome back, Eric!\n"
     ]
    }
   ],
   "source": [
    "from pathlib import Path\n",
    "import json\n",
    "\n",
    "path = Path('username.json')\n",
    "contents = path.read_text()\n",
    "#使用 json.loads() 来读取\n",
    "username = json.loads(contents)\n",
    "\n",
    "print(f\"Welcome back, {username}!\")"
   ]
  },
  {
   "cell_type": "code",
   "execution_count": 10,
   "id": "0638c660",
   "metadata": {},
   "outputs": [
    {
     "name": "stdout",
     "output_type": "stream",
     "text": [
      "Welcome back, Eric!\n"
     ]
    }
   ],
   "source": [
    "from pathlib import Path\n",
    "import json\n",
    "\n",
    "path = Path('username.json')\n",
    "if path.exists():\n",
    "    contents = path.read_text()\n",
    "    #使用 json.loads() 来读取\n",
    "    username = json.loads(contents)\n",
    "    print(f\"Welcome back, {username}!\")\n",
    "\n",
    "else:\n",
    "    username = input(\"What is your name? \")\n",
    "    #使用json.dumps()来存储\n",
    "    contents = json.dumps(username)\n",
    "    path.write_text(contents)\n",
    "    print(f\"We'll remember you when you come back, {username}!\")"
   ]
  },
  {
   "cell_type": "markdown",
   "id": "8359216b",
   "metadata": {},
   "source": [
    "# 10.4.3 重构"
   ]
  },
  {
   "cell_type": "code",
   "execution_count": 11,
   "id": "6c4a1458",
   "metadata": {},
   "outputs": [
    {
     "name": "stdout",
     "output_type": "stream",
     "text": [
      "Welcome back, Eric!\n"
     ]
    }
   ],
   "source": [
    "from pathlib import Path\n",
    "import json\n",
    "\n",
    "def greet_user():\n",
    "    \"\"\"问候用户，并指出其名字\"\"\"\n",
    "    path = Path('username.json')\n",
    "    if path.exists():\n",
    "        contents = path.read_text()\n",
    "        #使用 json.loads() 来读取\n",
    "        username = json.loads(contents)\n",
    "        print(f\"Welcome back, {username}!\")\n",
    "\n",
    "    else:\n",
    "        username = input(\"What is your name? \")\n",
    "        #使用json.dumps()来存储\n",
    "        contents = json.dumps(username)\n",
    "        path.write_text(contents)\n",
    "        print(f\"We'll remember you when you come back, {username}!\")\n",
    "        \n",
    "greet_user()"
   ]
  },
  {
   "cell_type": "code",
   "execution_count": 14,
   "id": "c128fb47",
   "metadata": {},
   "outputs": [
    {
     "name": "stdout",
     "output_type": "stream",
     "text": [
      "Welcome back, Eric!\n"
     ]
    }
   ],
   "source": [
    "from pathlib import Path\n",
    "import json\n",
    "\n",
    "def get_stored_username(path):\n",
    "    \"\"\"如果存储了用户名，就获取它\"\"\"\n",
    "    if path.exists():\n",
    "        contents = path.read_text()\n",
    "        #使用 json.loads() 来读取\n",
    "        username = json.loads(contents)\n",
    "        return username\n",
    "    else:\n",
    "        return None\n",
    "\n",
    "def greet_user():\n",
    "    \"\"\"问候用户，并指出其名字\"\"\"\n",
    "    path = Path('username.json')\n",
    "    username = get_stored_username(path)\n",
    "    if username:\n",
    "        print(f\"Welcome back, {username}!\")\n",
    "\n",
    "    else:\n",
    "        username = input(\"What is your name? \")\n",
    "        #使用json.dumps()来存储\n",
    "        contents = json.dumps(username)\n",
    "        path.write_text(contents)\n",
    "        print(f\"We'll remember you when you come back, {username}!\")\n",
    "        \n",
    "greet_user()"
   ]
  },
  {
   "cell_type": "code",
   "execution_count": 15,
   "id": "379ce6e4",
   "metadata": {},
   "outputs": [
    {
     "name": "stdout",
     "output_type": "stream",
     "text": [
      "Welcome back, Eric!\n"
     ]
    }
   ],
   "source": [
    "from pathlib import Path\n",
    "import json\n",
    "\n",
    "def get_stored_username(path):\n",
    "    \"\"\"如果存储了用户名，就获取它\"\"\"\n",
    "    if path.exists():\n",
    "        contents = path.read_text()\n",
    "        #使用 json.loads() 来读取\n",
    "        username = json.loads(contents)\n",
    "        return username\n",
    "    else:\n",
    "        return None\n",
    "    \n",
    "def get_new_username(path):\n",
    "    \"\"\"提示用户输入用户名\"\"\"\n",
    "    username = input(\"What is your name? \")\n",
    "    #使用json.dumps()来存储\n",
    "    contents = json.dumps(username)\n",
    "    path.write_text(contents)\n",
    "    return username\n",
    "\n",
    "def greet_user():\n",
    "    \"\"\"问候用户，并指出其名字\"\"\"\n",
    "    path = Path('username.json')\n",
    "    username = get_stored_username(path)\n",
    "    if username:\n",
    "        print(f\"Welcome back, {username}!\")\n",
    "\n",
    "    else:\n",
    "        username = get_new_username(path)\n",
    "        print(f\"We'll remember you when you come back, {username}!\")\n",
    "        \n",
    "greet_user()"
   ]
  }
 ],
 "metadata": {
  "kernelspec": {
   "display_name": "Python 3 (ipykernel)",
   "language": "python",
   "name": "python3"
  },
  "language_info": {
   "codemirror_mode": {
    "name": "ipython",
    "version": 3
   },
   "file_extension": ".py",
   "mimetype": "text/x-python",
   "name": "python",
   "nbconvert_exporter": "python",
   "pygments_lexer": "ipython3",
   "version": "3.11.5"
  },
  "toc": {
   "base_numbering": 1,
   "nav_menu": {},
   "number_sections": true,
   "sideBar": true,
   "skip_h1_title": false,
   "title_cell": "Table of Contents",
   "title_sidebar": "Contents",
   "toc_cell": false,
   "toc_position": {},
   "toc_section_display": true,
   "toc_window_display": false
  }
 },
 "nbformat": 4,
 "nbformat_minor": 5
}
