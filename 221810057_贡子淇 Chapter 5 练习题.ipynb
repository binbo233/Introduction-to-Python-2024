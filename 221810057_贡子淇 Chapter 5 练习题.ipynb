{
 "cells": [
  {
   "cell_type": "markdown",
   "id": "aac4a23a",
   "metadata": {},
   "source": [
    "# 练习5.1：条件测试"
   ]
  },
  {
   "cell_type": "code",
   "execution_count": 2,
   "id": "e60626bb",
   "metadata": {},
   "outputs": [
    {
     "name": "stdout",
     "output_type": "stream",
     "text": [
      "Is letter == 'A'? I predict True.\n",
      "True\n",
      "\n",
      "Is letter == 'B'? I predict False.\n",
      "False\n",
      "\n",
      "Is food == 'apple'? I predict True.\n",
      "True\n",
      "\n",
      "Is food == 'orange'? I predict False.\n",
      "False\n",
      "\n",
      "Is animal == 'dog'? I predict True.\n",
      "True\n",
      "\n",
      "Is animal == 'cat'? I predict False.\n",
      "False\n",
      "\n",
      "Is place == 'Nanjing'? I predict True.\n",
      "True\n",
      "\n",
      "Is place == 'Beijing'? I predict False.\n",
      "False\n",
      "\n",
      "Is time == 'morning'? I predict True.\n",
      "True\n",
      "\n",
      "Is time == 'night'? I predict False.\n",
      "False\n"
     ]
    }
   ],
   "source": [
    "#检查两个字符串是否相等或不等\n",
    "\n",
    "letter = 'A'\n",
    "print(\"Is letter == 'A'? I predict True.\")\n",
    "print(letter == 'A')\n",
    "\n",
    "letter = 'A'\n",
    "print(\"\\nIs letter == 'B'? I predict False.\")\n",
    "print(letter == 'B')\n",
    "\n",
    "food = 'apple'\n",
    "print(\"\\nIs food == 'apple'? I predict True.\")\n",
    "print(food == 'apple')\n",
    "\n",
    "food = 'apple'\n",
    "print(\"\\nIs food == 'orange'? I predict False.\")\n",
    "print(food == 'orange')\n",
    "\n",
    "animal = 'dog'\n",
    "print(\"\\nIs animal == 'dog'? I predict True.\")\n",
    "print(animal == 'dog')\n",
    "\n",
    "animal = 'dog'\n",
    "print(\"\\nIs animal == 'cat'? I predict False.\")\n",
    "print(animal == 'cat')\n",
    "\n",
    "place = 'Nanjing'\n",
    "print(\"\\nIs place == 'Nanjing'? I predict True.\")\n",
    "print(place == 'Nanjing')\n",
    "\n",
    "place = 'Nanjing'\n",
    "print(\"\\nIs place == 'Beijing'? I predict False.\")\n",
    "print(place == 'Beijing')\n",
    "\n",
    "time = 'morning'\n",
    "print(\"\\nIs time == 'morning'? I predict True.\")\n",
    "print(time == 'morning')\n",
    "\n",
    "time = 'morning'\n",
    "print(\"\\nIs time == 'night'? I predict False.\")\n",
    "print(time == 'night')"
   ]
  },
  {
   "cell_type": "markdown",
   "id": "e9c74271",
   "metadata": {},
   "source": [
    "# 练习5.2：更多条件测试"
   ]
  },
  {
   "cell_type": "code",
   "execution_count": 5,
   "id": "1656f8be",
   "metadata": {},
   "outputs": [
    {
     "name": "stdout",
     "output_type": "stream",
     "text": [
      "False\n",
      "True\n",
      "False\n"
     ]
    }
   ],
   "source": [
    "#检查两个字符串是否相等和不等\n",
    "\n",
    "food_1 = 'apple'\n",
    "food_2 = 'orange'\n",
    "print(food_1 == food_2)\n",
    "\n",
    "food_1 = 'apple'\n",
    "food_2 = 'apple'\n",
    "print(food_1 == food_2)\n",
    "\n",
    "food_1 = 'apple'\n",
    "food_2 = 'apple'\n",
    "print(food_1 != food_2)"
   ]
  },
  {
   "cell_type": "code",
   "execution_count": 6,
   "id": "b2f48e26",
   "metadata": {},
   "outputs": [
    {
     "name": "stdout",
     "output_type": "stream",
     "text": [
      "False\n",
      "True\n"
     ]
    }
   ],
   "source": [
    "#使用 lower() 方法的条件测试\n",
    "\n",
    "name = 'Tom'\n",
    "print(name == 'tom')\n",
    "print(name.lower() == 'tom')"
   ]
  },
  {
   "cell_type": "code",
   "execution_count": 7,
   "id": "b102443e",
   "metadata": {},
   "outputs": [
    {
     "name": "stdout",
     "output_type": "stream",
     "text": [
      "True\n",
      "True\n",
      "False\n",
      "True\n",
      "False\n",
      "True\n"
     ]
    }
   ],
   "source": [
    "#涉及相等、不等、大于、小于、大于等于和小于等于的数值比较\n",
    "\n",
    "age = 18\n",
    "print(age == 18)\n",
    "print(age != 19)\n",
    "print(age > 20)\n",
    "print(age < 20)\n",
    "print(age >= 20)\n",
    "print(age <= 20)"
   ]
  },
  {
   "cell_type": "code",
   "execution_count": 9,
   "id": "8003950a",
   "metadata": {},
   "outputs": [
    {
     "name": "stdout",
     "output_type": "stream",
     "text": [
      "False\n",
      "True\n"
     ]
    }
   ],
   "source": [
    "#使用关键字 and 和 or 的条件测试\n",
    "\n",
    "age_1 = 22\n",
    "age_2 = 16\n",
    "print(age_1 >20 and age_2 >20)\n",
    "print(age_1 >20 or age_2 >20)"
   ]
  },
  {
   "cell_type": "code",
   "execution_count": 10,
   "id": "ca945703",
   "metadata": {},
   "outputs": [
    {
     "data": {
      "text/plain": [
       "True"
      ]
     },
     "execution_count": 10,
     "metadata": {},
     "output_type": "execute_result"
    }
   ],
   "source": [
    "#测试特定的值是否在列表中\n",
    "\n",
    "letters = ['A','B','C']\n",
    "'A' in letters"
   ]
  },
  {
   "cell_type": "code",
   "execution_count": 12,
   "id": "fc92d13b",
   "metadata": {},
   "outputs": [
    {
     "data": {
      "text/plain": [
       "True"
      ]
     },
     "execution_count": 12,
     "metadata": {},
     "output_type": "execute_result"
    }
   ],
   "source": [
    "#测试特定的值是否不在列表中\n",
    "\n",
    "letters = ['A','B','C']\n",
    "'D' not in letters"
   ]
  },
  {
   "cell_type": "markdown",
   "id": "f351e471",
   "metadata": {},
   "source": [
    "# 练习5.3：外星人颜色 1"
   ]
  },
  {
   "cell_type": "code",
   "execution_count": 13,
   "id": "d47e56be",
   "metadata": {},
   "outputs": [
    {
     "name": "stdout",
     "output_type": "stream",
     "text": [
      "Player gets 5 points\n"
     ]
    }
   ],
   "source": [
    "alien_color = 'green'\n",
    "#if 语句，测试外星人是否是绿色的\n",
    "if alien_color == 'green':\n",
    "    print(\"Player gets 5 points\")"
   ]
  },
  {
   "cell_type": "code",
   "execution_count": 14,
   "id": "1884e8dd",
   "metadata": {},
   "outputs": [],
   "source": [
    "alien_color = 'red'\n",
    "#if 语句，测试外星人是否是绿色的\n",
    "if alien_color == 'green':\n",
    "    print(\"Player gets 5 points\")#未通过没有输出"
   ]
  },
  {
   "cell_type": "markdown",
   "id": "d918b5fd",
   "metadata": {},
   "source": [
    "# 练习5.4：外星人颜色 2"
   ]
  },
  {
   "cell_type": "code",
   "execution_count": 15,
   "id": "9d5c70d7",
   "metadata": {},
   "outputs": [
    {
     "name": "stdout",
     "output_type": "stream",
     "text": [
      "Player gets 5 points\n"
     ]
    }
   ],
   "source": [
    "alien_color = 'green'\n",
    "\n",
    "#如果外星人是绿色的，就打印一条消息，指出玩家因消灭该外星人获得了 5 分\n",
    "if alien_color == 'green':\n",
    "    print(\"Player gets 5 points\")\n",
    "#如果外星人不是绿色的，就打印一条消息，指出玩家获得了 10 分\n",
    "else:\n",
    "    print(\"Player gets 10 points\")"
   ]
  },
  {
   "cell_type": "code",
   "execution_count": 16,
   "id": "d10074b6",
   "metadata": {},
   "outputs": [
    {
     "name": "stdout",
     "output_type": "stream",
     "text": [
      "Player gets 10 points\n"
     ]
    }
   ],
   "source": [
    "alien_color = 'red'\n",
    "if alien_color == 'green':\n",
    "    print(\"Player gets 5 points\")\n",
    "else:\n",
    "    print(\"Player gets 10 points\")"
   ]
  },
  {
   "cell_type": "markdown",
   "id": "bc8b4441",
   "metadata": {},
   "source": [
    "# 练习5.5：外星人颜色 3"
   ]
  },
  {
   "cell_type": "code",
   "execution_count": 17,
   "id": "9ccbf0c2",
   "metadata": {},
   "outputs": [
    {
     "name": "stdout",
     "output_type": "stream",
     "text": [
      "Player gets 5 points\n"
     ]
    }
   ],
   "source": [
    "alien_color = 'green'\n",
    "if alien_color == 'green':\n",
    "    print(\"Player gets 5 points\")\n",
    "elif alien_color == 'yellow':\n",
    "    print(\"Player gets 10 points\")\n",
    "else:\n",
    "    print(\"Player gets 15 points\")"
   ]
  },
  {
   "cell_type": "code",
   "execution_count": 18,
   "id": "d0373651",
   "metadata": {},
   "outputs": [
    {
     "name": "stdout",
     "output_type": "stream",
     "text": [
      "Player gets 10 points\n"
     ]
    }
   ],
   "source": [
    "alien_color = 'yellow'\n",
    "if alien_color == 'green':\n",
    "    print(\"Player gets 5 points\")\n",
    "elif alien_color == 'yellow':\n",
    "    print(\"Player gets 10 points\")\n",
    "else:\n",
    "    print(\"Player gets 15 points\")"
   ]
  },
  {
   "cell_type": "code",
   "execution_count": 19,
   "id": "20e83bb4",
   "metadata": {},
   "outputs": [
    {
     "name": "stdout",
     "output_type": "stream",
     "text": [
      "Player gets 15 points\n"
     ]
    }
   ],
   "source": [
    "alien_color = 'red'\n",
    "if alien_color == 'green':\n",
    "    print(\"Player gets 5 points\")\n",
    "elif alien_color == 'yellow':\n",
    "    print(\"Player gets 10 points\")\n",
    "else:\n",
    "    print(\"Player gets 15 points\")"
   ]
  },
  {
   "cell_type": "markdown",
   "id": "94c00355",
   "metadata": {},
   "source": [
    "# 练习5.6：人生的不同阶段"
   ]
  },
  {
   "cell_type": "code",
   "execution_count": 20,
   "id": "1fc92883",
   "metadata": {},
   "outputs": [
    {
     "name": "stdout",
     "output_type": "stream",
     "text": [
      "中青年人\n"
     ]
    }
   ],
   "source": [
    "#if-elif-else 结构，根据 age 的值判断这个人处于人生的哪个阶段\n",
    "\n",
    "age = 20 \n",
    "if age < 2 :\n",
    "    print(\"婴儿\")\n",
    "elif age < 4:\n",
    "    print(\"幼儿\")\n",
    "elif age < 13:\n",
    "    print(\"儿童\")\n",
    "elif age < 18:\n",
    "    print(\"少年\")\n",
    "elif age < 65:\n",
    "    print(\"中青年人\")\n",
    "else:\n",
    "    print(\"老年人\")"
   ]
  },
  {
   "cell_type": "markdown",
   "id": "ad05b020",
   "metadata": {},
   "source": [
    "# 练习5.7：喜欢的水果"
   ]
  },
  {
   "cell_type": "code",
   "execution_count": 21,
   "id": "5e3f6ae1",
   "metadata": {},
   "outputs": [
    {
     "name": "stdout",
     "output_type": "stream",
     "text": [
      "You really like apple!\n",
      "You really like banana!\n"
     ]
    }
   ],
   "source": [
    "favorite_fruits = ['apple','banana','orange']\n",
    "\n",
    "# 使用if 语句检查某种水果是否在列表中\n",
    "if 'apple' in favorite_fruits:\n",
    "    print(\"You really like apple!\")\n",
    "if 'pineapple' in favorite_fruits:\n",
    "    print(\"You really like pineapple!\")\n",
    "if 'banana' in favorite_fruits:\n",
    "    print(\"You really like banana!\")\n",
    "if 'lemon' in favorite_fruits:\n",
    "    print(\"You really like lemon!\")\n",
    "if 'tomato' in favorite_fruits:\n",
    "    print(\"You really like tomato!\")"
   ]
  },
  {
   "cell_type": "markdown",
   "id": "6faf033a",
   "metadata": {},
   "source": [
    "# 练习5.8：以特殊方式跟管理员打招呼"
   ]
  },
  {
   "cell_type": "code",
   "execution_count": 23,
   "id": "eca54faf",
   "metadata": {},
   "outputs": [
    {
     "name": "stdout",
     "output_type": "stream",
     "text": [
      "Hello admin, would you like to see a status reort?\n",
      "Hello Tom, thank you for logging in again.\n",
      "Hello Jim, thank you for logging in again.\n",
      "Hello Jack, thank you for logging in again.\n",
      "Hello Tim, thank you for logging in again.\n"
     ]
    }
   ],
   "source": [
    "names = ['admin','Tom','Jim','Jack','Tim']\n",
    "# 如果用户名为 'admin'，就打印一条特殊的问候消息\n",
    "for name in names:\n",
    "    if name == 'admin':\n",
    "        print(\"Hello admin, would you like to see a status reort?\")\n",
    "    else:\n",
    "        print(f\"Hello {name}, thank you for logging in again.\")"
   ]
  },
  {
   "cell_type": "markdown",
   "id": "d8bb0a78",
   "metadata": {},
   "source": [
    "# 练习5.9：处理没有用户的情形"
   ]
  },
  {
   "cell_type": "code",
   "execution_count": 24,
   "id": "e483913e",
   "metadata": {},
   "outputs": [
    {
     "name": "stdout",
     "output_type": "stream",
     "text": [
      "Hello admin, would you like to see a status reort?\n",
      "Hello Tom, thank you for logging in again.\n",
      "Hello Jim, thank you for logging in again.\n",
      "Hello Jack, thank you for logging in again.\n",
      "Hello Tim, thank you for logging in again.\n"
     ]
    }
   ],
   "source": [
    "names = ['admin','Tom','Jim','Jack','Tim']\n",
    "# 检查用户名列表是否为空\n",
    "if names:\n",
    "    for name in names:\n",
    "        if name == 'admin':\n",
    "            print(\"Hello admin, would you like to see a status reort?\")\n",
    "        else:\n",
    "            print(f\"Hello {name}, thank you for logging in again.\")\n",
    "else:\n",
    "    print(\"We need to find some users!\")"
   ]
  },
  {
   "cell_type": "code",
   "execution_count": 25,
   "id": "989908ab",
   "metadata": {},
   "outputs": [
    {
     "name": "stdout",
     "output_type": "stream",
     "text": [
      "We need to find some users!\n"
     ]
    }
   ],
   "source": [
    "names = []\n",
    "# 检查用户名列表是否为空\n",
    "if names:\n",
    "    for name in names:\n",
    "        if name == 'admin':\n",
    "            print(\"Hello admin, would you like to see a status reort?\")\n",
    "        else:\n",
    "            print(f\"Hello {name}, thank you for logging in again.\")\n",
    "else:\n",
    "    print(\"We need to find some users!\")"
   ]
  },
  {
   "cell_type": "markdown",
   "id": "2e511e53",
   "metadata": {},
   "source": [
    "# 练习5.10：检查用户名"
   ]
  },
  {
   "cell_type": "code",
   "execution_count": 28,
   "id": "f6ab09b3",
   "metadata": {},
   "outputs": [
    {
     "name": "stdout",
     "output_type": "stream",
     "text": [
      "Helen is not be used.\n",
      "Tom is used, choose another one.\n",
      "Amy is not be used.\n",
      "Jack is used, choose another one.\n",
      "Kitty is not be used.\n"
     ]
    }
   ],
   "source": [
    "current_users = ['John','Tom','Jim','Jack','Tim']\n",
    "current_users2 = ['JOHN','TOM','JIM','JACK','TIM']\n",
    "new_users = ['Helen','Tom','Amy','Jack','Kitty']\n",
    "for new_user in new_users:\n",
    "    if new_user in current_users :\n",
    "        print(f\"{new_user} is used, choose another one.\")\n",
    "    elif new_user in current_users2 :\n",
    "        print(f\"{new_user} is used, choose another one.\")\n",
    "    else:\n",
    "        print(f\"{new_user} is not be used.\")"
   ]
  },
  {
   "cell_type": "markdown",
   "id": "84bacf5c",
   "metadata": {},
   "source": [
    "# 练习5.11：序数"
   ]
  },
  {
   "cell_type": "code",
   "execution_count": 30,
   "id": "9c50575a",
   "metadata": {},
   "outputs": [
    {
     "name": "stdout",
     "output_type": "stream",
     "text": [
      "1st\n",
      "2nd\n",
      "3rd\n",
      "4th\n",
      "5th\n",
      "6th\n",
      "7th\n",
      "8th\n",
      "9th\n"
     ]
    }
   ],
   "source": [
    "numbers = list(range(1,10))\n",
    "#使用 if-elif-else 结构，打印每个数字对应的序数\n",
    "for number in numbers:\n",
    "    if number == 1:\n",
    "        print(\"1st\")\n",
    "    elif number == 2:\n",
    "        print(\"2nd\")\n",
    "    elif number == 3:\n",
    "        print(\"3rd\")\n",
    "    else:\n",
    "        print(f\"{number}th\")"
   ]
  }
 ],
 "metadata": {
  "kernelspec": {
   "display_name": "Python 3 (ipykernel)",
   "language": "python",
   "name": "python3"
  },
  "language_info": {
   "codemirror_mode": {
    "name": "ipython",
    "version": 3
   },
   "file_extension": ".py",
   "mimetype": "text/x-python",
   "name": "python",
   "nbconvert_exporter": "python",
   "pygments_lexer": "ipython3",
   "version": "3.11.5"
  },
  "toc": {
   "base_numbering": 1,
   "nav_menu": {},
   "number_sections": true,
   "sideBar": true,
   "skip_h1_title": false,
   "title_cell": "Table of Contents",
   "title_sidebar": "Contents",
   "toc_cell": false,
   "toc_position": {},
   "toc_section_display": true,
   "toc_window_display": false
  }
 },
 "nbformat": 4,
 "nbformat_minor": 5
}
