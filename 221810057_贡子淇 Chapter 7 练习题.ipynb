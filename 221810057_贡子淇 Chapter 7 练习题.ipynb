{
 "cells": [
  {
   "cell_type": "markdown",
   "id": "9b79d918",
   "metadata": {},
   "source": [
    "# 练习 7.1：汽车租赁"
   ]
  },
  {
   "cell_type": "code",
   "execution_count": 1,
   "id": "cfe76f8c",
   "metadata": {},
   "outputs": [
    {
     "name": "stdout",
     "output_type": "stream",
     "text": [
      "What kind of car would you like to borrow ? Subaru\n",
      "Let me see if I can find you a Subaru.\n"
     ]
    }
   ],
   "source": [
    "#询问用户要租什么样的汽车，并打印一条消息\n",
    "message = input(\"What kind of car would you like to borrow ? \")\n",
    "print(f\"Let me see if I can find you a {message}.\")"
   ]
  },
  {
   "cell_type": "markdown",
   "id": "09196490",
   "metadata": {},
   "source": [
    "# 练习 7.2：餐馆订位"
   ]
  },
  {
   "cell_type": "code",
   "execution_count": 2,
   "id": "8ce3d7d7",
   "metadata": {},
   "outputs": [
    {
     "name": "stdout",
     "output_type": "stream",
     "text": [
      "How many people will come? 9\n",
      "No empty table.\n"
     ]
    }
   ],
   "source": [
    "#询问用户有多少人用餐\n",
    "message = input(\"How many people will come? \")\n",
    "#如果超过 8 个人，就打印一条消息，指出没有空桌；否则指出有空桌\n",
    "if int(message) > 8:\n",
    "    print(\"No empty table.\")\n",
    "else:\n",
    "    print(\"There is empty table.\")"
   ]
  },
  {
   "cell_type": "markdown",
   "id": "f3fcfc67",
   "metadata": {},
   "source": [
    "# 练习 7.3：10 的整数倍"
   ]
  },
  {
   "cell_type": "code",
   "execution_count": 4,
   "id": "39297796",
   "metadata": {},
   "outputs": [
    {
     "name": "stdout",
     "output_type": "stream",
     "text": [
      "Enter a number. 100\n",
      "是10的整数倍\n"
     ]
    }
   ],
   "source": [
    "number = input(\"Enter a number. \")\n",
    "if int(number) % 10 == 0:\n",
    "    print(\"是10的整数倍\")\n",
    "else:\n",
    "    print(\"不是10的整数倍\")"
   ]
  },
  {
   "cell_type": "markdown",
   "id": "6b061538",
   "metadata": {},
   "source": [
    "# 练习 7.4：比萨配料"
   ]
  },
  {
   "cell_type": "code",
   "execution_count": 6,
   "id": "b3d41c71",
   "metadata": {},
   "outputs": [
    {
     "name": "stdout",
     "output_type": "stream",
     "text": [
      "Enter the pizza addings you want. Enter 'quit' when you feel enough. bacon\n",
      "Add bacon in the pizza.\n",
      "Enter the pizza addings you want. Enter 'quit' when you feel enough. cheese\n",
      "Add cheese in the pizza.\n",
      "Enter the pizza addings you want. Enter 'quit' when you feel enough. quit\n"
     ]
    }
   ],
   "source": [
    "#提示用户输入一系列比萨配料，并在用户输入 'quit' 时结束循环\n",
    "prompt = \"Enter the pizza addings you want. \"\n",
    "prompt += \"Enter 'quit' when you feel enough. \"\n",
    "\n",
    "active = True \n",
    "while active:\n",
    "    addings = input(prompt)\n",
    "    if addings == 'quit':\n",
    "        break\n",
    "    \n",
    "    print(f\"Add {addings} in the pizza.\")"
   ]
  },
  {
   "cell_type": "markdown",
   "id": "556988d8",
   "metadata": {},
   "source": [
    "# 练习7.5：电影票"
   ]
  },
  {
   "cell_type": "code",
   "execution_count": 1,
   "id": "7fe71b25",
   "metadata": {},
   "outputs": [
    {
     "name": "stdout",
     "output_type": "stream",
     "text": [
      "How old are you? Enter 'quit' if no one wants to buy the ticket. 2\n",
      "Free.\n",
      "How old are you? Enter 'quit' if no one wants to buy the ticket. 4\n",
      "10 dollars.\n",
      "How old are you? Enter 'quit' if no one wants to buy the ticket. 18\n",
      "15 dollars\n",
      "How old are you? Enter 'quit' if no one wants to buy the ticket. quit\n"
     ]
    }
   ],
   "source": [
    "#询问用户的年龄，并指出其票价\n",
    "message = \"How old are you? \" \n",
    "message += \"Enter 'quit' if no one wants to buy the ticket. \"\n",
    "\n",
    "active = True \n",
    "\n",
    "while active:\n",
    "    number = input(message)\n",
    "    if number == 'quit':\n",
    "        break\n",
    "    \n",
    "    else:    \n",
    "        age = int(number)\n",
    "        if age < 3:\n",
    "            print(\"Free.\")\n",
    "        elif age < 12:\n",
    "            print(\"10 dollars.\")\n",
    "        elif age >= 12 :\n",
    "            print(\"15 dollars\")"
   ]
  },
  {
   "cell_type": "markdown",
   "id": "079e3788",
   "metadata": {},
   "source": [
    "# 练习 7.6：三种出路"
   ]
  },
  {
   "cell_type": "code",
   "execution_count": 2,
   "id": "6e1e22a7",
   "metadata": {},
   "outputs": [
    {
     "name": "stdout",
     "output_type": "stream",
     "text": [
      "How old are you? Enter 'quit' if no one wants to buy the ticket. 2\n",
      "Free.\n",
      "How old are you? Enter 'quit' if no one wants to buy the ticket. 4\n",
      "10 dollars.\n",
      "How old are you? Enter 'quit' if no one wants to buy the ticket. 18\n",
      "15 dollars.\n",
      "How old are you? Enter 'quit' if no one wants to buy the ticket. quit\n"
     ]
    }
   ],
   "source": [
    "message = \"How old are you? \" \n",
    "message += \"Enter 'quit' if no one wants to buy the ticket. \"\n",
    "\n",
    "number = \"\"\n",
    "#在 while 循环中使用条件测试来结束循环\n",
    "while number != 'quit':\n",
    "    number = input(message)\n",
    "    \n",
    "    if number != 'quit':\n",
    "        age = int(number)\n",
    "        if age < 3:\n",
    "            price = 'Free.'\n",
    "        elif age < 12:\n",
    "            price = '10 dollars.'\n",
    "        elif age >= 12:\n",
    "            price = '15 dollars.'\n",
    "        \n",
    "        print(price)"
   ]
  },
  {
   "cell_type": "code",
   "execution_count": 3,
   "id": "37c0bc95",
   "metadata": {},
   "outputs": [
    {
     "name": "stdout",
     "output_type": "stream",
     "text": [
      "How old are you? Enter 'quit' if no one wants to buy the ticket. 2\n",
      "Free.\n",
      "How old are you? Enter 'quit' if no one wants to buy the ticket. 4\n",
      "10 dollars.\n",
      "How old are you? Enter 'quit' if no one wants to buy the ticket. 18\n",
      "15 dollars\n",
      "How old are you? Enter 'quit' if no one wants to buy the ticket. quit\n"
     ]
    }
   ],
   "source": [
    "message = \"How old are you? \" \n",
    "message += \"Enter 'quit' if no one wants to buy the ticket. \"\n",
    "\n",
    "#使用变量 active 来控制循环结束的时机\n",
    "active = True \n",
    "\n",
    "while active:\n",
    "    number = input(message)\n",
    "    if number == 'quit':\n",
    "        active = False\n",
    "    \n",
    "    else:    \n",
    "        age = int(number)\n",
    "        if age < 3:\n",
    "            print(\"Free.\")\n",
    "        elif age < 12:\n",
    "            print(\"10 dollars.\")\n",
    "        elif age >= 12 :\n",
    "            print(\"15 dollars\")"
   ]
  },
  {
   "cell_type": "code",
   "execution_count": 4,
   "id": "624cdebc",
   "metadata": {},
   "outputs": [
    {
     "name": "stdout",
     "output_type": "stream",
     "text": [
      "How old are you? Enter 'quit' if no one wants to buy the ticket. 2\n",
      "Free.\n",
      "How old are you? Enter 'quit' if no one wants to buy the ticket. 4\n",
      "10 dollars.\n",
      "How old are you? Enter 'quit' if no one wants to buy the ticket. 18\n",
      "15 dollars\n",
      "How old are you? Enter 'quit' if no one wants to buy the ticket. quit\n"
     ]
    }
   ],
   "source": [
    "message = \"How old are you? \" \n",
    "message += \"Enter 'quit' if no one wants to buy the ticket. \"\n",
    "\n",
    "#使用 break 语句在用户输入 'quit' 时退出循环\n",
    "while True:\n",
    "    number = input(message)\n",
    "    if number == 'quit':\n",
    "        break\n",
    "    \n",
    "    else:    \n",
    "        age = int(number)\n",
    "        if age < 3:\n",
    "            print(\"Free.\")\n",
    "        elif age < 12:\n",
    "            print(\"10 dollars.\")\n",
    "        elif age >= 12 :\n",
    "            print(\"15 dollars\")"
   ]
  },
  {
   "cell_type": "markdown",
   "id": "86977240",
   "metadata": {},
   "source": [
    "# 练习 7.7：无限循环"
   ]
  },
  {
   "cell_type": "code",
   "execution_count": null,
   "id": "a06df50d",
   "metadata": {},
   "outputs": [],
   "source": [
    "number = input(\"Enter a number and it is bigger than 1. \")\n",
    "while int(number) > 1:\n",
    "    print(number)\n",
    "    #无限循环"
   ]
  },
  {
   "cell_type": "markdown",
   "id": "a74f6beb",
   "metadata": {},
   "source": [
    "# 练习 7.8：熟食店"
   ]
  },
  {
   "cell_type": "code",
   "execution_count": 7,
   "id": "193a7be0",
   "metadata": {},
   "outputs": [
    {
     "name": "stdout",
     "output_type": "stream",
     "text": [
      "I made your salad sandwich.\n",
      "I made your meat sandwich.\n",
      "I made your cheese sandwich.\n",
      "['salad sandwich', 'meat sandwich', 'cheese sandwich']\n"
     ]
    }
   ],
   "source": [
    "sandwich_orders = ['cheese sandwich', 'meat sandwich', 'salad sandwich']\n",
    "finished_sandwich = []\n",
    "\n",
    "#对于其中的每种三明治，都打印一条消息\n",
    "while sandwich_orders:\n",
    "    sandwich = sandwich_orders.pop()\n",
    "    print(f\"I made your {sandwich}.\")\n",
    "    finished_sandwich.append(sandwich)\n",
    "\n",
    "#所有三明治都制作好后，打印一条消息，将这些三明治列出来\n",
    "print(finished_sandwich)"
   ]
  },
  {
   "cell_type": "markdown",
   "id": "0175c9f2",
   "metadata": {},
   "source": [
    "# 练习7.9：五香烟熏牛肉卖完了"
   ]
  },
  {
   "cell_type": "code",
   "execution_count": 8,
   "id": "3e67e0cb",
   "metadata": {},
   "outputs": [
    {
     "name": "stdout",
     "output_type": "stream",
     "text": [
      "Pastrami is sold out.\n",
      "I made your salad sandwich.\n",
      "I made your meat sandwich.\n",
      "I made your cheese sandwich.\n",
      "['salad sandwich', 'meat sandwich', 'cheese sandwich']\n"
     ]
    }
   ],
   "source": [
    "sandwich_orders = ['cheese sandwich', 'pastrami','meat sandwich', 'pastrami','salad sandwich', 'pastrami']\n",
    "finished_sandwich = []\n",
    "\n",
    "#指出熟食店的五香烟熏牛肉（pastrami）卖完了\n",
    "print(\"Pastrami is sold out.\")\n",
    "#使用一个 while 循环将列表 sandwich_orders 中的 'pastrami' 都删除\n",
    "while 'pastrami' in sandwich_orders:\n",
    "    sandwich_orders.remove('pastrami')\n",
    "    \n",
    "while sandwich_orders:\n",
    "    sandwich = sandwich_orders.pop()\n",
    "    print(f\"I made your {sandwich}.\")\n",
    "    finished_sandwich.append(sandwich)\n",
    "    \n",
    "print(finished_sandwich)"
   ]
  },
  {
   "cell_type": "markdown",
   "id": "e06f26ef",
   "metadata": {},
   "source": [
    "# 练习 7.10：梦想中的度假胜地"
   ]
  },
  {
   "cell_type": "code",
   "execution_count": 1,
   "id": "bd1b1045",
   "metadata": {},
   "outputs": [
    {
     "name": "stdout",
     "output_type": "stream",
     "text": [
      "If you could visit one place in the world, where would you go? Enter 'quit' if no one want to take part in the survey. Shanghai\n",
      "What is your name? Tom\n",
      "If you could visit one place in the world, where would you go? Enter 'quit' if no one want to take part in the survey. Beijing\n",
      "What is your name? Sam\n",
      "If you could visit one place in the world, where would you go? Enter 'quit' if no one want to take part in the survey. Nanjing\n",
      "What is your name? John\n",
      "If you could visit one place in the world, where would you go? Enter 'quit' if no one want to take part in the survey. quit\n",
      "\n",
      "Results:\n",
      "Tom would like to go Shanghai.\n",
      "Sam would like to go Beijing.\n",
      "John would like to go Nanjing.\n"
     ]
    }
   ],
   "source": [
    "#调查用户梦想中的度假胜地\n",
    "prompt = \"If you could visit one place in the world, where would you go? \"\n",
    "prompt += \"Enter 'quit' if no one want to take part in the survey. \"\n",
    "infomation = {}\n",
    "\n",
    "#使用while循环将用户及其喜欢的度假地对应起来，放在字典中\n",
    "active = True \n",
    "while active:\n",
    "    message = input(prompt)\n",
    "    \n",
    "    if message == 'quit':\n",
    "        break\n",
    "    \n",
    "    else:\n",
    "        name = input(\"What is your name? \")\n",
    "        infomation[name] = message\n",
    "  \n",
    " #打印结果\n",
    "print(\"\\nResults:\")\n",
    "for name, message in infomation.items():\n",
    "    print(f\"{name} would like to go {message}.\")"
   ]
  }
 ],
 "metadata": {
  "kernelspec": {
   "display_name": "Python 3 (ipykernel)",
   "language": "python",
   "name": "python3"
  },
  "language_info": {
   "codemirror_mode": {
    "name": "ipython",
    "version": 3
   },
   "file_extension": ".py",
   "mimetype": "text/x-python",
   "name": "python",
   "nbconvert_exporter": "python",
   "pygments_lexer": "ipython3",
   "version": "3.11.5"
  },
  "toc": {
   "base_numbering": 1,
   "nav_menu": {},
   "number_sections": true,
   "sideBar": true,
   "skip_h1_title": false,
   "title_cell": "Table of Contents",
   "title_sidebar": "Contents",
   "toc_cell": false,
   "toc_position": {},
   "toc_section_display": true,
   "toc_window_display": false
  }
 },
 "nbformat": 4,
 "nbformat_minor": 5
}
