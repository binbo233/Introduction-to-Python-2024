{
 "cells": [
  {
   "cell_type": "markdown",
   "id": "9fd2cfc1",
   "metadata": {},
   "source": [
    "# 练习 10.1：Python 学习笔记"
   ]
  },
  {
   "cell_type": "code",
   "execution_count": 1,
   "id": "50fe782f",
   "metadata": {},
   "outputs": [
    {
     "name": "stdout",
     "output_type": "stream",
     "text": [
      "In Python you can learn about function.\n",
      "In Python you can learn about class.\n",
      "In Python you can learn about file and error.\n"
     ]
    }
   ],
   "source": [
    "#从pathlib模块中引入Path类\n",
    "from pathlib import Path\n",
    "\n",
    "#用Path来访问文件\n",
    "path = Path('learn_python.txt')\n",
    "#使用 read_text() 方法来读取这个文件的全部内容\n",
    "contents = path.read_text()\n",
    "contents = contents.rstrip()\n",
    "\n",
    "print(contents)"
   ]
  },
  {
   "cell_type": "code",
   "execution_count": 2,
   "id": "a7f32295",
   "metadata": {},
   "outputs": [
    {
     "name": "stdout",
     "output_type": "stream",
     "text": [
      "In Python you can learn about function.\n",
      "In Python you can learn about class.\n",
      "In Python you can learn about file and error.\n"
     ]
    }
   ],
   "source": [
    "#从pathlib模块中引入Path类\n",
    "from pathlib import Path\n",
    "\n",
    "#用Path来访问文件\n",
    "path = Path('learn_python.txt')\n",
    "#使用 read_text() 方法来读取这个文件的全部内容\n",
    "contents = path.read_text()\n",
    "\n",
    "#用splitlines（）创建一个列表，并将其赋给lines\n",
    "lines = contents.splitlines()\n",
    "for line in lines:\n",
    "    print(line)"
   ]
  },
  {
   "cell_type": "markdown",
   "id": "2503ab2d",
   "metadata": {},
   "source": [
    "# 练习 10.2：C 语言学习笔记"
   ]
  },
  {
   "cell_type": "code",
   "execution_count": 5,
   "id": "4491063c",
   "metadata": {},
   "outputs": [
    {
     "name": "stdout",
     "output_type": "stream",
     "text": [
      "In C you can learn about function.\n",
      "In C you can learn about class.\n",
      "In C you can learn about file and error.\n"
     ]
    }
   ],
   "source": [
    "from pathlib import Path\n",
    "\n",
    "#用Path来访问文件\n",
    "path = Path('learn_python.txt')\n",
    "#使用 read_text() 方法来读取这个文件的全部内容\n",
    "contents = path.read_text()\n",
    "#使用 replace() 方法将字符串中的特定单词替换为另一个单词\n",
    "contents = contents.replace('Python', 'C')\n",
    "contents = contents.rstrip()\n",
    "\n",
    "print(contents)"
   ]
  },
  {
   "cell_type": "markdown",
   "id": "07994c65",
   "metadata": {},
   "source": [
    "# 练习 10.3：简化代码"
   ]
  },
  {
   "cell_type": "code",
   "execution_count": 6,
   "id": "f74a3878",
   "metadata": {},
   "outputs": [
    {
     "name": "stdout",
     "output_type": "stream",
     "text": [
      "In Python you can learn about function.\n",
      "In Python you can learn about class.\n",
      "In Python you can learn about file and error.\n"
     ]
    }
   ],
   "source": [
    "from pathlib import Path\n",
    "\n",
    "#用Path来访问文件\n",
    "path = Path('learn_python.txt')\n",
    "#使用 read_text() 方法来读取这个文件的全部内容\n",
    "contents = path.read_text()\n",
    "\n",
    "#省略临时变量\n",
    "for line in contents.splitlines():\n",
    "    print(line)"
   ]
  },
  {
   "cell_type": "markdown",
   "id": "db568285",
   "metadata": {},
   "source": [
    "# 练习 10.4：访客"
   ]
  },
  {
   "cell_type": "code",
   "execution_count": 7,
   "id": "7c1f7892",
   "metadata": {},
   "outputs": [
    {
     "name": "stdout",
     "output_type": "stream",
     "text": [
      "Enter your name. Gong ziqi\n"
     ]
    },
    {
     "data": {
      "text/plain": [
       "9"
      ]
     },
     "execution_count": 7,
     "metadata": {},
     "output_type": "execute_result"
    }
   ],
   "source": [
    "from pathlib import Path\n",
    "\n",
    "#用Path来访问文件\n",
    "path = Path('guest.txt')\n",
    "#提示用户输入其名字\n",
    "guest_name = input('Enter your name. ')\n",
    "#write_text() 方法接受单个实参，用于写入文件\n",
    "path.write_text(guest_name)"
   ]
  },
  {
   "cell_type": "markdown",
   "id": "c3af17a2",
   "metadata": {},
   "source": [
    "# 练习 10.5：访客簿"
   ]
  },
  {
   "cell_type": "code",
   "execution_count": 10,
   "id": "9309fb75",
   "metadata": {},
   "outputs": [
    {
     "name": "stdout",
     "output_type": "stream",
     "text": [
      "Enter your name. And enter \"q\" if there is no guest. Gong ziqi\n",
      "Enter your name. And enter \"q\" if there is no guest. Huang youlong\n",
      "Enter your name. And enter \"q\" if there is no guest. Si wei\n",
      "Enter your name. And enter \"q\" if there is no guest. q\n"
     ]
    },
    {
     "data": {
      "text/plain": [
       "31"
      ]
     },
     "execution_count": 10,
     "metadata": {},
     "output_type": "execute_result"
    }
   ],
   "source": [
    "from pathlib import Path\n",
    "\n",
    "#用Path来访问文件\n",
    "path = Path('guest.txt')\n",
    "guest_name = ''\n",
    "\n",
    "#编写一个while 循环，提示用户输入其名字\n",
    "while True:\n",
    "    name = input('Enter your name. And enter \"q\" if there is no guest. ')\n",
    "    if name == 'q':\n",
    "        break\n",
    "    \n",
    "    #每条记录都独占一行\n",
    "    guest_name += f\"{name}\\n\"\n",
    "        \n",
    "#收集用户输入的所有名字，将其写入guest.txt\n",
    "path.write_text(guest_name)"
   ]
  },
  {
   "cell_type": "markdown",
   "id": "b1db5744",
   "metadata": {},
   "source": [
    "# 练习 10.6：加法运算"
   ]
  },
  {
   "cell_type": "code",
   "execution_count": 6,
   "id": "ae1f6840",
   "metadata": {},
   "outputs": [
    {
     "name": "stdout",
     "output_type": "stream",
     "text": [
      "Give me two number and I'll add them together.\n",
      "Enter 'q' to quit.\n",
      "First number: 1\n",
      "Second number: 2\n",
      "Result: 3\n",
      "First number: 1\n",
      "Second number: hi\n",
      "Please enter the numbers! \n",
      "First number: q\n",
      "Second number: q\n"
     ]
    }
   ],
   "source": [
    "from pathlib import Path\n",
    "\n",
    "print(\"Give me two number and I'll add them together.\")\n",
    "print(\"Enter 'q' to quit.\")\n",
    "\n",
    "while True:\n",
    "    first = input('First number: ')\n",
    "    second = input('Second number: ')\n",
    "    \n",
    "    if first == 'q' or second =='q':\n",
    "        break\n",
    "    \n",
    "    #在用户输入的任意一个值不是数时都捕获 ValueError 异常，并打印一条友好的错误消息\n",
    "    try:\n",
    "        value = int(first) + int(second)\n",
    "    except ValueError:\n",
    "        print(\"Please enter the numbers! \")\n",
    "    else:\n",
    "        print(f\"Result: {value}\")"
   ]
  },
  {
   "cell_type": "markdown",
   "id": "72d20a37",
   "metadata": {},
   "source": [
    "# 练习 10.7：加法计算器"
   ]
  },
  {
   "cell_type": "code",
   "execution_count": 7,
   "id": "52cc75bb",
   "metadata": {},
   "outputs": [
    {
     "name": "stdout",
     "output_type": "stream",
     "text": [
      "Give me two number and I'll add them together.\n",
      "Enter 'q' to quit.\n",
      "First number: 2\n",
      "Second number: 3\n",
      "Result: 5\n",
      "First number: hi\n",
      "Second number: hi\n",
      "Please enter the numbers! \n",
      "First number: q\n",
      "Second number: q\n"
     ]
    }
   ],
   "source": [
    "from pathlib import Path\n",
    "\n",
    "print(\"Give me two number and I'll add them together.\")\n",
    "print(\"Enter 'q' to quit.\")\n",
    "\n",
    "# 使用while 循环，让用户在犯错（输入的是文本而不是数）后能够继续输入数\n",
    "while True:\n",
    "    first = input('First number: ')\n",
    "    second = input('Second number: ')\n",
    "    \n",
    "    if first == 'q' or second =='q':\n",
    "        break\n",
    "    \n",
    "    try:\n",
    "        value = int(first) + int(second)\n",
    "    except ValueError:\n",
    "        print(\"Please enter the numbers! \")\n",
    "    else:\n",
    "        print(f\"Result: {value}\")"
   ]
  },
  {
   "cell_type": "markdown",
   "id": "d46a8deb",
   "metadata": {},
   "source": [
    "# 练习 10.8：猫和狗"
   ]
  },
  {
   "cell_type": "code",
   "execution_count": 10,
   "id": "ccc4b68b",
   "metadata": {},
   "outputs": [
    {
     "name": "stdout",
     "output_type": "stream",
     "text": [
      "Persian, Ragdoll, Kitty\n",
      "hamme, mory, doughton\n"
     ]
    }
   ],
   "source": [
    "from pathlib import Path\n",
    "\n",
    "#用Path来访问文件\n",
    "path_1 = Path('cats.txt')\n",
    "path_2 = Path('dogs.txt')\n",
    "\n",
    "# try-except 代码块，以便在文件不存在时捕获 FileNotFoundError 异常\n",
    "try:\n",
    "    contents_1 = path_1.read_text()\n",
    "except FileNotFoundError:\n",
    "    print(f\"The file {path_1} does not exist.\")\n",
    "else:\n",
    "    print(contents_1)\n",
    "  \n",
    " # try-except 代码块，以便在文件不存在时捕获 FileNotFoundError 异常\n",
    "try:\n",
    "    contents_2 = path_2.read_text()\n",
    "except FileNotFoundError:\n",
    "    print(f\"The file {path_2} does not exist.\")\n",
    "else:\n",
    "    print(contents_2)"
   ]
  },
  {
   "cell_type": "code",
   "execution_count": 17,
   "id": "c42e4b36",
   "metadata": {},
   "outputs": [
    {
     "name": "stdout",
     "output_type": "stream",
     "text": [
      "Cats' names: Persian, Ragdoll, Kitty\n",
      "The file dogs.txt does not exist.\n"
     ]
    }
   ],
   "source": [
    "from pathlib import Path\n",
    "\n",
    "#用Path来访问文件\n",
    "path_1 = Path('cats.txt')\n",
    "path_2 = Path('dogs.txt')\n",
    "\n",
    "# try-except 代码块，以便在文件不存在时捕获 FileNotFoundError 异常\n",
    "try:\n",
    "    contents_1 = path_1.read_text()\n",
    "except FileNotFoundError:\n",
    "    print(f\"The file {path_1} does not exist.\")\n",
    "else:\n",
    "    print(f\"Cats' names: {contents_1}\")\n",
    "\n",
    "# try-except 代码块，以便在文件不存在时捕获 FileNotFoundError 异常\n",
    "try:\n",
    "    contents_2 = path_2.read_text()\n",
    "except FileNotFoundError:\n",
    "    print(f\"The file {path_2} does not exist.\")\n",
    "else:\n",
    "    print(f\"Dogs' names: {contents_2}\")"
   ]
  },
  {
   "cell_type": "markdown",
   "id": "9244d5ea",
   "metadata": {},
   "source": [
    "# 练习 10.9：静默的猫和狗"
   ]
  },
  {
   "cell_type": "code",
   "execution_count": 18,
   "id": "7b76e3e1",
   "metadata": {},
   "outputs": [
    {
     "name": "stdout",
     "output_type": "stream",
     "text": [
      "Cats' names: Persian, Ragdoll, Kitty\n"
     ]
    }
   ],
   "source": [
    "from pathlib import Path\n",
    "\n",
    "#用Path来访问文件\n",
    "path_1 = Path('cats.txt')\n",
    "path_2 = Path('dogs.txt')\n",
    "\n",
    "try:\n",
    "    contents_1 = path_1.read_text()\n",
    "except FileNotFoundError:\n",
    "    pass   #程序在文件不存在时静默失败\n",
    "else:\n",
    "    print(f\"Cats' names: {contents_1}\")\n",
    "    \n",
    "try:\n",
    "    contents_2 = path_2.read_text()\n",
    "except FileNotFoundError:\n",
    "    pass   #程序在文件不存在时静默失败\n",
    "else:\n",
    "    print(f\"Dogs' names: {contents_2}\")"
   ]
  },
  {
   "cell_type": "markdown",
   "id": "8d28fb9a",
   "metadata": {},
   "source": [
    "# 练习 10.10：常见单词"
   ]
  },
  {
   "cell_type": "code",
   "execution_count": 23,
   "id": "9f9ddec9",
   "metadata": {},
   "outputs": [
    {
     "name": "stdout",
     "output_type": "stream",
     "text": [
      "The number of 'the'in little_women : 11861\n",
      "The number of 'the 'in little_women : 7036\n",
      "The number of 'the'in moby_dick : 20139\n",
      "The number of 'the 'in moby_dick : 13317\n"
     ]
    }
   ],
   "source": [
    "from pathlib import Path\n",
    "\n",
    "#用Path来访问文件\n",
    "path_1 = Path('little_women.txt')\n",
    "path_2 = Path('moby_dick.txt')\n",
    "\n",
    "try:\n",
    "    contents_1 = path_1.read_text(encoding = 'utf-8')\n",
    "except FileNotFoundError:\n",
    "    print(f\"The file {path_1} does not exist.\")\n",
    "    \n",
    "try:\n",
    "    contents_2 = path_2.read_text(encoding = 'utf-8')\n",
    "except FileNotFoundError:\n",
    "    print(f\"The file {path_2} does not exist.\")\n",
    "\n",
    "#使用方法 count() 来确定特定的单词或短语在字符串中出现了多少次\n",
    "num_thes_1 = contents_1.lower().count('the')\n",
    "num_the_1 = contents_1.lower().count('the ')\n",
    "num_thes_2 = contents_2.lower().count('the')\n",
    "num_the_2 = contents_2.lower().count('the ')\n",
    "\n",
    "print(f\"The number of 'the'in little_women : {num_thes_1}\")\n",
    "print(f\"The number of 'the 'in little_women : {num_the_1}\")\n",
    "print(f\"The number of 'the'in moby_dick : {num_thes_2}\")\n",
    "print(f\"The number of 'the 'in moby_dick : {num_the_2}\")"
   ]
  },
  {
   "cell_type": "markdown",
   "id": "6938d831",
   "metadata": {},
   "source": [
    "# 练习 10.11：喜欢的数"
   ]
  },
  {
   "cell_type": "code",
   "execution_count": 24,
   "id": "d6012c79",
   "metadata": {},
   "outputs": [
    {
     "name": "stdout",
     "output_type": "stream",
     "text": [
      "Enter your favorite number. 666\n"
     ]
    },
    {
     "data": {
      "text/plain": [
       "5"
      ]
     },
     "execution_count": 24,
     "metadata": {},
     "output_type": "execute_result"
    }
   ],
   "source": [
    "from pathlib import Path\n",
    "import json\n",
    "\n",
    "#提示用户输入自己喜欢的数\n",
    "num = input(\"Enter your favorite number. \")\n",
    "\n",
    "path = Path('favorite_number.json')\n",
    "#使用 json.dumps() 将数存储在文件中\n",
    "contents = json.dumps(num)\n",
    "path.write_text(contents)"
   ]
  },
  {
   "cell_type": "code",
   "execution_count": 25,
   "id": "a38c604e",
   "metadata": {},
   "outputs": [
    {
     "name": "stdout",
     "output_type": "stream",
     "text": [
      "I know your favorite number! It's 666.\n"
     ]
    }
   ],
   "source": [
    "from pathlib import Path\n",
    "import json\n",
    "\n",
    "#用Path来访问文件\n",
    "path = Path('favorite_number.json')\n",
    "num = path.read_text()\n",
    "#使用 json.loads() 来读取\n",
    "contents = json.loads(num)\n",
    "\n",
    "print(f\"I know your favorite number! It's {contents}.\")"
   ]
  },
  {
   "cell_type": "markdown",
   "id": "a9bb23e8",
   "metadata": {},
   "source": [
    "# 练习 10.12：记住喜欢的数"
   ]
  },
  {
   "cell_type": "code",
   "execution_count": 26,
   "id": "4cc628af",
   "metadata": {},
   "outputs": [
    {
     "name": "stdout",
     "output_type": "stream",
     "text": [
      "I know your favorite number! It's 666.\n"
     ]
    }
   ],
   "source": [
    "from pathlib import Path\n",
    "import json\n",
    "\n",
    "#用Path来访问文件\n",
    "path = Path('favorite_number.json')\n",
    "\n",
    "#如果存储了用户喜欢的数，就向用户显示它，否则提示用户输入自己喜欢的数并将其存储在文件中\n",
    "if path.exists():\n",
    "    num = path.read_text()\n",
    "    #使用 json.loads() 来读取\n",
    "    contents = json.loads(num)\n",
    "    print(f\"I know your favorite number! It's {contents}.\")\n",
    "else:\n",
    "    num = input(\"Enter your favorite number. \")\n",
    "    #使用 json.dumps() 来存储\n",
    "    contents = json.dumps(num)\n",
    "    path.write_text(contents)\n",
    "    print(f\"We will remember your favorite number is {num}.\")"
   ]
  },
  {
   "cell_type": "code",
   "execution_count": 28,
   "id": "f53edd0c",
   "metadata": {},
   "outputs": [
    {
     "name": "stdout",
     "output_type": "stream",
     "text": [
      "Enter your favorite number. 1\n",
      "We will remember your favorite number is 1.\n"
     ]
    }
   ],
   "source": [
    "from pathlib import Path\n",
    "import json\n",
    "\n",
    "#用Path来访问文件\n",
    "path = Path('favorite_number.json')\n",
    "\n",
    "#如果存储了用户喜欢的数，就向用户显示它，否则提示用户输入自己喜欢的数并将其存储在文件中\n",
    "if path.exists():\n",
    "    num = path.read_text()\n",
    "    #使用 json.loads() 来读取\n",
    "    contents = json.loads(num)\n",
    "    print(f\"I know your favorite number! It's {contents}.\")\n",
    "else:\n",
    "    num = input(\"Enter your favorite number. \")\n",
    "    #使用 json.dumps() 来存储\n",
    "    contents = json.dumps(num)\n",
    "    path.write_text(contents)\n",
    "    print(f\"We will remember your favorite number is {num}.\")"
   ]
  },
  {
   "cell_type": "markdown",
   "id": "7b8b0354",
   "metadata": {},
   "source": [
    "# 练习 10.13：用户字典"
   ]
  },
  {
   "cell_type": "code",
   "execution_count": 32,
   "id": "f36a3381",
   "metadata": {},
   "outputs": [
    {
     "name": "stdout",
     "output_type": "stream",
     "text": [
      "Enter your name. Gong ziqi\n",
      "Enter your age. 20\n",
      "Enter your gender. male\n",
      "I remember your name is Gong ziqi.\n",
      "I remember your age is 20.\n",
      "I remember your gender is male.\n"
     ]
    }
   ],
   "source": [
    "from pathlib import Path\n",
    "import json\n",
    "\n",
    "#用Path来访问文件\n",
    "path = Path('user_infomation.json')\n",
    "\n",
    "#提示用户输入个人信息\n",
    "name = input('Enter your name. ')\n",
    "age = input('Enter your age. ')\n",
    "gender = input('Enter your gender. ')\n",
    "user_info = {'Name': name, 'Age': age, 'Gender': gender}\n",
    "\n",
    "#使用 json.dumps() 来存储\n",
    "contents = json.dumps(user_info)\n",
    "path.write_text(contents)\n",
    "\n",
    "#使用 json.loads() 来读取\n",
    "user_info = path.read_text()\n",
    "contents = json.loads(user_info)\n",
    "\n",
    "#打印消息，指出程序记住了有关用户的哪些信息\n",
    "print(f\"I remember your name is {contents['Name']}.\")\n",
    "print(f\"I remember your age is {contents['Age']}.\")\n",
    "print(f\"I remember your gender is {contents['Gender']}.\")"
   ]
  },
  {
   "cell_type": "markdown",
   "id": "7bee4068",
   "metadata": {},
   "source": [
    "# 练习 10.14：验证用户"
   ]
  },
  {
   "cell_type": "code",
   "execution_count": 36,
   "id": "a7aa2264",
   "metadata": {},
   "outputs": [
    {
     "name": "stdout",
     "output_type": "stream",
     "text": [
      "Are you Eric? \n",
      "Enter Yes or No. Yes\n",
      "Welcome back, Eric!\n"
     ]
    }
   ],
   "source": [
    "from pathlib import Path\n",
    "import json\n",
    "\n",
    "def get_stored_username(path):\n",
    "    \"\"\"如果存储了用户名，就获取它\"\"\"\n",
    "    if path.exists():\n",
    "        contents = path.read_text()\n",
    "        username = json.loads(contents)\n",
    "        return username\n",
    "    else:\n",
    "        return None\n",
    "    \n",
    "def ger_new_username(path):\n",
    "    \"\"\"提示用户输入用户名\"\"\"\n",
    "    username = input(\"What is your name? \")\n",
    "    contents = json.dumps(username)\n",
    "    path.write_text(contents)\n",
    "    return username\n",
    "\n",
    "def greet_user():\n",
    "    \"\"\"问候用户，并指出其名字\"\"\"\n",
    "    path = Path('username.json')\n",
    "    username = get_stored_username(path)\n",
    "    if username:\n",
    "        print(f\"Are you {username}? \")\n",
    "        name_0 = input('Enter Yes or No. ')\n",
    "        if name_0 == 'Yes':\n",
    "            print(f\"Welcome back, {username}!\")\n",
    "\n",
    "        else:\n",
    "            username = get_new_username(path)\n",
    "            print(f\"We'll remember you when you come back, {username}!\")\n",
    "        \n",
    "greet_user()"
   ]
  },
  {
   "cell_type": "code",
   "execution_count": 38,
   "id": "5bfc2eb4",
   "metadata": {},
   "outputs": [
    {
     "name": "stdout",
     "output_type": "stream",
     "text": [
      "Are you Eric? \n",
      "Enter Yes or No. No\n",
      "What is your name? Gong ziqi\n",
      "We'll remember you when you come back, Gong ziqi!\n"
     ]
    }
   ],
   "source": [
    "from pathlib import Path\n",
    "import json\n",
    "\n",
    "def get_stored_username(path):\n",
    "    \"\"\"如果存储了用户名，就获取它\"\"\"\n",
    "    if path.exists():\n",
    "        contents = path.read_text()\n",
    "        username = json.loads(contents)\n",
    "        return username\n",
    "    else:\n",
    "        return None\n",
    "    \n",
    "def get_new_username(path):\n",
    "    \"\"\"提示用户输入用户名\"\"\"\n",
    "    username = input(\"What is your name? \")\n",
    "    contents = json.dumps(username)\n",
    "    path.write_text(contents)\n",
    "    return username\n",
    "\n",
    "#询问用户名是否是对的。如果不对，就调用 get_new_username() 让用户输入正确的用户名，如果正确，就欢迎。\n",
    "def greet_user():\n",
    "    \"\"\"问候用户，并指出其名字\"\"\"\n",
    "    path = Path('username.json')\n",
    "    username = get_stored_username(path)\n",
    "    if username:\n",
    "        print(f\"Are you {username}? \")\n",
    "        name_0 = input('Enter Yes or No. ')\n",
    "        if name_0 == 'Yes':\n",
    "            print(f\"Welcome back, {username}!\")\n",
    "\n",
    "        else:\n",
    "            username = get_new_username(path)\n",
    "            print(f\"We'll remember you when you come back, {username}!\")\n",
    "        \n",
    "greet_user()"
   ]
  }
 ],
 "metadata": {
  "kernelspec": {
   "display_name": "Python 3 (ipykernel)",
   "language": "python",
   "name": "python3"
  },
  "language_info": {
   "codemirror_mode": {
    "name": "ipython",
    "version": 3
   },
   "file_extension": ".py",
   "mimetype": "text/x-python",
   "name": "python",
   "nbconvert_exporter": "python",
   "pygments_lexer": "ipython3",
   "version": "3.11.5"
  },
  "toc": {
   "base_numbering": 1,
   "nav_menu": {},
   "number_sections": true,
   "sideBar": true,
   "skip_h1_title": false,
   "title_cell": "Table of Contents",
   "title_sidebar": "Contents",
   "toc_cell": false,
   "toc_position": {},
   "toc_section_display": true,
   "toc_window_display": false
  }
 },
 "nbformat": 4,
 "nbformat_minor": 5
}
