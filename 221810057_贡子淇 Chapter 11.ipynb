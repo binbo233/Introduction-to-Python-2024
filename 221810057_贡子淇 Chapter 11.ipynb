{
 "cells": [
  {
   "cell_type": "markdown",
   "id": "2f908310",
   "metadata": {},
   "source": [
    "# 11.1 使用pip安装pytest"
   ]
  },
  {
   "cell_type": "code",
   "execution_count": null,
   "id": "3f5caa9d",
   "metadata": {},
   "outputs": [],
   "source": [
    " python -m pip install -- upgrade pip \n",
    "# 更新pip所需输入的指令\n",
    " python -m pip install -- user pytest\n",
    "# 安装pytest所需输入的指令"
   ]
  },
  {
   "cell_type": "markdown",
   "id": "9e59ab5d",
   "metadata": {},
   "source": [
    "# 11.2 测试函数"
   ]
  },
  {
   "cell_type": "code",
   "execution_count": 2,
   "id": "c00b338a",
   "metadata": {},
   "outputs": [
    {
     "name": "stdout",
     "output_type": "stream",
     "text": [
      "Enter 'q' at any time to quit.\n",
      "\n",
      "Please give me a first name: janis\n",
      "Please give me a last name: joplin\n",
      "\tNeatly formatted name: Janis Joplin.\n",
      "\n",
      "Please give me a first name: bob\n",
      "Please give me a last name: dylan\n",
      "\tNeatly formatted name: Bob Dylan.\n",
      "\n",
      "Please give me a first name: q\n"
     ]
    }
   ],
   "source": [
    "#输入待测试的代码\n",
    "def get_formatted_name(first, last):\n",
    "    \"\"\"生成格式规范的姓名\"\"\"\n",
    "    full_name = f\"{first} {last}\"\n",
    "    return full_name.title()\n",
    "\n",
    "print(\"Enter 'q' at any time to quit.\")\n",
    "while True:\n",
    "    first = input(\"\\nPlease give me a first name: \")\n",
    "    if first == 'q':\n",
    "        break\n",
    "    last = input(\"Please give me a last name: \")\n",
    "    if last == 'q':\n",
    "        break\n",
    "        \n",
    "    formatted_name = get_formatted_name(first, last)\n",
    "    print(f\"\\tNeatly formatted name: {formatted_name}.\")"
   ]
  },
  {
   "cell_type": "markdown",
   "id": "90f31cb9",
   "metadata": {},
   "source": [
    "# 11.2.2 可通过的测试"
   ]
  },
  {
   "cell_type": "code",
   "execution_count": null,
   "id": "43790202",
   "metadata": {},
   "outputs": [],
   "source": [
    "def get_formatted_name(first, last):\n",
    "    \"\"\"生成格式规范的姓名\"\"\"\n",
    "    full_name = f\"{first} {last}\"\n",
    "    return full_name.title()\n",
    "\n",
    "def test_first_last_name():\n",
    "    \"\"\"能够正确地处理像Janis Joplin这样的名字吗？\"\"\"\n",
    "    formatted_name = get_formatted_name('janis', 'joplin')\n",
    "    assert formatted_name == 'Janis Joplin'"
   ]
  },
  {
   "cell_type": "markdown",
   "id": "ad5a6749",
   "metadata": {},
   "source": [
    "# 11.2.3 运行测试"
   ]
  },
  {
   "cell_type": "code",
   "execution_count": null,
   "id": "66eae880",
   "metadata": {},
   "outputs": [],
   "source": [
    "def get_formatted_name(first, last):\n",
    "    \"\"\"生成格式规范的姓名\"\"\"\n",
    "    full_name = f\"{first} {last}\"\n",
    "    return full_name.title()\n",
    "\n",
    "def test_first_last_name():\n",
    "    \"\"\"能够正确地处理像Janis Joplin这样的名字吗？\"\"\"\n",
    "    formatted_name = get_formatted_name('janis', 'joplin')\n",
    "    assert formatted_name == 'Janis Joplin'\n",
    "    \n",
    "#结果\n",
    "PS C:\\Users\\binbo233> cd Desktop\\test\n",
    "PS C:\\Users\\binbo233\\Desktop\\test> python -m pytest\n",
    "===================================================================================================================================================================== test session starts ======================================================================================================================================================================\n",
    "platform win32 -- Python 3.11.9, pytest-8.2.1, pluggy-1.5.0\n",
    "rootdir: C:\\Users\\binbo233\\Desktop\\test\n",
    "collected 1 item\n",
    "\n",
    "test_name_function.py .                                                                                                                                                                                                                                                                                                                                   [100%]\n",
    "\n",
    "====================================================================================================================================================================== 1 passed in 0.01s ======================================================================================================================================================================="
   ]
  },
  {
   "cell_type": "markdown",
   "id": "f6c9122a",
   "metadata": {},
   "source": [
    "# 11.2.4 未通过的测试"
   ]
  },
  {
   "cell_type": "code",
   "execution_count": null,
   "id": "a4e37453",
   "metadata": {},
   "outputs": [],
   "source": [
    "def get_formatted_name(first, middle, last):\n",
    "    \"\"\"生成格式规范的姓名\"\"\"\n",
    "    full_name = f\"{first} {middle} {last}\"\n",
    "    return full_name.title()\n",
    "\n",
    "def test_first_last_name():\n",
    "    \"\"\"能够正确地处理像Janis Joplin这样的名字吗？\"\"\"\n",
    "    formatted_name = get_formatted_name('janis', 'joplin')\n",
    "    assert formatted_name == 'Janis Joplin'\n",
    "    \n",
    "#结果\n",
    "PS C:\\Users\\binbo233\\Desktop\\test> python -m pytest\n",
    "===================================================================================================================================================================== test session starts ======================================================================================================================================================================\n",
    "platform win32 -- Python 3.11.9, pytest-8.2.1, pluggy-1.5.0\n",
    "rootdir: C:\\Users\\binbo233\\Desktop\\test\n",
    "collected 1 item                                                                                                                                                                                                                                                                                                                                                 \n",
    "\n",
    "test_name_function.py F                                                                                                                                                                                                                                                                                                                                   [100%]\n",
    "\n",
    "=========================================================================================================================================================================== FAILURES =========================================================================================================================================================================== \n",
    "_____________________________________________________________________________________________________________________________________________________________________ test_first_last_name _____________________________________________________________________________________________________________________________________________________________________ \n",
    "\n",
    "    def test_first_last_name():\n",
    "        \"\"\"能够正确地处理像Janis Joplin这样的名字吗？\"\"\"\n",
    ">       formatted_name = get_formatted_name('janis', 'joplin')\n",
    "E       TypeError: get_formatted_name() missing 1 required positional argument: 'last'\n",
    "\n",
    "test_name_function.py:8: TypeError\n",
    "=================================================================================================================================================================== short test summary info ==================================================================================================================================================================== \n",
    "FAILED test_name_function.py::test_first_last_name - TypeError: get_formatted_name() missing 1 required positional argument: 'last'\n",
    "====================================================================================================================================================================== 1 failed in 0.04s ======================================================================================================================================================================= "
   ]
  },
  {
   "cell_type": "markdown",
   "id": "fed6a693",
   "metadata": {},
   "source": [
    "# 11.2.5 在测试未通过时怎么办"
   ]
  },
  {
   "cell_type": "code",
   "execution_count": null,
   "id": "aaadfae7",
   "metadata": {},
   "outputs": [],
   "source": [
    "#修改代码\n",
    "def get_formatted_name(first, last, middle=''):\n",
    "    \"\"\"生成格式规范的姓名\"\"\"\n",
    "    if middle:\n",
    "        full_name = f\"{first} {middle} {last}\"\n",
    "    else:\n",
    "        full_name = f\"{first} {last}\"\n",
    "    return full_name.title()\n",
    "\n",
    "def test_first_last_name():\n",
    "    \"\"\"能够正确地处理像Janis Joplin这样的名字吗？\"\"\"\n",
    "    formatted_name = get_formatted_name('janis', 'joplin')\n",
    "    assert formatted_name == 'Janis Joplin'\n",
    "    \n",
    "#结果\n",
    "PS C:\\Users\\binbo233\\Desktop\\test> python -m pytest\n",
    "===================================================================================================================================================================== test session starts ======================================================================================================================================================================\n",
    "platform win32 -- Python 3.11.9, pytest-8.2.1, pluggy-1.5.0\n",
    "rootdir: C:\\Users\\binbo233\\Desktop\\test\n",
    "collected 1 item\n",
    "\n",
    "test_name_function.py .                                                                                                                                                                                                                                                                                                                                   [100%]\n",
    "\n",
    "====================================================================================================================================================================== 1 passed in 0.01s ======================================================================================================================================================================="
   ]
  },
  {
   "cell_type": "markdown",
   "id": "18d11d74",
   "metadata": {},
   "source": [
    "# 11.2.6 添加新的测试"
   ]
  },
  {
   "cell_type": "code",
   "execution_count": null,
   "id": "0708d619",
   "metadata": {},
   "outputs": [],
   "source": [
    "def get_formatted_name(first, last, middle=''):\n",
    "    \"\"\"生成格式规范的姓名\"\"\"\n",
    "    if middle:\n",
    "        full_name = f\"{first} {middle} {last}\"\n",
    "    else:\n",
    "        full_name = f\"{first} {last}\"\n",
    "    return full_name.title()\n",
    "\n",
    "def test_first_last_name():\n",
    "    \"\"\"能够正确地处理像Janis Joplin这样的名字吗？\"\"\"\n",
    "    formatted_name = get_formatted_name('janis', 'joplin')\n",
    "    assert formatted_name == 'Janis Joplin'\n",
    "    \n",
    "def test_first_last_middle_name():\n",
    "    \"\"\"能够正确处理像Wolfgang Amadeus Mozart这样的姓名吗？\"\"\"\n",
    "    formatted_name = get_formatted_name('wolfgang', 'mozart', 'amadeus')\n",
    "    assert formatted_name == 'Wolfgang Amadeus Mozart'\n",
    "    \n",
    "#结果\n",
    "PS C:\\Users\\binbo233\\Desktop\\test> python -m pytest\n",
    "===================================================================================================================================================================== test session starts ======================================================================================================================================================================\n",
    "platform win32 -- Python 3.11.9, pytest-8.2.1, pluggy-1.5.0\n",
    "rootdir: C:\\Users\\binbo233\\Desktop\\test\n",
    "collected 2 items\n",
    "\n",
    "test_name_function.py ..                                                                                                                                                                                                                                                                                                                                  [100%]\n",
    "\n",
    "====================================================================================================================================================================== 2 passed in 0.01s ======================================================================================================================================================================="
   ]
  },
  {
   "cell_type": "markdown",
   "id": "b563c503",
   "metadata": {},
   "source": [
    "# 11.3 测试类"
   ]
  },
  {
   "cell_type": "markdown",
   "id": "0820451a",
   "metadata": {},
   "source": [
    "# 11.3.2 一个要测试的类"
   ]
  },
  {
   "cell_type": "code",
   "execution_count": 4,
   "id": "97e74a08",
   "metadata": {},
   "outputs": [
    {
     "name": "stdout",
     "output_type": "stream",
     "text": [
      "What language did you first learn to speak?\n",
      "Enter 'q' at any time to quit.\n",
      "\n",
      "Language: English\n",
      "Language: Spanish\n",
      "Language: English\n",
      "Language: Mandarin\n",
      "Language: q\n",
      "\n",
      "Thank you to everyone who paticipated in the survey!\n",
      "Survey results:\n",
      "- English\n",
      "- Spanish\n",
      "- English\n",
      "- Mandarin\n"
     ]
    }
   ],
   "source": [
    "class AnonymousSurvey:\n",
    "    \"\"\"收集匿名调查问卷的答案\"\"\"\n",
    "    \n",
    "    def __init__(self, question):\n",
    "        \"\"\"存储一个问题，并为存储答案做准备\"\"\"\n",
    "        self.question = question\n",
    "        self.responses = []\n",
    "        \n",
    "    def show_question(self):\n",
    "        \"\"\"显示调查问卷\"\"\"\n",
    "        print(self.question)\n",
    "        \n",
    "    def store_response(self, new_response):\n",
    "        \"\"\"存储单份调查问卷\"\"\"\n",
    "        self.responses.append(new_response)\n",
    "        \n",
    "    def show_results(self):\n",
    "        \"\"\"显示收集到的所有答卷\"\"\"\n",
    "        print(\"Survey results:\")\n",
    "        for response in self.responses:\n",
    "            print(f\"- {response}\")\n",
    "            \n",
    "#定义一个问题，并创建一个表示调查的AnonymousSurvey对象\n",
    "question = \"What language did you first learn to speak?\"\n",
    "language_survey = AnonymousSurvey(question)\n",
    "\n",
    "#显示问题并存储答案\n",
    "language_survey.show_question()\n",
    "print(\"Enter 'q' at any time to quit.\\n\")\n",
    "while True:\n",
    "    response = input(\"Language: \")\n",
    "    if response == 'q':\n",
    "        break\n",
    "    language_survey.store_response(response)\n",
    "    \n",
    "#显示调查结果\n",
    "print(\"\\nThank you to everyone who paticipated in the survey!\")\n",
    "language_survey.show_results()"
   ]
  },
  {
   "cell_type": "markdown",
   "id": "869ab12e",
   "metadata": {},
   "source": [
    "# 11.3.3 测试AnonymousSurvey类"
   ]
  },
  {
   "cell_type": "code",
   "execution_count": null,
   "id": "b610d400",
   "metadata": {},
   "outputs": [],
   "source": [
    "class AnonymousSurvey:\n",
    "    \"\"\"收集匿名调查问卷的答案\"\"\"\n",
    "    \n",
    "    def __init__(self, question):\n",
    "        \"\"\"存储一个问题，并为存储答案做准备\"\"\"\n",
    "        self.question = question\n",
    "        self.responses = []\n",
    "        \n",
    "    def show_question(self):\n",
    "        \"\"\"显示调查问卷\"\"\"\n",
    "        print(self.question)\n",
    "        \n",
    "    def store_response(self, new_response):\n",
    "        \"\"\"存储单份调查问卷\"\"\"\n",
    "        self.responses.append(new_response)\n",
    "        \n",
    "    def show_results(self):\n",
    "        \"\"\"显示收集到的所有答卷\"\"\"\n",
    "        print(\"Survey results:\")\n",
    "        for response in self.responses:\n",
    "            print(f\"- {response}\")\n",
    "            \n",
    "def test_store_single_response():\n",
    "    \"\"\"测试单个答案会被妥善地存储\"\"\"\n",
    "    question = \"What language did you first learn to speak?\"\n",
    "    language_survey = AnonymousSurvey(question)\n",
    "    language_survey.store_response('English')\n",
    "    assert 'English' in language_survey.responses\n",
    "    \n",
    "#结果\n",
    "PS C:\\Users\\binbo233\\Desktop\\test> python -m pytest\n",
    "===================================================================================================================================================================== test session starts ======================================================================================================================================================================\n",
    "platform win32 -- Python 3.11.9, pytest-8.2.1, pluggy-1.5.0\n",
    "rootdir: C:\\Users\\binbo233\\Desktop\\test\n",
    "collected 1 item\n",
    "\n",
    "test_name_function.py .                                                                                                                                                                                                                                                                                                                                   [100%] \n",
    "\n",
    "====================================================================================================================================================================== 1 passed in 0.01s ======================================================================================================================================================================= "
   ]
  },
  {
   "cell_type": "code",
   "execution_count": null,
   "id": "4f55ecb1",
   "metadata": {},
   "outputs": [],
   "source": [
    "class AnonymousSurvey:\n",
    "    \"\"\"收集匿名调查问卷的答案\"\"\"\n",
    "    \n",
    "    def __init__(self, question):\n",
    "        \"\"\"存储一个问题，并为存储答案做准备\"\"\"\n",
    "        self.question = question\n",
    "        self.responses = []\n",
    "        \n",
    "    def show_question(self):\n",
    "        \"\"\"显示调查问卷\"\"\"\n",
    "        print(self.question)\n",
    "        \n",
    "    def store_response(self, new_response):\n",
    "        \"\"\"存储单份调查问卷\"\"\"\n",
    "        self.responses.append(new_response)\n",
    "        \n",
    "    def show_results(self):\n",
    "        \"\"\"显示收集到的所有答卷\"\"\"\n",
    "        print(\"Survey results:\")\n",
    "        for response in self.responses:\n",
    "            print(f\"- {response}\")\n",
    "            \n",
    "def test_store_single_response():\n",
    "    \"\"\"测试单个答案会被妥善地存储\"\"\"\n",
    "    question = \"What language did you first learn to speak?\"\n",
    "    language_survey = AnonymousSurvey(question)\n",
    "    language_survey.store_response('English')\n",
    "    assert 'English' in language_survey.responses\n",
    "    \n",
    "def test_store_three_responses():\n",
    "    \"\"\"测试三个答案会被妥善地存储\"\"\"\n",
    "    question = \"What language did you first learn to speak?\"\n",
    "    language_survey = AnonymousSurvey(question)\n",
    "    responses = ['English', 'Spanish', 'Mandarin']\n",
    "    for response in responses:\n",
    "        language_survey.store_response(response)\n",
    "        \n",
    "    for response in responses:\n",
    "        assert response in language_survey.responses\n",
    "        \n",
    "#结果\n",
    "PS C:\\Users\\binbo233\\Desktop\\test> python -m pytest\n",
    "===================================================================================================================================================================== test session starts ======================================================================================================================================================================\n",
    "platform win32 -- Python 3.11.9, pytest-8.2.1, pluggy-1.5.0\n",
    "rootdir: C:\\Users\\binbo233\\Desktop\\test\n",
    "collected 2 items                                                                                                                                                                                                                                                                                                                                                \n",
    "\n",
    "test_name_function.py ..                                                                                                                                                                                                                                                                                                                                  [100%] \n",
    "\n",
    "====================================================================================================================================================================== 2 passed in 0.01s ======================================================================================================================================================================= "
   ]
  },
  {
   "cell_type": "markdown",
   "id": "f58fe310",
   "metadata": {},
   "source": [
    "# 11.3.4 使用夹具"
   ]
  },
  {
   "cell_type": "code",
   "execution_count": null,
   "id": "5e97797f",
   "metadata": {},
   "outputs": [],
   "source": [
    "import pytest\n",
    "\n",
    "class AnonymousSurvey:\n",
    "    \"\"\"收集匿名调查问卷的答案\"\"\"\n",
    "    \n",
    "    def __init__(self, question):\n",
    "        \"\"\"存储一个问题，并为存储答案做准备\"\"\"\n",
    "        self.question = question\n",
    "        self.responses = []\n",
    "        \n",
    "    def show_question(self):\n",
    "        \"\"\"显示调查问卷\"\"\"\n",
    "        print(self.question)\n",
    "        \n",
    "    def store_response(self, new_response):\n",
    "        \"\"\"存储单份调查问卷\"\"\"\n",
    "        self.responses.append(new_response)\n",
    "        \n",
    "    def show_results(self):\n",
    "        \"\"\"显示收集到的所有答卷\"\"\"\n",
    "        print(\"Survey results:\")\n",
    "        for response in self.responses:\n",
    "            print(f\"- {response}\")\n",
    "            \n",
    "@pytest.fixture\n",
    "def language_survey():\n",
    "    \"\"\"一个可供所有测试函数使用的AnonymousSurvey实例\"\"\"\n",
    "    question = \"What language did you first learn to speak?\"\n",
    "    language_survey = AnonymousSurvey(question)\n",
    "    return language_survey\n",
    "\n",
    "def test_store_single_response(language_survey):\n",
    "     \"\"\"测试单个答案会被妥善地存储\"\"\"\n",
    "    language_survey.store_response('English')\n",
    "    assert 'English' in language_survey.responses\n",
    "    \n",
    "def test_store_three_responses(language_survey):\n",
    "    \"\"\"测试三个答案会被妥善地存储\"\"\"\n",
    "    responses = ['English', 'Spanish', 'Mandarin']\n",
    "    for response in responses:\n",
    "        language_survey.store_response(response)\n",
    "        \n",
    "    for response in responses:\n",
    "        assert response in language_survey.responses\n",
    "        \n",
    "#结果\n",
    "PS C:\\Users\\binbo233\\Desktop\\test> python -m pytest\n",
    "===================================================================================================================================================================== test session starts ======================================================================================================================================================================\n",
    "platform win32 -- Python 3.11.9, pytest-8.2.1, pluggy-1.5.0\n",
    "rootdir: C:\\Users\\binbo233\\Desktop\\test\n",
    "collected 2 items                                                                                                                                                                                                                                                                                                                                                \n",
    "\n",
    "test_name_function.py ..                                                                                                                                                                                                                                                                                                                                  [100%] \n",
    "\n",
    "====================================================================================================================================================================== 2 passed in 0.02s ======================================================================================================================================================================= "
   ]
  },
  {
   "cell_type": "markdown",
   "id": "9db6daf0",
   "metadata": {},
   "source": [
    "# "
   ]
  }
 ],
 "metadata": {
  "kernelspec": {
   "display_name": "Python 3 (ipykernel)",
   "language": "python",
   "name": "python3"
  },
  "language_info": {
   "codemirror_mode": {
    "name": "ipython",
    "version": 3
   },
   "file_extension": ".py",
   "mimetype": "text/x-python",
   "name": "python",
   "nbconvert_exporter": "python",
   "pygments_lexer": "ipython3",
   "version": "3.11.5"
  }
 },
 "nbformat": 4,
 "nbformat_minor": 5
}
