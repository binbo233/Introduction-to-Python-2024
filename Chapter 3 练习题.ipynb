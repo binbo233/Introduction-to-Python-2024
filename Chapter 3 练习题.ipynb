{
 "cells": [
  {
   "cell_type": "markdown",
   "id": "d1c96be0",
   "metadata": {},
   "source": [
    "# 练习3.1"
   ]
  },
  {
   "cell_type": "code",
   "execution_count": 1,
   "id": "8f871980",
   "metadata": {},
   "outputs": [
    {
     "name": "stdout",
     "output_type": "stream",
     "text": [
      "HYL\n",
      "SW\n",
      "YCH\n"
     ]
    }
   ],
   "source": [
    "names = ['HYL','SW','YCH']\n",
    "for name in names:\n",
    "    print(name)"
   ]
  },
  {
   "cell_type": "markdown",
   "id": "69c49587",
   "metadata": {},
   "source": [
    "# 练习3.2"
   ]
  },
  {
   "cell_type": "code",
   "execution_count": 5,
   "id": "86842dce",
   "metadata": {},
   "outputs": [
    {
     "name": "stdout",
     "output_type": "stream",
     "text": [
      "HYL, how are you today?\n",
      "SW, how are you today?\n",
      "YCH, how are you today?\n"
     ]
    }
   ],
   "source": [
    "names = ['HYL','SW','YCH']\n",
    "for name in names:\n",
    "    print(f\"{name}, how are you today?\")"
   ]
  },
  {
   "cell_type": "markdown",
   "id": "06d221b5",
   "metadata": {},
   "source": [
    "# 练习3.3"
   ]
  },
  {
   "cell_type": "code",
   "execution_count": 7,
   "id": "3ecabe5a",
   "metadata": {},
   "outputs": [
    {
     "name": "stdout",
     "output_type": "stream",
     "text": [
      "I would like to go home by bicycle.\n"
     ]
    }
   ],
   "source": [
    "way = ['bicycle', 'bus','car']\n",
    "print(f\"I would like to go home by {way[0]}.\")"
   ]
  },
  {
   "cell_type": "markdown",
   "id": "2970cd5e",
   "metadata": {},
   "source": [
    "# 练习3.4"
   ]
  },
  {
   "cell_type": "code",
   "execution_count": 9,
   "id": "58686c90",
   "metadata": {},
   "outputs": [
    {
     "name": "stdout",
     "output_type": "stream",
     "text": [
      "Welcome to have a dinner with me, A!\n",
      "Welcome to have a dinner with me, B!\n",
      "Welcome to have a dinner with me, C!\n"
     ]
    }
   ],
   "source": [
    "names =['A','B','C']\n",
    "for name in names:    \n",
    "    print(f\"Welcome to have a dinner with me, {name}!\")"
   ]
  },
  {
   "cell_type": "markdown",
   "id": "7b26bbe6",
   "metadata": {},
   "source": [
    "# 练习3.5"
   ]
  },
  {
   "cell_type": "code",
   "execution_count": 13,
   "id": "32c8085b",
   "metadata": {},
   "outputs": [
    {
     "name": "stdout",
     "output_type": "stream",
     "text": [
      "Welcome to have a dinner with me, A!\n",
      "Welcome to have a dinner with me, B!\n",
      "Welcome to have a dinner with me, C!\n",
      "\n",
      "C can't attend the dinner.\n",
      "Welcome to have a dinner with me, A!\n",
      "Welcome to have a dinner with me, B!\n",
      "Welcome to have a dinner with me, D!\n"
     ]
    }
   ],
   "source": [
    "names =['A','B','C']\n",
    "for name in names:    \n",
    "    print(f\"Welcome to have a dinner with me, {name}!\")\n",
    "    \n",
    "print(\"\\nC can't attend the dinner.\")\n",
    "names[2] = 'D'\n",
    "\n",
    "for name in names:    \n",
    "    print(f\"Welcome to have a dinner with me, {name}!\")"
   ]
  },
  {
   "cell_type": "markdown",
   "id": "63f4da11",
   "metadata": {},
   "source": [
    "# 练习3.6"
   ]
  },
  {
   "cell_type": "code",
   "execution_count": 15,
   "id": "8cd35a56",
   "metadata": {},
   "outputs": [
    {
     "name": "stdout",
     "output_type": "stream",
     "text": [
      "Welcome to have a dinner with me, A!\n",
      "Welcome to have a dinner with me, B!\n",
      "Welcome to have a dinner with me, C!\n",
      "\n",
      "C can't attend the dinner.\n",
      "Welcome to have a dinner with me, A!\n",
      "Welcome to have a dinner with me, B!\n",
      "Welcome to have a dinner with me, D!\n",
      "\n",
      "We find a bigger table!\n",
      "Welcome to have a dinner with me, E!\n",
      "Welcome to have a dinner with me, A!\n",
      "Welcome to have a dinner with me, F!\n",
      "Welcome to have a dinner with me, B!\n",
      "Welcome to have a dinner with me, D!\n",
      "Welcome to have a dinner with me, G!\n"
     ]
    }
   ],
   "source": [
    "names =['A','B','C']\n",
    "for name in names:    \n",
    "    print(f\"Welcome to have a dinner with me, {name}!\")\n",
    "    \n",
    "print(\"\\nC can't attend the dinner.\")\n",
    "names[2] = 'D'\n",
    "\n",
    "for name in names:    \n",
    "    print(f\"Welcome to have a dinner with me, {name}!\")\n",
    "    \n",
    "print(\"\\nWe find a bigger table!\")\n",
    "names.insert(0,'E')\n",
    "names.insert(2,'F')\n",
    "names.append('G')\n",
    "for name in names:    \n",
    "    print(f\"Welcome to have a dinner with me, {name}!\")\n"
   ]
  },
  {
   "cell_type": "markdown",
   "id": "f9134ddc",
   "metadata": {},
   "source": [
    "# 练习3.7"
   ]
  },
  {
   "cell_type": "code",
   "execution_count": 20,
   "id": "566b8594",
   "metadata": {},
   "outputs": [
    {
     "name": "stdout",
     "output_type": "stream",
     "text": [
      "Welcome to have a dinner with me, A!\n",
      "Welcome to have a dinner with me, B!\n",
      "Welcome to have a dinner with me, C!\n",
      "\n",
      "C can't attend the dinner.\n",
      "Welcome to have a dinner with me, A!\n",
      "Welcome to have a dinner with me, B!\n",
      "Welcome to have a dinner with me, D!\n",
      "\n",
      "We find a bigger table!\n",
      "Welcome to have a dinner with me, E!\n",
      "Welcome to have a dinner with me, A!\n",
      "Welcome to have a dinner with me, F!\n",
      "Welcome to have a dinner with me, B!\n",
      "Welcome to have a dinner with me, D!\n",
      "Welcome to have a dinner with me, G!\n",
      "\n",
      "The table can't arrive on time. So I can only invite two people.\n",
      "Sorry,G,I can't invite you.\n",
      "Sorry,D,I can't invite you.\n",
      "Sorry,B,I can't invite you.\n",
      "Sorry,F,I can't invite you.\n",
      "Welcome to have a dinner with me, E!\n",
      "Welcome to have a dinner with me, A!\n",
      "\n",
      "check\n",
      "[]\n"
     ]
    }
   ],
   "source": [
    "names =['A','B','C']\n",
    "for name in names:    \n",
    "    print(f\"Welcome to have a dinner with me, {name}!\")\n",
    "    \n",
    "print(\"\\nC can't attend the dinner.\")\n",
    "names[2] = 'D'\n",
    "\n",
    "for name in names:    \n",
    "    print(f\"Welcome to have a dinner with me, {name}!\")\n",
    "    \n",
    "print(\"\\nWe find a bigger table!\")\n",
    "names.insert(0,'E')\n",
    "names.insert(2,'F')\n",
    "names.append('G')\n",
    "for name in names:    \n",
    "    print(f\"Welcome to have a dinner with me, {name}!\")\n",
    "    \n",
    "print(\"\\nThe table can't arrive on time. So I can only invite two people.\")\n",
    "popped_name = names.pop()\n",
    "print(f\"Sorry,{popped_name},I can't invite you.\")\n",
    "popped_name = names.pop()\n",
    "print(f\"Sorry,{popped_name},I can't invite you.\")\n",
    "popped_name = names.pop()\n",
    "print(f\"Sorry,{popped_name},I can't invite you.\")\n",
    "popped_name = names.pop()\n",
    "print(f\"Sorry,{popped_name},I can't invite you.\")\n",
    "\n",
    "for name in names:    \n",
    "    print(f\"Welcome to have a dinner with me, {name}!\")\n",
    "\n",
    "print(\"\\ncheck\")\n",
    "del names[0]\n",
    "del names[0]\n",
    "print(names)"
   ]
  },
  {
   "cell_type": "markdown",
   "id": "1656dde9",
   "metadata": {},
   "source": [
    "# 练习3.8"
   ]
  },
  {
   "cell_type": "code",
   "execution_count": 22,
   "id": "110ad8e3",
   "metadata": {},
   "outputs": [
    {
     "name": "stdout",
     "output_type": "stream",
     "text": [
      "['Tibet', 'Yunnan', 'Gansu', 'Beijing', 'Shanghai']\n",
      "['Beijing', 'Gansu', 'Shanghai', 'Tibet', 'Yunnan']\n",
      "['Tibet', 'Yunnan', 'Gansu', 'Beijing', 'Shanghai']\n",
      "['Yunnan', 'Tibet', 'Shanghai', 'Gansu', 'Beijing']\n",
      "['Tibet', 'Yunnan', 'Gansu', 'Beijing', 'Shanghai']\n",
      "['Shanghai', 'Beijing', 'Gansu', 'Yunnan', 'Tibet']\n",
      "['Tibet', 'Yunnan', 'Gansu', 'Beijing', 'Shanghai']\n",
      "['Beijing', 'Gansu', 'Shanghai', 'Tibet', 'Yunnan']\n",
      "['Yunnan', 'Tibet', 'Shanghai', 'Gansu', 'Beijing']\n"
     ]
    }
   ],
   "source": [
    "places = ['Tibet','Yunnan','Gansu','Beijing','Shanghai']\n",
    "print(places)\n",
    "\n",
    "print(sorted(places))\n",
    "print(places)\n",
    "\n",
    "print(sorted(places,reverse = True))\n",
    "print(places)\n",
    "\n",
    "places.reverse()\n",
    "print(places)\n",
    "\n",
    "places.reverse()\n",
    "print(places)\n",
    "\n",
    "places.sort()\n",
    "print(places)\n",
    "\n",
    "places.sort(reverse = True)\n",
    "print(places)"
   ]
  },
  {
   "cell_type": "markdown",
   "id": "6481a4af",
   "metadata": {},
   "source": [
    "# 练习3.9"
   ]
  },
  {
   "cell_type": "code",
   "execution_count": 24,
   "id": "e8bcf6cb",
   "metadata": {},
   "outputs": [
    {
     "name": "stdout",
     "output_type": "stream",
     "text": [
      "Welcome to have a dinner with me, A!\n",
      "Welcome to have a dinner with me, B!\n",
      "Welcome to have a dinner with me, C!\n",
      "\n",
      "C can't attend the dinner.\n",
      "Welcome to have a dinner with me, A!\n",
      "Welcome to have a dinner with me, B!\n",
      "Welcome to have a dinner with me, D!\n",
      "\n",
      "We find a bigger table!\n",
      "Welcome to have a dinner with me, E!\n",
      "Welcome to have a dinner with me, A!\n",
      "Welcome to have a dinner with me, F!\n",
      "Welcome to have a dinner with me, B!\n",
      "Welcome to have a dinner with me, D!\n",
      "Welcome to have a dinner with me, G!\n",
      "\n",
      "numbers of people\n"
     ]
    },
    {
     "data": {
      "text/plain": [
       "6"
      ]
     },
     "execution_count": 24,
     "metadata": {},
     "output_type": "execute_result"
    }
   ],
   "source": [
    "names =['A','B','C']\n",
    "for name in names:    \n",
    "    print(f\"Welcome to have a dinner with me, {name}!\")\n",
    "    \n",
    "print(\"\\nC can't attend the dinner.\")\n",
    "names[2] = 'D'\n",
    "\n",
    "for name in names:    \n",
    "    print(f\"Welcome to have a dinner with me, {name}!\")\n",
    "    \n",
    "print(\"\\nWe find a bigger table!\")\n",
    "names.insert(0,'E')\n",
    "names.insert(2,'F')\n",
    "names.append('G')\n",
    "for name in names:    \n",
    "    print(f\"Welcome to have a dinner with me, {name}!\")\n",
    "  \n",
    "print(\"\\nnumbers of people\")\n",
    "len(names)"
   ]
  },
  {
   "cell_type": "markdown",
   "id": "3ec656b7",
   "metadata": {},
   "source": [
    "# 练习3.10"
   ]
  },
  {
   "cell_type": "code",
   "execution_count": 27,
   "id": "98a8ef48",
   "metadata": {},
   "outputs": [
    {
     "name": "stdout",
     "output_type": "stream",
     "text": [
      "['B', 'G', 'Q', 'P', 'A']\n",
      "['B', 'J', 'Q', 'P', 'A']\n",
      "['B', 'J', 'Q', 'P', 'A', 'T']\n",
      "['K', 'B', 'J', 'Q', 'P', 'A', 'T']\n",
      "['K', 'J', 'Q', 'P', 'A', 'T']\n",
      "['K', 'J', 'Q', 'P', 'A']\n",
      "T\n",
      "['K', 'Q', 'P', 'A']\n",
      "['A', 'K', 'P', 'Q']\n",
      "['Q', 'P', 'K', 'A']\n"
     ]
    },
    {
     "data": {
      "text/plain": [
       "4"
      ]
     },
     "execution_count": 27,
     "metadata": {},
     "output_type": "execute_result"
    }
   ],
   "source": [
    "letters = ['B','G','Q','P','A']\n",
    "print(letters)\n",
    "\n",
    "letters[1] = 'J'\n",
    "print(letters)\n",
    "\n",
    "letters.append('T')\n",
    "print(letters)\n",
    "\n",
    "letters.insert(0,'K')\n",
    "print(letters)\n",
    "\n",
    "del letters[1]\n",
    "print(letters)\n",
    "\n",
    "popped_letter = letters.pop()\n",
    "print(letters)\n",
    "print(popped_letter)\n",
    "\n",
    "letters.remove('J')\n",
    "print(letters)\n",
    "\n",
    "letters.sort()\n",
    "print(letters)\n",
    "\n",
    "letters.reverse()\n",
    "print(letters)\n",
    "\n",
    "len(letters)\n"
   ]
  },
  {
   "cell_type": "markdown",
   "id": "1e7afaaf",
   "metadata": {},
   "source": [
    "# 练习3.11"
   ]
  },
  {
   "cell_type": "code",
   "execution_count": 28,
   "id": "4fe9cdeb",
   "metadata": {},
   "outputs": [
    {
     "ename": "IndexError",
     "evalue": "list index out of range",
     "output_type": "error",
     "traceback": [
      "\u001b[1;31m---------------------------------------------------------------------------\u001b[0m",
      "\u001b[1;31mIndexError\u001b[0m                                Traceback (most recent call last)",
      "Cell \u001b[1;32mIn[28], line 3\u001b[0m\n\u001b[0;32m      1\u001b[0m \u001b[38;5;66;03m#有意引发错误\u001b[39;00m\n\u001b[0;32m      2\u001b[0m letters \u001b[38;5;241m=\u001b[39m [\u001b[38;5;124m'\u001b[39m\u001b[38;5;124mB\u001b[39m\u001b[38;5;124m'\u001b[39m,\u001b[38;5;124m'\u001b[39m\u001b[38;5;124mG\u001b[39m\u001b[38;5;124m'\u001b[39m,\u001b[38;5;124m'\u001b[39m\u001b[38;5;124mQ\u001b[39m\u001b[38;5;124m'\u001b[39m,\u001b[38;5;124m'\u001b[39m\u001b[38;5;124mP\u001b[39m\u001b[38;5;124m'\u001b[39m,\u001b[38;5;124m'\u001b[39m\u001b[38;5;124mA\u001b[39m\u001b[38;5;124m'\u001b[39m]\n\u001b[1;32m----> 3\u001b[0m \u001b[38;5;28mprint\u001b[39m(letters[\u001b[38;5;241m5\u001b[39m])\n",
      "\u001b[1;31mIndexError\u001b[0m: list index out of range"
     ]
    }
   ],
   "source": [
    "#有意引发错误\n",
    "letters = ['B','G','Q','P','A']\n",
    "print(letters[5])"
   ]
  }
 ],
 "metadata": {
  "kernelspec": {
   "display_name": "Python 3 (ipykernel)",
   "language": "python",
   "name": "python3"
  },
  "language_info": {
   "codemirror_mode": {
    "name": "ipython",
    "version": 3
   },
   "file_extension": ".py",
   "mimetype": "text/x-python",
   "name": "python",
   "nbconvert_exporter": "python",
   "pygments_lexer": "ipython3",
   "version": "3.11.5"
  }
 },
 "nbformat": 4,
 "nbformat_minor": 5
}
