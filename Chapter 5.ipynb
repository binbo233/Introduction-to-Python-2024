{
 "cells": [
  {
   "cell_type": "markdown",
   "id": "5be65fc2",
   "metadata": {},
   "source": [
    "# 5.1 一个简单的示例"
   ]
  },
  {
   "cell_type": "code",
   "execution_count": 1,
   "id": "74a138b1",
   "metadata": {},
   "outputs": [
    {
     "name": "stdout",
     "output_type": "stream",
     "text": [
      "Audi\n",
      "BMW\n",
      "Subaru\n",
      "Toyota\n"
     ]
    }
   ],
   "source": [
    "cars = ['audi','bmw','subaru','toyota']\n",
    "for car in cars:\n",
    "    if car =='bmw':\n",
    "        print(car.upper())\n",
    "    else:\n",
    "        print(car.title())"
   ]
  },
  {
   "cell_type": "markdown",
   "id": "c0c86472",
   "metadata": {},
   "source": [
    "# 5.2.1 检查是否相等"
   ]
  },
  {
   "cell_type": "code",
   "execution_count": 2,
   "id": "1f93b71a",
   "metadata": {},
   "outputs": [
    {
     "data": {
      "text/plain": [
       "True"
      ]
     },
     "execution_count": 2,
     "metadata": {},
     "output_type": "execute_result"
    }
   ],
   "source": [
    "car = 'bmw'\n",
    "car =='bmw'"
   ]
  },
  {
   "cell_type": "code",
   "execution_count": 3,
   "id": "e710a46d",
   "metadata": {},
   "outputs": [
    {
     "data": {
      "text/plain": [
       "False"
      ]
     },
     "execution_count": 3,
     "metadata": {},
     "output_type": "execute_result"
    }
   ],
   "source": [
    "car = 'audi'\n",
    "car =='bmw'"
   ]
  },
  {
   "cell_type": "markdown",
   "id": "711cbd03",
   "metadata": {},
   "source": [
    "# 5.2.2 如何在检查是否相等时忽略大小写"
   ]
  },
  {
   "cell_type": "code",
   "execution_count": 5,
   "id": "46ee04bf",
   "metadata": {},
   "outputs": [
    {
     "data": {
      "text/plain": [
       "False"
      ]
     },
     "execution_count": 5,
     "metadata": {},
     "output_type": "execute_result"
    }
   ],
   "source": [
    "car ='Audi'\n",
    "car =='audi'"
   ]
  },
  {
   "cell_type": "code",
   "execution_count": 6,
   "id": "8d13e30d",
   "metadata": {},
   "outputs": [
    {
     "data": {
      "text/plain": [
       "True"
      ]
     },
     "execution_count": 6,
     "metadata": {},
     "output_type": "execute_result"
    }
   ],
   "source": [
    "car ='Audi'\n",
    "car .lower()=='audi'"
   ]
  },
  {
   "cell_type": "code",
   "execution_count": 7,
   "id": "5ef07e37",
   "metadata": {},
   "outputs": [
    {
     "data": {
      "text/plain": [
       "'Audi'"
      ]
     },
     "execution_count": 7,
     "metadata": {},
     "output_type": "execute_result"
    }
   ],
   "source": [
    "car ='Audi'\n",
    "car .lower()=='audi'\n",
    "car"
   ]
  },
  {
   "cell_type": "markdown",
   "id": "4833c407",
   "metadata": {},
   "source": [
    "# 5.2.3 检查是否不等"
   ]
  },
  {
   "cell_type": "code",
   "execution_count": 9,
   "id": "9af30644",
   "metadata": {},
   "outputs": [
    {
     "name": "stdout",
     "output_type": "stream",
     "text": [
      "Hold the anchovies!\n"
     ]
    }
   ],
   "source": [
    "requested_topping = 'mushrooms'\n",
    "if requested_topping != 'anchovices':\n",
    "    print(\"Hold the anchovies!\")"
   ]
  },
  {
   "cell_type": "markdown",
   "id": "7d65b632",
   "metadata": {},
   "source": [
    "# 5.2.4 数值比较"
   ]
  },
  {
   "cell_type": "code",
   "execution_count": 10,
   "id": "eea45426",
   "metadata": {},
   "outputs": [
    {
     "data": {
      "text/plain": [
       "True"
      ]
     },
     "execution_count": 10,
     "metadata": {},
     "output_type": "execute_result"
    }
   ],
   "source": [
    "age = 18\n",
    "age ==18"
   ]
  },
  {
   "cell_type": "code",
   "execution_count": 11,
   "id": "89c6485f",
   "metadata": {},
   "outputs": [
    {
     "name": "stdout",
     "output_type": "stream",
     "text": [
      "That is not the correct answer. Please try again!\n"
     ]
    }
   ],
   "source": [
    "answer = 17\n",
    "if answer != 42:\n",
    "    print(\"That is not the correct answer. Please try again!\")"
   ]
  },
  {
   "cell_type": "code",
   "execution_count": 12,
   "id": "80db3102",
   "metadata": {},
   "outputs": [
    {
     "data": {
      "text/plain": [
       "True"
      ]
     },
     "execution_count": 12,
     "metadata": {},
     "output_type": "execute_result"
    }
   ],
   "source": [
    "age = 19\n",
    "age <21"
   ]
  },
  {
   "cell_type": "code",
   "execution_count": 13,
   "id": "0ed921b4",
   "metadata": {},
   "outputs": [
    {
     "data": {
      "text/plain": [
       "True"
      ]
     },
     "execution_count": 13,
     "metadata": {},
     "output_type": "execute_result"
    }
   ],
   "source": [
    "age = 19\n",
    "age <=21"
   ]
  },
  {
   "cell_type": "code",
   "execution_count": 14,
   "id": "c21d2bdc",
   "metadata": {},
   "outputs": [
    {
     "data": {
      "text/plain": [
       "False"
      ]
     },
     "execution_count": 14,
     "metadata": {},
     "output_type": "execute_result"
    }
   ],
   "source": [
    "age = 19\n",
    "age >21"
   ]
  },
  {
   "cell_type": "code",
   "execution_count": 15,
   "id": "a1730265",
   "metadata": {},
   "outputs": [
    {
     "data": {
      "text/plain": [
       "False"
      ]
     },
     "execution_count": 15,
     "metadata": {},
     "output_type": "execute_result"
    }
   ],
   "source": [
    "age = 19\n",
    "age >=21"
   ]
  },
  {
   "cell_type": "markdown",
   "id": "9e8912b1",
   "metadata": {},
   "source": [
    "# 5.2.5 检查多个条件"
   ]
  },
  {
   "cell_type": "code",
   "execution_count": 16,
   "id": "a1171919",
   "metadata": {},
   "outputs": [
    {
     "data": {
      "text/plain": [
       "False"
      ]
     },
     "execution_count": 16,
     "metadata": {},
     "output_type": "execute_result"
    }
   ],
   "source": [
    "age_0 = 22\n",
    "age_1 = 18\n",
    "age_0>=21 and age_1>= 21"
   ]
  },
  {
   "cell_type": "code",
   "execution_count": 17,
   "id": "24799284",
   "metadata": {},
   "outputs": [
    {
     "data": {
      "text/plain": [
       "True"
      ]
     },
     "execution_count": 17,
     "metadata": {},
     "output_type": "execute_result"
    }
   ],
   "source": [
    "age_0 = 22\n",
    "age_1 = 22\n",
    "age_0>=21 and age_1>= 21"
   ]
  },
  {
   "cell_type": "code",
   "execution_count": 18,
   "id": "9d042c6c",
   "metadata": {},
   "outputs": [
    {
     "data": {
      "text/plain": [
       "True"
      ]
     },
     "execution_count": 18,
     "metadata": {},
     "output_type": "execute_result"
    }
   ],
   "source": [
    "age_0 = 22\n",
    "age_1 = 18\n",
    "age_0>=21 or age_1>= 21"
   ]
  },
  {
   "cell_type": "code",
   "execution_count": 19,
   "id": "09d0f08e",
   "metadata": {},
   "outputs": [
    {
     "data": {
      "text/plain": [
       "False"
      ]
     },
     "execution_count": 19,
     "metadata": {},
     "output_type": "execute_result"
    }
   ],
   "source": [
    "age_0 = 18\n",
    "age_1 = 18\n",
    "age_0>=21 or age_1>= 21"
   ]
  },
  {
   "cell_type": "markdown",
   "id": "ae4788fa",
   "metadata": {},
   "source": [
    "# 5.2.6 检查特定的值是否在列表中"
   ]
  },
  {
   "cell_type": "code",
   "execution_count": 1,
   "id": "c832aa6b",
   "metadata": {},
   "outputs": [
    {
     "data": {
      "text/plain": [
       "True"
      ]
     },
     "execution_count": 1,
     "metadata": {},
     "output_type": "execute_result"
    }
   ],
   "source": [
    "requested_toppings = ['mushrooms','onions','pineapple']\n",
    "'mushrooms' in requested_toppings"
   ]
  },
  {
   "cell_type": "code",
   "execution_count": 2,
   "id": "8f2b2040",
   "metadata": {},
   "outputs": [
    {
     "data": {
      "text/plain": [
       "False"
      ]
     },
     "execution_count": 2,
     "metadata": {},
     "output_type": "execute_result"
    }
   ],
   "source": [
    "requested_toppings = ['mushrooms','onions','pineapple']\n",
    "'pepperoni' in requested_toppings"
   ]
  },
  {
   "cell_type": "markdown",
   "id": "905189c0",
   "metadata": {},
   "source": [
    "# 5.2.7 检查特定的值是否不在列表中"
   ]
  },
  {
   "cell_type": "code",
   "execution_count": 3,
   "id": "c56b313e",
   "metadata": {},
   "outputs": [
    {
     "name": "stdout",
     "output_type": "stream",
     "text": [
      "Marie, you can post a response if you wish.\n"
     ]
    }
   ],
   "source": [
    "banned_users = ['andrew','carolina','david']\n",
    "user = 'marie'\n",
    "if user not in banned_users:\n",
    "    print(f\"{user.title()}, you can post a response if you wish.\")"
   ]
  },
  {
   "cell_type": "markdown",
   "id": "a1695d5b",
   "metadata": {},
   "source": [
    "# 5.2.8 布尔表达式"
   ]
  },
  {
   "cell_type": "code",
   "execution_count": 4,
   "id": "0d4ceed3",
   "metadata": {},
   "outputs": [],
   "source": [
    "game_active = True\n",
    "can_edit = False"
   ]
  },
  {
   "cell_type": "markdown",
   "id": "4519f83a",
   "metadata": {},
   "source": [
    "# 5.3.1 简单的if语句"
   ]
  },
  {
   "cell_type": "code",
   "execution_count": 10,
   "id": "7e0259ea",
   "metadata": {},
   "outputs": [
    {
     "name": "stdout",
     "output_type": "stream",
     "text": [
      "You are old enough to vote!\n"
     ]
    }
   ],
   "source": [
    "age = 19\n",
    "if age >= 18:\n",
    "        print(\"You are old enough to vote!\")"
   ]
  },
  {
   "cell_type": "code",
   "execution_count": 11,
   "id": "a703e537",
   "metadata": {},
   "outputs": [
    {
     "name": "stdout",
     "output_type": "stream",
     "text": [
      "You are old enough to vote!\n",
      "Have you registered to vote yet?\n"
     ]
    }
   ],
   "source": [
    "age = 19\n",
    "if age >= 18:\n",
    "        print(\"You are old enough to vote!\")\n",
    "        print(\"Have you registered to vote yet?\")"
   ]
  },
  {
   "cell_type": "markdown",
   "id": "b60ab0bc",
   "metadata": {},
   "source": [
    "# 5.3.2 if-else语句"
   ]
  },
  {
   "cell_type": "code",
   "execution_count": 14,
   "id": "812d4daa",
   "metadata": {},
   "outputs": [
    {
     "name": "stdout",
     "output_type": "stream",
     "text": [
      "Sorry, you are too young to vote.\n",
      "Please register to vote as soon as you turn 18!\n"
     ]
    }
   ],
   "source": [
    "age = 17\n",
    "if age >= 18:\n",
    "    print(\"You are old enough to vote!\")\n",
    "    print(\"Have you registered to vote yet?\")\n",
    "else:\n",
    "    print(\"Sorry, you are too young to vote.\")\n",
    "    print(\"Please register to vote as soon as you turn 18!\")"
   ]
  },
  {
   "cell_type": "markdown",
   "id": "d2c1ede4",
   "metadata": {},
   "source": [
    "# 5.3.3 if-elif-else语句"
   ]
  },
  {
   "cell_type": "code",
   "execution_count": 1,
   "id": "0cec10d9",
   "metadata": {},
   "outputs": [
    {
     "name": "stdout",
     "output_type": "stream",
     "text": [
      "Your admission cost is ＄25.\n"
     ]
    }
   ],
   "source": [
    "age = 12\n",
    "if age < 4:\n",
    "    print(\"Your admission cost is ＄0.\")\n",
    "elif age <18:\n",
    "    print(\"Your admission cost is ＄25.\")\n",
    "else:\n",
    "    print(\"Your admission cost is ＄40.\")"
   ]
  },
  {
   "cell_type": "code",
   "execution_count": 2,
   "id": "ca623409",
   "metadata": {},
   "outputs": [
    {
     "name": "stdout",
     "output_type": "stream",
     "text": [
      "Your admission cost is ＄25.\n"
     ]
    }
   ],
   "source": [
    "age = 12\n",
    "if age<4:\n",
    "    price = 0\n",
    "elif age<18:\n",
    "    price = 25\n",
    "else:\n",
    "    price = 40\n",
    "print(f\"Your admission cost is ＄{price}.\")"
   ]
  },
  {
   "cell_type": "markdown",
   "id": "991d7476",
   "metadata": {},
   "source": [
    "# 5.3.4 使用多个elif代码块"
   ]
  },
  {
   "cell_type": "code",
   "execution_count": 3,
   "id": "1518f7ee",
   "metadata": {},
   "outputs": [
    {
     "name": "stdout",
     "output_type": "stream",
     "text": [
      "Your admission cost is ＄25.\n"
     ]
    }
   ],
   "source": [
    "age = 12\n",
    "if age<4:\n",
    "    price = 0\n",
    "elif age<18:\n",
    "    price = 25\n",
    "elif age < 65:\n",
    "    price = 40\n",
    "else:\n",
    "    price = 20\n",
    "print(f\"Your admission cost is ＄{price}.\")"
   ]
  },
  {
   "cell_type": "code",
   "execution_count": 4,
   "id": "e69175df",
   "metadata": {},
   "outputs": [
    {
     "name": "stdout",
     "output_type": "stream",
     "text": [
      "Your admission cost is ＄20.\n"
     ]
    }
   ],
   "source": [
    "age = 70\n",
    "if age<4:\n",
    "    price = 0\n",
    "elif age<18:\n",
    "    price = 25\n",
    "elif age < 65:\n",
    "    price = 40\n",
    "else:\n",
    "    price = 20\n",
    "print(f\"Your admission cost is ＄{price}.\")"
   ]
  },
  {
   "cell_type": "markdown",
   "id": "19b56f63",
   "metadata": {},
   "source": [
    "# 5.3.5 省略else代码块"
   ]
  },
  {
   "cell_type": "code",
   "execution_count": 5,
   "id": "5aa80482",
   "metadata": {},
   "outputs": [
    {
     "name": "stdout",
     "output_type": "stream",
     "text": [
      "Your admission cost is ＄25.\n"
     ]
    }
   ],
   "source": [
    "age = 12\n",
    "if age<4:\n",
    "    price = 0\n",
    "elif age<18:\n",
    "    price = 25\n",
    "elif age < 65:\n",
    "    price = 40\n",
    "elif age >=65:\n",
    "    price = 20\n",
    "print(f\"Your admission cost is ＄{price}.\")"
   ]
  },
  {
   "cell_type": "markdown",
   "id": "cfdaec61",
   "metadata": {},
   "source": [
    "# 5.3.6 测试多个条件"
   ]
  },
  {
   "cell_type": "code",
   "execution_count": 6,
   "id": "dea80ca9",
   "metadata": {},
   "outputs": [
    {
     "name": "stdout",
     "output_type": "stream",
     "text": [
      "Adding mushrooms.\n",
      "Adding extra cheese.\n",
      "\n",
      "Finished making your pizza!\n"
     ]
    }
   ],
   "source": [
    "requested_toppings = ['mushrooms','extra cheese']\n",
    "if 'mushrooms' in requested_toppings:\n",
    "    print(\"Adding mushrooms.\")\n",
    "if 'pepperoni' in requested_toppings:\n",
    "    print(\"Adding pepperoni.\")\n",
    "if 'extra cheese' in requested_toppings:\n",
    "    print(\"Adding extra cheese.\")\n",
    "\n",
    "print(\"\\nFinished making your pizza!\")"
   ]
  },
  {
   "cell_type": "code",
   "execution_count": 7,
   "id": "3d1fd356",
   "metadata": {},
   "outputs": [
    {
     "name": "stdout",
     "output_type": "stream",
     "text": [
      "Adding mushrooms.\n",
      "\n",
      "Finished making your pizza!\n"
     ]
    }
   ],
   "source": [
    "requested_toppings = ['mushrooms','extra cheese']\n",
    "if 'mushrooms' in requested_toppings:\n",
    "    print(\"Adding mushrooms.\")\n",
    "elif 'pepperoni' in requested_toppings:\n",
    "    print(\"Adding pepperoni.\")\n",
    "elif 'extra cheese' in requested_toppings:\n",
    "    print(\"Adding extra cheese.\")\n",
    "\n",
    "print(\"\\nFinished making your pizza!\")\n"
   ]
  },
  {
   "cell_type": "markdown",
   "id": "8eb69711",
   "metadata": {},
   "source": [
    "# 5.4 使用if语句处理列表"
   ]
  },
  {
   "cell_type": "markdown",
   "id": "2226464c",
   "metadata": {},
   "source": [
    "# 5.4.1 检查特殊元素"
   ]
  },
  {
   "cell_type": "code",
   "execution_count": 2,
   "id": "a7e77118",
   "metadata": {},
   "outputs": [
    {
     "name": "stdout",
     "output_type": "stream",
     "text": [
      "Adding mushrooms.\n",
      "Adding green peppers.\n",
      "Adding extra cheese.\n",
      "\n",
      "Finished making your pizza!\n"
     ]
    }
   ],
   "source": [
    "requested_toppings = ['mushrooms','green peppers','extra cheese']\n",
    "\n",
    "for requested_topping in requested_toppings:\n",
    "    print(f\"Adding {requested_topping}.\")\n",
    "\n",
    "print(\"\\nFinished making your pizza!\")"
   ]
  },
  {
   "cell_type": "code",
   "execution_count": 3,
   "id": "b8647a61",
   "metadata": {},
   "outputs": [
    {
     "name": "stdout",
     "output_type": "stream",
     "text": [
      "Adding mushrooms.\n",
      "Sorry, we are out of green peppers right now.\n",
      "Adding extra cheese.\n",
      "\n",
      "Finished making your pizza!\n"
     ]
    }
   ],
   "source": [
    "requested_toppings = ['mushrooms','green peppers','extra cheese']\n",
    "\n",
    "for requested_topping in requested_toppings:\n",
    "    if requested_topping == 'green peppers':\n",
    "        print(\"Sorry, we are out of green peppers right now.\")\n",
    "    else:\n",
    "        print(f\"Adding {requested_topping}.\")\n",
    "\n",
    "print(\"\\nFinished making your pizza!\")\n"
   ]
  },
  {
   "cell_type": "markdown",
   "id": "dc269fd8",
   "metadata": {},
   "source": [
    "# 5.4.2 确定列表非空"
   ]
  },
  {
   "cell_type": "code",
   "execution_count": 4,
   "id": "84c7ec98",
   "metadata": {},
   "outputs": [
    {
     "name": "stdout",
     "output_type": "stream",
     "text": [
      "Are you sure you want a plain pizza?\n"
     ]
    }
   ],
   "source": [
    "requested_toppings = []\n",
    "\n",
    "if requested_toppings:\n",
    "    for requested_topping in requested_toppings:\n",
    "        print(f\"Adding {requested_topping}.\")\n",
    "    print(\"\\nFinished making your pizza!\")\n",
    "else:\n",
    "    print(\"Are you sure you want a plain pizza?\")"
   ]
  },
  {
   "cell_type": "markdown",
   "id": "f150c824",
   "metadata": {},
   "source": [
    "# 5.4.3 使用多个列表"
   ]
  },
  {
   "cell_type": "code",
   "execution_count": 7,
   "id": "a3c93f3c",
   "metadata": {},
   "outputs": [
    {
     "name": "stdout",
     "output_type": "stream",
     "text": [
      "Adding mushrooms.\n",
      "Sorry, we don't have french fries.\n",
      "Adding extra cheese.\n",
      "\n",
      "FInished making your pizza!\n"
     ]
    }
   ],
   "source": [
    "available_toppings = ['mushrooms','olives','green peppers',\n",
    "                      'pepperoni','pineapple','extra cheese']\n",
    "\n",
    "requested_toppings = ['mushrooms','french fries','extra cheese']\n",
    "\n",
    "for requested_topping in requested_toppings:\n",
    "    if requested_topping in available_toppings:\n",
    "        print(f\"Adding {requested_topping}.\")\n",
    "    else:\n",
    "        print(f\"Sorry, we don't have {requested_topping}.\")\n",
    "\n",
    "print(\"\\nFInished making your pizza!\")"
   ]
  }
 ],
 "metadata": {
  "kernelspec": {
   "display_name": "Python 3 (ipykernel)",
   "language": "python",
   "name": "python3"
  },
  "language_info": {
   "codemirror_mode": {
    "name": "ipython",
    "version": 3
   },
   "file_extension": ".py",
   "mimetype": "text/x-python",
   "name": "python",
   "nbconvert_exporter": "python",
   "pygments_lexer": "ipython3",
   "version": "3.11.5"
  }
 },
 "nbformat": 4,
 "nbformat_minor": 5
}
