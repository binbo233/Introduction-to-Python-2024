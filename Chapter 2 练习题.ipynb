{
 "cells": [
  {
   "cell_type": "markdown",
   "id": "2c35b2ef",
   "metadata": {},
   "source": [
    "# 练习2.1"
   ]
  },
  {
   "cell_type": "code",
   "execution_count": 1,
   "id": "7055c3f2",
   "metadata": {},
   "outputs": [
    {
     "name": "stdout",
     "output_type": "stream",
     "text": [
      "Hello World!\n"
     ]
    }
   ],
   "source": [
    "message = \"Hello World!\"\n",
    "print(message)"
   ]
  },
  {
   "cell_type": "markdown",
   "id": "db17af6c",
   "metadata": {},
   "source": [
    "# 练习 2.2"
   ]
  },
  {
   "cell_type": "code",
   "execution_count": 2,
   "id": "b2b13573",
   "metadata": {},
   "outputs": [
    {
     "name": "stdout",
     "output_type": "stream",
     "text": [
      "Hello World!\n",
      "Hello Python World!\n"
     ]
    }
   ],
   "source": [
    "message = \"Hello World!\"\n",
    "print(message)\n",
    "\n",
    "message = \"Hello Python World!\"\n",
    "print(message)"
   ]
  },
  {
   "cell_type": "markdown",
   "id": "891e6305",
   "metadata": {},
   "source": [
    "# 练习2.3"
   ]
  },
  {
   "cell_type": "code",
   "execution_count": 3,
   "id": "347e8987",
   "metadata": {},
   "outputs": [
    {
     "name": "stdout",
     "output_type": "stream",
     "text": [
      "Hello Eric, would you like to learn some Python today?\n"
     ]
    }
   ],
   "source": [
    "name = \"Eric\"\n",
    "print(f\"Hello {name}, would you like to learn some Python today?\")"
   ]
  },
  {
   "cell_type": "markdown",
   "id": "b55960bc",
   "metadata": {},
   "source": [
    "#  练习2.4"
   ]
  },
  {
   "cell_type": "code",
   "execution_count": 4,
   "id": "843c353c",
   "metadata": {},
   "outputs": [
    {
     "name": "stdout",
     "output_type": "stream",
     "text": [
      "gong zi qi\n",
      "GONG ZI QI\n",
      "Gong Zi Qi\n"
     ]
    }
   ],
   "source": [
    "name = \"GONG Zi Qi\"\n",
    "print(name.lower())\n",
    "print(name.upper())\n",
    "print(name.title())"
   ]
  },
  {
   "cell_type": "markdown",
   "id": "a0c6ae7c",
   "metadata": {},
   "source": [
    "# 练习2.5"
   ]
  },
  {
   "cell_type": "code",
   "execution_count": 5,
   "id": "cbd9a34e",
   "metadata": {},
   "outputs": [
    {
     "name": "stdout",
     "output_type": "stream",
     "text": [
      "Descartes once said, \"I think therefore I am.\"\n"
     ]
    }
   ],
   "source": [
    "print('Descartes once said, \"I think therefore I am.\"')"
   ]
  },
  {
   "cell_type": "markdown",
   "id": "ea5a7792",
   "metadata": {},
   "source": [
    "# 练习2.6"
   ]
  },
  {
   "cell_type": "code",
   "execution_count": 6,
   "id": "3f634321",
   "metadata": {},
   "outputs": [
    {
     "name": "stdout",
     "output_type": "stream",
     "text": [
      "Descartes once said, \"I think therefore I am.\"\n"
     ]
    }
   ],
   "source": [
    "famous_person = \"Descartes\"\n",
    "message = '\"I think therefore I am.\"'\n",
    "print(f\"{famous_person} once said, {message}\")"
   ]
  },
  {
   "cell_type": "markdown",
   "id": "c0229ea0",
   "metadata": {},
   "source": [
    "# 练习2.7"
   ]
  },
  {
   "cell_type": "code",
   "execution_count": 7,
   "id": "3a190c99",
   "metadata": {},
   "outputs": [
    {
     "data": {
      "text/plain": [
       "' Descartes '"
      ]
     },
     "execution_count": 7,
     "metadata": {},
     "output_type": "execute_result"
    }
   ],
   "source": [
    "name = ' Descartes '\n",
    "name"
   ]
  },
  {
   "cell_type": "code",
   "execution_count": 8,
   "id": "00dc3206",
   "metadata": {},
   "outputs": [
    {
     "data": {
      "text/plain": [
       "'Descartes '"
      ]
     },
     "execution_count": 8,
     "metadata": {},
     "output_type": "execute_result"
    }
   ],
   "source": [
    "name = ' Descartes '\n",
    "name.lstrip()"
   ]
  },
  {
   "cell_type": "code",
   "execution_count": 9,
   "id": "db2ffe1d",
   "metadata": {},
   "outputs": [
    {
     "data": {
      "text/plain": [
       "' Descartes'"
      ]
     },
     "execution_count": 9,
     "metadata": {},
     "output_type": "execute_result"
    }
   ],
   "source": [
    "name = ' Descartes '\n",
    "name.rstrip()"
   ]
  },
  {
   "cell_type": "code",
   "execution_count": 10,
   "id": "0cf90098",
   "metadata": {},
   "outputs": [
    {
     "data": {
      "text/plain": [
       "'Descartes'"
      ]
     },
     "execution_count": 10,
     "metadata": {},
     "output_type": "execute_result"
    }
   ],
   "source": [
    "name = ' Descartes '\n",
    "name.strip()"
   ]
  },
  {
   "cell_type": "markdown",
   "id": "185dc45e",
   "metadata": {},
   "source": [
    "# 练习2.8"
   ]
  },
  {
   "cell_type": "code",
   "execution_count": 13,
   "id": "12a9be5b",
   "metadata": {},
   "outputs": [
    {
     "data": {
      "text/plain": [
       "'python_notes'"
      ]
     },
     "execution_count": 13,
     "metadata": {},
     "output_type": "execute_result"
    }
   ],
   "source": [
    "filename = 'python_notes.txt'\n",
    "filename.removesuffix('.txt')"
   ]
  },
  {
   "cell_type": "markdown",
   "id": "8c0b0cd6",
   "metadata": {},
   "source": [
    "# 练习2.9"
   ]
  },
  {
   "cell_type": "code",
   "execution_count": 14,
   "id": "04e76f83",
   "metadata": {},
   "outputs": [
    {
     "name": "stdout",
     "output_type": "stream",
     "text": [
      "8\n",
      "8\n",
      "8\n",
      "8.0\n"
     ]
    }
   ],
   "source": [
    "print(3 + 5)\n",
    "print(10 - 2)\n",
    "print(2 * 4)\n",
    "print(16 / 2)"
   ]
  },
  {
   "cell_type": "markdown",
   "id": "b6b2407f",
   "metadata": {},
   "source": [
    "# 练习2.10"
   ]
  },
  {
   "cell_type": "code",
   "execution_count": 17,
   "id": "502e4b1c",
   "metadata": {},
   "outputs": [
    {
     "name": "stdout",
     "output_type": "stream",
     "text": [
      "My favorite nmber is 6.\n"
     ]
    }
   ],
   "source": [
    "number = 6\n",
    "print(f\"My favorite nmber is {number}.\")"
   ]
  },
  {
   "cell_type": "markdown",
   "id": "e7dd6681",
   "metadata": {},
   "source": [
    "# 练习2.11"
   ]
  },
  {
   "cell_type": "code",
   "execution_count": 18,
   "id": "d2fa5329",
   "metadata": {},
   "outputs": [
    {
     "name": "stdout",
     "output_type": "stream",
     "text": [
      "Descartes once said, \"I think therefore I am.\"\n",
      "My favorite nmber is 6.\n"
     ]
    }
   ],
   "source": [
    "#打印一句我喜欢的名言。\n",
    "print('Descartes once said, \"I think therefore I am.\"')\n",
    "\n",
    "#打印我喜欢的数字\n",
    "number = 6\n",
    "print(f\"My favorite nmber is {number}.\")"
   ]
  },
  {
   "cell_type": "markdown",
   "id": "ed0c8813",
   "metadata": {},
   "source": [
    "# 练习2.12"
   ]
  },
  {
   "cell_type": "code",
   "execution_count": 19,
   "id": "7360a0e4",
   "metadata": {},
   "outputs": [
    {
     "name": "stdout",
     "output_type": "stream",
     "text": [
      "The Zen of Python, by Tim Peters\n",
      "\n",
      "Beautiful is better than ugly.\n",
      "Explicit is better than implicit.\n",
      "Simple is better than complex.\n",
      "Complex is better than complicated.\n",
      "Flat is better than nested.\n",
      "Sparse is better than dense.\n",
      "Readability counts.\n",
      "Special cases aren't special enough to break the rules.\n",
      "Although practicality beats purity.\n",
      "Errors should never pass silently.\n",
      "Unless explicitly silenced.\n",
      "In the face of ambiguity, refuse the temptation to guess.\n",
      "There should be one-- and preferably only one --obvious way to do it.\n",
      "Although that way may not be obvious at first unless you're Dutch.\n",
      "Now is better than never.\n",
      "Although never is often better than *right* now.\n",
      "If the implementation is hard to explain, it's a bad idea.\n",
      "If the implementation is easy to explain, it may be a good idea.\n",
      "Namespaces are one honking great idea -- let's do more of those!\n"
     ]
    }
   ],
   "source": [
    "import this"
   ]
  }
 ],
 "metadata": {
  "kernelspec": {
   "display_name": "Python 3 (ipykernel)",
   "language": "python",
   "name": "python3"
  },
  "language_info": {
   "codemirror_mode": {
    "name": "ipython",
    "version": 3
   },
   "file_extension": ".py",
   "mimetype": "text/x-python",
   "name": "python",
   "nbconvert_exporter": "python",
   "pygments_lexer": "ipython3",
   "version": "3.11.5"
  }
 },
 "nbformat": 4,
 "nbformat_minor": 5
}
