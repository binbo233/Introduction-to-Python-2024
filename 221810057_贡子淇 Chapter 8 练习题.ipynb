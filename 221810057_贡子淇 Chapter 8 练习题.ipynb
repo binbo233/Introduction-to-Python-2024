{
 "cells": [
  {
   "cell_type": "markdown",
   "id": "ebd8864d",
   "metadata": {},
   "source": [
    "# 练习 8.1"
   ]
  },
  {
   "cell_type": "code",
   "execution_count": 1,
   "id": "822fb7b8",
   "metadata": {},
   "outputs": [
    {
     "name": "stdout",
     "output_type": "stream",
     "text": [
      "The theme of this chapter is function.\n"
     ]
    }
   ],
   "source": [
    "def display_message():\n",
    "    \"\"\"指出本章主题\"\"\"\n",
    "    print(\"The theme of this chapter is function.\")\n",
    "    \n",
    "display_message()"
   ]
  },
  {
   "cell_type": "markdown",
   "id": "67abcfa0",
   "metadata": {},
   "source": [
    "# 练习 8.2"
   ]
  },
  {
   "cell_type": "code",
   "execution_count": 3,
   "id": "131d078e",
   "metadata": {},
   "outputs": [
    {
     "name": "stdout",
     "output_type": "stream",
     "text": [
      "One of my favorite books is Alice in Wonderland.\n"
     ]
    }
   ],
   "source": [
    "def favorite_book(title):\n",
    "    \"\"\"喜欢的书\"\"\"\n",
    "    print(f\"One of my favorite books is {title}.\")\n",
    "    \n",
    "favorite_book(\"Alice in Wonderland\")"
   ]
  },
  {
   "cell_type": "markdown",
   "id": "127e52af",
   "metadata": {},
   "source": [
    "# 练习 8.3"
   ]
  },
  {
   "cell_type": "code",
   "execution_count": 1,
   "id": "eeb6ac81",
   "metadata": {},
   "outputs": [
    {
     "name": "stdout",
     "output_type": "stream",
     "text": [
      "The T-shirt's size is M and the letter on it is Hi.\n"
     ]
    }
   ],
   "source": [
    "def make_shirt(size, letter):\n",
    "    \"\"\"描述衣服的尺码和字样\"\"\"\n",
    "    print(f\"The T-shirt's size is {size} and the letter on it is {letter}.\")\n",
    "\n",
    "make_shirt(\"M\", \"Hi\")"
   ]
  },
  {
   "cell_type": "markdown",
   "id": "ee0fa936",
   "metadata": {},
   "source": [
    "# 练习 8.4"
   ]
  },
  {
   "cell_type": "code",
   "execution_count": 2,
   "id": "355f5ab9",
   "metadata": {},
   "outputs": [
    {
     "name": "stdout",
     "output_type": "stream",
     "text": [
      "The T-shirt's size is Big and the letter on it is I love Python.\n",
      "The T-shirt's size is Big and the letter on it is Hi.\n"
     ]
    }
   ],
   "source": [
    "def make_shirt(size, letter = \"I love Python\"):\n",
    "    \"\"\"描述衣服的尺码和字样\"\"\"\n",
    "    print(f\"The T-shirt's size is {size} and the letter on it is {letter}.\")\n",
    "\n",
    "make_shirt(\"Big\")\n",
    "make_shirt(\"Big\", letter = \"Hi\")"
   ]
  },
  {
   "cell_type": "markdown",
   "id": "3fc1ad2f",
   "metadata": {},
   "source": [
    "# 练习 8.5"
   ]
  },
  {
   "cell_type": "code",
   "execution_count": 3,
   "id": "69a3f1b7",
   "metadata": {},
   "outputs": [
    {
     "name": "stdout",
     "output_type": "stream",
     "text": [
      "Beijing is in China.\n",
      "Nanjing is in China.\n",
      "New York is in America.\n"
     ]
    }
   ],
   "source": [
    "def describe_city(name, nation = \"China\"):\n",
    "    \"\"\"描述城市名字及其所属国家\"\"\"\n",
    "    print(f\"{name} is in {nation}.\")\n",
    "    \n",
    "describe_city(\"Beijing\")\n",
    "describe_city(\"Nanjing\")\n",
    "describe_city(\"New York\", nation = \"America\")"
   ]
  },
  {
   "cell_type": "markdown",
   "id": "7086ac61",
   "metadata": {},
   "source": [
    "# 练习 8.6"
   ]
  },
  {
   "cell_type": "code",
   "execution_count": 7,
   "id": "32def317",
   "metadata": {},
   "outputs": [
    {
     "name": "stdout",
     "output_type": "stream",
     "text": [
      "\"Beijing\", \"China\"\n",
      "\"Nanjing\", \"China\"\n",
      "\"New York\", \"America\"\n"
     ]
    }
   ],
   "source": [
    "def city_country(city, country):\n",
    "    \"\"\"返回城市的名称以及国家\"\"\"\n",
    "    message = f'\"{city}\", \"{country}\"'\n",
    "    return message.title()\n",
    "\n",
    "description = city_country(\"Beijing\", \"China\" )\n",
    "print(description)\n",
    "description = city_country(\"Nanjing\", \"China\" )\n",
    "print(description)\n",
    "description = city_country(\"New York\", \"America\" )\n",
    "print(description)"
   ]
  },
  {
   "cell_type": "markdown",
   "id": "3c166db2",
   "metadata": {},
   "source": [
    "# 练习 8.7"
   ]
  },
  {
   "cell_type": "code",
   "execution_count": 11,
   "id": "8afe8acb",
   "metadata": {},
   "outputs": [
    {
     "name": "stdout",
     "output_type": "stream",
     "text": [
      "{'singer_name': 'HoYo_Mix', 'album_name': 'Genshin'}\n",
      "{'singer_name': 'HoYo_Mix', 'album_name': 'Honkai_Starrail'}\n",
      "{'singer_name': 'Jay', 'album_name': 'Fantasy', 'number': '10'}\n"
     ]
    }
   ],
   "source": [
    "def make_album(singer, album, number = None):\n",
    "    \"\"\"返回包含歌手名和专辑名的字典\"\"\"\n",
    "    info = {'singer_name': singer, 'album_name': album}\n",
    "    if number:\n",
    "        info['number'] = number\n",
    "        \n",
    "    return info\n",
    "\n",
    "infomation = make_album(\"HoYo_Mix\", \"Genshin\")\n",
    "print(infomation)\n",
    "infomation = make_album(\"HoYo_Mix\", \"Honkai_Starrail\")\n",
    "print(infomation)\n",
    "infomation = make_album(\"Jay\", \"Fantasy\", \"10\")\n",
    "print(infomation)"
   ]
  },
  {
   "cell_type": "markdown",
   "id": "5c03f637",
   "metadata": {},
   "source": [
    "# 练习 8.8"
   ]
  },
  {
   "cell_type": "code",
   "execution_count": 19,
   "id": "a96f6b5c",
   "metadata": {},
   "outputs": [
    {
     "name": "stdout",
     "output_type": "stream",
     "text": [
      "\n",
      "Tell me one singer and his/her one album, and tell the number of songs in the album if you kown.\n",
      "Enter 'quit' if you don't want to tell about it. \n",
      "Enter the name of the singer.Jay\n",
      "Enter the name of the singer's album.Fantasy\n",
      "Enter the number of the songs in the album.10\n",
      "\n",
      "\n",
      "{'singer_name': 'Jay', 'album_name': 'Fantasy', 'number': '10'}\n",
      "\n",
      "Tell me one singer and his/her one album, and tell the number of songs in the album if you kown.\n",
      "Enter 'quit' if you don't want to tell about it. \n",
      "Enter the name of the singer.quit\n"
     ]
    }
   ],
   "source": [
    "def make_album(singer, album, number = None):\n",
    "    \"\"\"返回包含歌手名和专辑名的字典\"\"\"\n",
    "\n",
    "    info = {'singer_name': singer, 'album_name': album}\n",
    "    if number:\n",
    "        info['number'] = number\n",
    "        \n",
    "    return info\n",
    "\n",
    "while True:\n",
    "    print(\"\\nTell me one singer and his/her one album, and tell the number of songs in the album if you kown.\")\n",
    "    print(\"Enter 'quit' if you don't want to tell about it. \")\n",
    "    \n",
    "    singer = input(\"Enter the name of the singer.\")\n",
    "    if singer == 'quit':\n",
    "        break\n",
    "        \n",
    "    album = input(\"Enter the name of the singer's album.\")\n",
    "    if album == 'quit':\n",
    "        break\n",
    "    number = input(\"Enter the number of the songs in the album.\")\n",
    "    if number == 'quit':\n",
    "        break\n",
    "        \n",
    "         \n",
    "    infomation = make_album(singer, album, number)\n",
    "    print(f\"\\n\")\n",
    "    print(infomation)"
   ]
  },
  {
   "cell_type": "markdown",
   "id": "a22c504a",
   "metadata": {},
   "source": [
    "# 练习 8.9"
   ]
  },
  {
   "cell_type": "code",
   "execution_count": 2,
   "id": "5a36cc5b",
   "metadata": {},
   "outputs": [
    {
     "name": "stdout",
     "output_type": "stream",
     "text": [
      "Hi.\n",
      "How are you?\n",
      "Nice to meet you.\n"
     ]
    }
   ],
   "source": [
    "def show_messages(messages):\n",
    "    \"\"\"创建一个列表，打印列表中的每条文本消息\"\"\"\n",
    "    for message in messages:\n",
    "        print(message)\n",
    "        \n",
    "messages = ['Hi.', 'How are you?', 'Nice to meet you.']\n",
    "show_messages(messages)"
   ]
  },
  {
   "cell_type": "markdown",
   "id": "1d8990b1",
   "metadata": {},
   "source": [
    "# 练习 8.10"
   ]
  },
  {
   "cell_type": "code",
   "execution_count": 4,
   "id": "e4fb4f9b",
   "metadata": {},
   "outputs": [
    {
     "name": "stdout",
     "output_type": "stream",
     "text": [
      "Nice to meet you.\n",
      "How are you?\n",
      "Hi.\n",
      "\n",
      "Messages:\n",
      "[]\n",
      "\n",
      "Sent_messages:\n",
      "['Nice to meet you.', 'How are you?', 'Hi.']\n"
     ]
    }
   ],
   "source": [
    "def send_messages(messages, sent_messages):\n",
    "    \"\"\"发送消息并转移列表\"\"\"\n",
    "    while messages:\n",
    "        current_message = messages.pop()\n",
    "        print(current_message)\n",
    "        sent_messages.append(current_message)\n",
    "    \n",
    "    print(\"\\nMessages:\")\n",
    "    print(messages)\n",
    "    print(\"\\nSent_messages:\")\n",
    "    print(sent_messages)\n",
    "\n",
    "messages = ['Hi.', 'How are you?', 'Nice to meet you.']\n",
    "sent_messages = []\n",
    "\n",
    "send_messages(messages, sent_messages)"
   ]
  },
  {
   "cell_type": "markdown",
   "id": "b0d4ef1c",
   "metadata": {},
   "source": [
    "# 练习 8.11"
   ]
  },
  {
   "cell_type": "code",
   "execution_count": 6,
   "id": "417254fb",
   "metadata": {},
   "outputs": [
    {
     "name": "stdout",
     "output_type": "stream",
     "text": [
      "Nice to meet you.\n",
      "How are you?\n",
      "Hi.\n",
      "\n",
      "Messages:\n",
      "[]\n",
      "\n",
      "Sent_messages:\n",
      "['Nice to meet you.', 'How are you?', 'Hi.']\n",
      "\n",
      "Origin:\n",
      "\n",
      "Messages:\n",
      "['Hi.', 'How are you?', 'Nice to meet you.']\n",
      "\n",
      "Sent_messages:\n",
      "[]\n"
     ]
    }
   ],
   "source": [
    "def send_messages(messages, sent_messages):\n",
    "    \"\"\"发送消息并转移列表\"\"\"\n",
    "    while messages:\n",
    "        current_message = messages.pop()\n",
    "        print(current_message)\n",
    "        sent_messages.append(current_message)\n",
    "    \n",
    "    print(\"\\nMessages:\")\n",
    "    print(messages)\n",
    "    print(\"\\nSent_messages:\")\n",
    "    print(sent_messages)\n",
    "\n",
    "messages = ['Hi.', 'How are you?', 'Nice to meet you.']\n",
    "sent_messages = []\n",
    "\n",
    "send_messages(messages[:], sent_messages[:])\n",
    "\n",
    "print(\"\\nOrigin:\")\n",
    "print(\"\\nMessages:\")\n",
    "print(messages)\n",
    "print(\"\\nSent_messages:\")\n",
    "print(sent_messages)"
   ]
  },
  {
   "cell_type": "markdown",
   "id": "0e59b99d",
   "metadata": {},
   "source": [
    "# 练习 8.12"
   ]
  },
  {
   "cell_type": "code",
   "execution_count": 7,
   "id": "07ce4543",
   "metadata": {},
   "outputs": [
    {
     "name": "stdout",
     "output_type": "stream",
     "text": [
      "\n",
      "Making the sandwiches with the following topppings: \n",
      "-egg\n",
      "\n",
      "Making the sandwiches with the following topppings: \n",
      "-egg\n",
      "-bacon\n",
      "\n",
      "Making the sandwiches with the following topppings: \n",
      "-egg\n",
      "-bacon\n",
      "-tomato\n"
     ]
    }
   ],
   "source": [
    "def make_sandwiches(*toppings):\n",
    "    \"\"\"概述顾客点的三明治\"\"\"\n",
    "    print(\"\\nMaking the sandwiches with the following topppings: \")\n",
    "    for topping in toppings:\n",
    "        print(f\"-{topping}\")\n",
    "        \n",
    "make_sandwiches('egg')\n",
    "make_sandwiches('egg', 'bacon')\n",
    "make_sandwiches('egg', 'bacon', 'tomato')"
   ]
  },
  {
   "cell_type": "markdown",
   "id": "67970fde",
   "metadata": {},
   "source": [
    "# 练习 8.13"
   ]
  },
  {
   "cell_type": "code",
   "execution_count": 8,
   "id": "94569c34",
   "metadata": {},
   "outputs": [
    {
     "name": "stdout",
     "output_type": "stream",
     "text": [
      "{'location': 'Danyang', 'hobby': 'sing', 'first_name': 'Ziqi', 'last_name': 'Gong'}\n"
     ]
    }
   ],
   "source": [
    "def build_profile(first, last, **user_info):\n",
    "    \"\"\"创建一个字典，其中包含我们知道的有关用户的一切\"\"\"\n",
    "    user_info['first_name'] = first\n",
    "    user_info['last_name'] = last\n",
    "    return user_info\n",
    "\n",
    "user_profile = build_profile('Ziqi', 'Gong',\n",
    "                             location='Danyang',\n",
    "                             hobby='sing')\n",
    "print(user_profile)"
   ]
  },
  {
   "cell_type": "markdown",
   "id": "aaf0bcc4",
   "metadata": {},
   "source": [
    "# 练习 8.14"
   ]
  },
  {
   "cell_type": "code",
   "execution_count": 10,
   "id": "3c77f824",
   "metadata": {},
   "outputs": [
    {
     "name": "stdout",
     "output_type": "stream",
     "text": [
      "{'color': 'blue', 'tow_package': True, 'kind': 'subaru', 'place': 'outback'}\n"
     ]
    }
   ],
   "source": [
    "def make_car(kind, place, **car_info):\n",
    "    \"\"\"创建一个字典，其中包含车的信息\"\"\"\n",
    "    car_info['kind'] = kind\n",
    "    car_info['place'] = place\n",
    "    return car_info\n",
    "\n",
    "car = make_car('subaru', 'outback',\n",
    "               color = 'blue',\n",
    "               tow_package = True)\n",
    "print(car)"
   ]
  },
  {
   "cell_type": "markdown",
   "id": "173e6bd2",
   "metadata": {},
   "source": [
    "# 练习 8.15"
   ]
  },
  {
   "cell_type": "code",
   "execution_count": 12,
   "id": "6b92ed13",
   "metadata": {},
   "outputs": [
    {
     "name": "stdout",
     "output_type": "stream",
     "text": [
      "Printing model: dodecahedron\n",
      "Printing model: robot pendant\n",
      "Printing model: phone case\n",
      "\n",
      "The following models have been printed: \n",
      "dodecahedron\n",
      "robot pendant\n",
      "phone case\n"
     ]
    }
   ],
   "source": [
    "import printing_functions\n",
    "\n",
    "unprinted_designs = ['phone case', 'robot pendant', 'dodecahedron']\n",
    "completed_models = []\n",
    "\n",
    "printing_functions.print_models(unprinted_designs, completed_models)\n",
    "printing_functions.show_completed_models(completed_models)"
   ]
  },
  {
   "cell_type": "markdown",
   "id": "014e839e",
   "metadata": {},
   "source": [
    "# 练习 8.16"
   ]
  },
  {
   "cell_type": "code",
   "execution_count": 14,
   "id": "a3c79b20",
   "metadata": {},
   "outputs": [
    {
     "name": "stdout",
     "output_type": "stream",
     "text": [
      "\n",
      "Making a 16-inch pizza with the following toppings:\n",
      "-shrimp\n",
      "-cheese\n",
      "\n",
      "Making a 12-inch pizza with the following toppings:\n",
      "-shrimp\n",
      "-cheese\n",
      "\n",
      "Making a 16-inch pizza with the following toppings:\n",
      "-tomato\n",
      "-cheese\n",
      "\n",
      "Making a 16-inch pizza with the following toppings:\n",
      "-shrimp\n",
      "-pineapple\n",
      "\n",
      "Making a 12-inch pizza with the following toppings:\n",
      "-shrimp\n"
     ]
    }
   ],
   "source": [
    "import pizza\n",
    "pizza.make_pizza(16, 'shrimp','cheese')\n",
    "\n",
    "from pizza import make_pizza\n",
    "make_pizza(12, 'shrimp','cheese')\n",
    "\n",
    "from pizza import make_pizza as mp\n",
    "mp(16, 'tomato','cheese')\n",
    "\n",
    "import pizza as p\n",
    "p.make_pizza(16, 'shrimp','pineapple')\n",
    "\n",
    "from pizza import *\n",
    "make_pizza(12, 'shrimp')"
   ]
  }
 ],
 "metadata": {
  "kernelspec": {
   "display_name": "Python 3 (ipykernel)",
   "language": "python",
   "name": "python3"
  },
  "language_info": {
   "codemirror_mode": {
    "name": "ipython",
    "version": 3
   },
   "file_extension": ".py",
   "mimetype": "text/x-python",
   "name": "python",
   "nbconvert_exporter": "python",
   "pygments_lexer": "ipython3",
   "version": "3.11.5"
  }
 },
 "nbformat": 4,
 "nbformat_minor": 5
}
