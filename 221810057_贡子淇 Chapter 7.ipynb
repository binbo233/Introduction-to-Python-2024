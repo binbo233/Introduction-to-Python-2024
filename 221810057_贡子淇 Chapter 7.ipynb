{
 "cells": [
  {
   "cell_type": "markdown",
   "id": "c9b4a464",
   "metadata": {},
   "source": [
    "# 7.1 input()函数的工作原理"
   ]
  },
  {
   "cell_type": "code",
   "execution_count": 1,
   "id": "c84e517c",
   "metadata": {},
   "outputs": [
    {
     "name": "stdout",
     "output_type": "stream",
     "text": [
      "Tell me something, and I will repeat it back to you:Hello everyone!\n",
      "Hello everyone!\n"
     ]
    }
   ],
   "source": [
    "#input() 函数让程序暂停运行，等待用户输入一些文本\n",
    "#input() 函数接受一个参数，即要向用户显示的提示（prompt），让用户知道该输入什么样的信息。\n",
    "message = input(\"Tell me something, and I will repeat it back to you:\")\n",
    "print(message)"
   ]
  },
  {
   "cell_type": "markdown",
   "id": "5e011a7e",
   "metadata": {},
   "source": [
    "# 7.1.1 编写清晰的提示"
   ]
  },
  {
   "cell_type": "code",
   "execution_count": 2,
   "id": "6bcdcb2b",
   "metadata": {},
   "outputs": [
    {
     "name": "stdout",
     "output_type": "stream",
     "text": [
      "Please enter your name: GZQ\n",
      "\n",
      "Hello, GZQ!\n"
     ]
    }
   ],
   "source": [
    "#指定清晰易懂的提示，准确地指出希望用户提供什么样的信息\n",
    "name = input(\"Please enter your name: \")\n",
    "print(f\"\\nHello, {name}!\")"
   ]
  },
  {
   "cell_type": "code",
   "execution_count": 3,
   "id": "cf59fac6",
   "metadata": {},
   "outputs": [
    {
     "name": "stdout",
     "output_type": "stream",
     "text": [
      "If you share your name, we can personalize the messages you see.\n",
      "What is your first name?GZQ\n",
      "\n",
      "Hello, GZQ!\n"
     ]
    }
   ],
   "source": [
    "prompt = \"If you share your name, we can personalize the messages you see.\"\n",
    "prompt +=\"\\nWhat is your first name?\"  #运算符 += 在赋给变量 prompt 的字符串末尾追加一个字符串\n",
    "\n",
    "name = input(prompt)\n",
    "print(f\"\\nHello, {name}!\")"
   ]
  },
  {
   "cell_type": "markdown",
   "id": "2669de6a",
   "metadata": {},
   "source": [
    "# 7.1.2 使用int()来获取数值输入"
   ]
  },
  {
   "cell_type": "code",
   "execution_count": 4,
   "id": "06fab5eb",
   "metadata": {},
   "outputs": [
    {
     "name": "stdout",
     "output_type": "stream",
     "text": [
      "How old are you?20\n"
     ]
    },
    {
     "data": {
      "text/plain": [
       "'20'"
      ]
     },
     "execution_count": 4,
     "metadata": {},
     "output_type": "execute_result"
    }
   ],
   "source": [
    "#在使用 input() 函数时，Python 会将用户输入解读为字符串\n",
    "age = input(\"How old are you?\")\n",
    "age"
   ]
  },
  {
   "cell_type": "code",
   "execution_count": 5,
   "id": "2767830e",
   "metadata": {},
   "outputs": [
    {
     "name": "stdout",
     "output_type": "stream",
     "text": [
      "How old are you?20\n"
     ]
    },
    {
     "ename": "TypeError",
     "evalue": "'>=' not supported between instances of 'str' and 'int'",
     "output_type": "error",
     "traceback": [
      "\u001b[1;31m---------------------------------------------------------------------------\u001b[0m",
      "\u001b[1;31mTypeError\u001b[0m                                 Traceback (most recent call last)",
      "Cell \u001b[1;32mIn[5], line 2\u001b[0m\n\u001b[0;32m      1\u001b[0m age \u001b[38;5;241m=\u001b[39m \u001b[38;5;28minput\u001b[39m(\u001b[38;5;124m\"\u001b[39m\u001b[38;5;124mHow old are you?\u001b[39m\u001b[38;5;124m\"\u001b[39m)\n\u001b[1;32m----> 2\u001b[0m age \u001b[38;5;241m>\u001b[39m\u001b[38;5;241m=\u001b[39m \u001b[38;5;241m18\u001b[39m\n",
      "\u001b[1;31mTypeError\u001b[0m: '>=' not supported between instances of 'str' and 'int'"
     ]
    }
   ],
   "source": [
    "age = input(\"How old are you?\")\n",
    "age >= 18\n",
    "#将输入作为数来使用，引发错误"
   ]
  },
  {
   "cell_type": "code",
   "execution_count": 6,
   "id": "613361b2",
   "metadata": {},
   "outputs": [
    {
     "name": "stdout",
     "output_type": "stream",
     "text": [
      "How old are you? 20\n"
     ]
    },
    {
     "data": {
      "text/plain": [
       "True"
      ]
     },
     "execution_count": 6,
     "metadata": {},
     "output_type": "execute_result"
    }
   ],
   "source": [
    "age = input(\"How old are you? \")\n",
    "\n",
    "#使用函数 int() 将输入的字符串转换为数值\n",
    "age = int(age)\n",
    "age >= 18"
   ]
  },
  {
   "cell_type": "code",
   "execution_count": 7,
   "id": "ec6f96c2",
   "metadata": {},
   "outputs": [
    {
     "name": "stdout",
     "output_type": "stream",
     "text": [
      "How tall are you, in inshes? 71\n",
      "\n",
      "You're tall enough to ride!\n"
     ]
    }
   ],
   "source": [
    "height = input(\"How tall are you, in inshes? \")\n",
    "##使用函数 int() 将输入的字符串转换为数值\n",
    "height = int(height)\n",
    "\n",
    "if height >= 48:\n",
    "    print(\"\\nYou're tall enough to ride!\")\n",
    "else:\n",
    "    print(\"\\nYou'll be able to ride when you're a little older.\")"
   ]
  },
  {
   "cell_type": "markdown",
   "id": "dd1170ba",
   "metadata": {},
   "source": [
    "# 7.1.3 求模运算符"
   ]
  },
  {
   "cell_type": "code",
   "execution_count": 8,
   "id": "13e684b7",
   "metadata": {},
   "outputs": [
    {
     "name": "stdout",
     "output_type": "stream",
     "text": [
      "1\n",
      "2\n",
      "0\n",
      "1\n"
     ]
    }
   ],
   "source": [
    "#求模运算符（%）将两个数相除并返回余数\n",
    "print(4 % 3)\n",
    "print(5 % 3)\n",
    "print(6 % 3)\n",
    "print(7 % 3)"
   ]
  },
  {
   "cell_type": "code",
   "execution_count": 9,
   "id": "6fc28eb4",
   "metadata": {},
   "outputs": [
    {
     "name": "stdout",
     "output_type": "stream",
     "text": [
      "Enter a number, and I'll tell you if it's even or odd: 42\n",
      "\n",
      "The number 42 is even.\n"
     ]
    }
   ],
   "source": [
    "number = input(\"Enter a number, and I'll tell you if it's even or odd: \")\n",
    "number = int(number)\n",
    "\n",
    "#判断一个数是奇数还是偶数\n",
    "if number % 2 == 0:\n",
    "    print(f\"\\nThe number {number} is even.\")\n",
    "else:\n",
    "    print(f\"\\nThe number {number} is odd.\")"
   ]
  },
  {
   "cell_type": "markdown",
   "id": "b22e981c",
   "metadata": {},
   "source": [
    "# 7.2.1 使用while循环"
   ]
  },
  {
   "cell_type": "code",
   "execution_count": 1,
   "id": "a69bc747",
   "metadata": {},
   "outputs": [
    {
     "name": "stdout",
     "output_type": "stream",
     "text": [
      "1\n",
      "2\n",
      "3\n",
      "4\n",
      "5\n"
     ]
    }
   ],
   "source": [
    "current_number = 1\n",
    "#使用 while 循环来数数\n",
    "while current_number <= 5:\n",
    "    print(current_number)\n",
    "    current_number += 1"
   ]
  },
  {
   "cell_type": "markdown",
   "id": "0e61461b",
   "metadata": {},
   "source": [
    "# 7.2.2 让用户选择何时退出"
   ]
  },
  {
   "cell_type": "code",
   "execution_count": 2,
   "id": "634ca52d",
   "metadata": {},
   "outputs": [
    {
     "name": "stdout",
     "output_type": "stream",
     "text": [
      "\n",
      "Tell me something, and I will repeat it back to you: \n",
      "Enter 'quit' to end the program. Hello everyone!\n",
      "Hello everyone!\n",
      "\n",
      "Tell me something, and I will repeat it back to you: \n",
      "Enter 'quit' to end the program. Hello again.\n",
      "Hello again.\n",
      "\n",
      "Tell me something, and I will repeat it back to you: \n",
      "Enter 'quit' to end the program. quit\n",
      "quit\n"
     ]
    }
   ],
   "source": [
    "prompt = \"\\nTell me something, and I will repeat it back to you: \"\n",
    "prompt += \"\\nEnter 'quit' to end the program. \"\n",
    "\n",
    "message = \"\"\n",
    "#可以使用 while 循环让程序在用户愿意时不断地运行\n",
    "#定义一个退出值，只要用户输入的不是这个值，程序就将一直运行\n",
    "while message != 'quit':\n",
    "    message = input(prompt)\n",
    "    print(message)"
   ]
  },
  {
   "cell_type": "code",
   "execution_count": 3,
   "id": "4019fee4",
   "metadata": {},
   "outputs": [
    {
     "name": "stdout",
     "output_type": "stream",
     "text": [
      "\n",
      "Tell me something, and I will repeat it back to you: \n",
      "Enter 'quit' to end the program. Hello everyone!\n",
      "Hello everyone!\n",
      "\n",
      "Tell me something, and I will repeat it back to you: \n",
      "Enter 'quit' to end the program. Hello again.\n",
      "Hello again.\n",
      "\n",
      "Tell me something, and I will repeat it back to you: \n",
      "Enter 'quit' to end the program. quit\n"
     ]
    }
   ],
   "source": [
    "prompt = \"\\nTell me something, and I will repeat it back to you: \"\n",
    "prompt += \"\\nEnter 'quit' to end the program. \"\n",
    "\n",
    "message = \"\"\n",
    "#修复将单词 'quit' 也作为一条消息打印了出来的问题\n",
    "while message != 'quit':\n",
    "    message = input(prompt)\n",
    "    \n",
    "    if message !=  'quit':\n",
    "        print(message)"
   ]
  },
  {
   "cell_type": "markdown",
   "id": "0a10432d",
   "metadata": {},
   "source": [
    "# 7.2.3 使用标志"
   ]
  },
  {
   "cell_type": "code",
   "execution_count": 4,
   "id": "bf4e381c",
   "metadata": {},
   "outputs": [
    {
     "name": "stdout",
     "output_type": "stream",
     "text": [
      "\n",
      "Tell me something, and I will repeat it back to you: \n",
      "Enter 'quit' to end the program. Hello!\n",
      "Hello!\n",
      "\n",
      "Tell me something, and I will repeat it back to you: \n",
      "Enter 'quit' to end the program. quit\n"
     ]
    }
   ],
   "source": [
    "prompt = \"\\nTell me something, and I will repeat it back to you: \"\n",
    "prompt += \"\\nEnter 'quit' to end the program. \"\n",
    "\n",
    "#让程序在标志为 True 时继续运行，并在任何事件导致标志的值为 False 时让程序停止运行\n",
    "active = True\n",
    "while active:\n",
    "    message = input(prompt)\n",
    "    \n",
    "    if message == 'quit':\n",
    "        active = False\n",
    "    else:\n",
    "        print(message)"
   ]
  },
  {
   "cell_type": "markdown",
   "id": "256d1136",
   "metadata": {},
   "source": [
    "# 7.2.4 使用break退出循环"
   ]
  },
  {
   "cell_type": "code",
   "execution_count": 5,
   "id": "efaa046d",
   "metadata": {},
   "outputs": [
    {
     "name": "stdout",
     "output_type": "stream",
     "text": [
      "\n",
      "Please enter the name of a city you have visited: \n",
      "(Enter 'quit' when you are finished. )New York\n",
      "I'd love to go to New York!\n",
      "\n",
      "Please enter the name of a city you have visited: \n",
      "(Enter 'quit' when you are finished. )San Francisco\n",
      "I'd love to go to San Francisco!\n",
      "\n",
      "Please enter the name of a city you have visited: \n",
      "(Enter 'quit' when you are finished. )quit\n"
     ]
    }
   ],
   "source": [
    "prompt = \"\\nPlease enter the name of a city you have visited: \"\n",
    "prompt +=\"\\n(Enter 'quit' when you are finished. )\" \n",
    "\n",
    "#想立即退出 while 循环，不再运行循环中余下的代码，可使用 break 语句\n",
    "while True:\n",
    "    city = input(prompt)\n",
    "    if city == 'quit':\n",
    "        break\n",
    "    else:\n",
    "        print(f\"I'd love to go to {city.title()}!\")"
   ]
  },
  {
   "cell_type": "markdown",
   "id": "5d6fc779",
   "metadata": {},
   "source": [
    "# 7.2.5 在循环中使用continue"
   ]
  },
  {
   "cell_type": "code",
   "execution_count": 6,
   "id": "5aaa9bbb",
   "metadata": {},
   "outputs": [
    {
     "name": "stdout",
     "output_type": "stream",
     "text": [
      "1\n",
      "3\n",
      "5\n",
      "7\n",
      "9\n"
     ]
    }
   ],
   "source": [
    "current_number = 0\n",
    "while current_number < 10:\n",
    "    current_number += 1\n",
    "    if current_number % 2 == 0:\n",
    "        continue    #要返回循环开头，并根据条件测试的结果决定是否继续执行循环，可使用 continue 语句\n",
    "        \n",
    "    print(current_number)"
   ]
  },
  {
   "cell_type": "markdown",
   "id": "2fb372c4",
   "metadata": {},
   "source": [
    "# 7.2.6 避免无限循环"
   ]
  },
  {
   "cell_type": "code",
   "execution_count": null,
   "id": "b9b79182",
   "metadata": {},
   "outputs": [],
   "source": [
    "#无限循环案例\n",
    "x = 1\n",
    "while x <= 5:\n",
    "    print(x)"
   ]
  },
  {
   "cell_type": "markdown",
   "id": "821de7b2",
   "metadata": {},
   "source": [
    "# 7.3 使用while循环处理列表和字典"
   ]
  },
  {
   "cell_type": "markdown",
   "id": "5a75d7c3",
   "metadata": {},
   "source": [
    "# 7.3.1 在列表之间移动元素"
   ]
  },
  {
   "cell_type": "code",
   "execution_count": 10,
   "id": "310a4d38",
   "metadata": {},
   "outputs": [
    {
     "name": "stdout",
     "output_type": "stream",
     "text": [
      "Verifying user: Candace\n",
      "Verifying user: Brian\n",
      "Verifying user: Alice\n",
      "\n",
      "The following users hve been confirmed: \n",
      "Candace\n",
      "Brian\n",
      "Alice\n"
     ]
    }
   ],
   "source": [
    "#创建一个待验证用户列表和一个用于存储已验证用户的空列表\n",
    "unconfirmed_users = ['alice', 'brian', 'candace']\n",
    "confirmed_users = []\n",
    "\n",
    "#验证每个用户，直到没有未验证的用户为止\n",
    "#将每个经过验证的用户都移到已验证用户列表中\n",
    "while unconfirmed_users:\n",
    "    current_user = unconfirmed_users.pop()\n",
    "    print(f\"Verifying user: {current_user.title()}\")\n",
    "    confirmed_users.append(current_user)\n",
    "    \n",
    "#显示所有已验证用户\n",
    "print(\"\\nThe following users hve been confirmed: \")\n",
    "for confirmed_user in confirmed_users:\n",
    "    print(confirmed_user.title())"
   ]
  },
  {
   "cell_type": "markdown",
   "id": "6b97630e",
   "metadata": {},
   "source": [
    "# 7.3.2 删除为特定值的所有列表元素"
   ]
  },
  {
   "cell_type": "code",
   "execution_count": 12,
   "id": "4a00dfc2",
   "metadata": {},
   "outputs": [
    {
     "name": "stdout",
     "output_type": "stream",
     "text": [
      "['dog', 'cat', 'dog', 'goldfish', 'cat', 'rabbit', 'cat']\n",
      "['dog', 'dog', 'goldfish', 'rabbit']\n"
     ]
    }
   ],
   "source": [
    "pets = ['dog', 'cat', 'dog', 'goldfish', 'cat', 'rabbit', 'cat']\n",
    "print(pets)\n",
    "\n",
    "#不断运行一个 while 循环，直到列表中不再包含值 'cat'\n",
    "while 'cat' in pets:\n",
    "    pets.remove('cat')\n",
    "    \n",
    "print(pets)"
   ]
  },
  {
   "cell_type": "markdown",
   "id": "176571d3",
   "metadata": {},
   "source": [
    "# 7.3.3 使用用户输入填充字典"
   ]
  },
  {
   "cell_type": "code",
   "execution_count": 1,
   "id": "de11101e",
   "metadata": {},
   "outputs": [
    {
     "name": "stdout",
     "output_type": "stream",
     "text": [
      "\n",
      "What is you name? Eric\n",
      "Which moountain would you like to climb someday? Denali\n",
      "Would you like to let another person respond? (yes/no) yes\n",
      "\n",
      "What is you name? Lynn\n",
      "Which moountain would you like to climb someday? Devil's Thumb\n",
      "Would you like to let another person respond? (yes/no) no\n",
      "\n",
      "- - - Poll Results - - -\n",
      "Eric would like to climb Denali.\n",
      "Lynn would like to climb Devil's Thumb.\n"
     ]
    }
   ],
   "source": [
    "responses = {}\n",
    "#设置一个标志，指出调查是否继续\n",
    "polling_active = True\n",
    "\n",
    "while polling_active:\n",
    "    #提示输入被调查者的名字和问答\n",
    "    name = input(\"\\nWhat is you name? \")\n",
    "    response = input(\"Which moountain would you like to climb someday? \")\n",
    "    \n",
    "    #将问答存储在字典中\n",
    "    responses[name] = response\n",
    "    \n",
    "    #看看是否还有人要参与调查\n",
    "    repeat = input(\"Would you like to let another person respond? (yes/no) \")\n",
    "    if repeat == 'no':\n",
    "        polling_active = False\n",
    "        \n",
    "#调查结束，显示结果\n",
    "print(\"\\n- - - Poll Results - - -\")\n",
    "for name, response in responses.items():\n",
    "    print(f\"{name} would like to climb {response}.\")"
   ]
  }
 ],
 "metadata": {
  "kernelspec": {
   "display_name": "Python 3 (ipykernel)",
   "language": "python",
   "name": "python3"
  },
  "language_info": {
   "codemirror_mode": {
    "name": "ipython",
    "version": 3
   },
   "file_extension": ".py",
   "mimetype": "text/x-python",
   "name": "python",
   "nbconvert_exporter": "python",
   "pygments_lexer": "ipython3",
   "version": "3.11.5"
  },
  "toc": {
   "base_numbering": 1,
   "nav_menu": {},
   "number_sections": true,
   "sideBar": true,
   "skip_h1_title": false,
   "title_cell": "Table of Contents",
   "title_sidebar": "Contents",
   "toc_cell": false,
   "toc_position": {},
   "toc_section_display": true,
   "toc_window_display": false
  }
 },
 "nbformat": 4,
 "nbformat_minor": 5
}
